{
  "cells": [
    {
      "cell_type": "code",
      "execution_count": 1,
      "metadata": {
        "colab": {
          "base_uri": "https://localhost:8080/"
        },
        "id": "Hu5o5hICJuzL",
        "outputId": "54e3fa27-ed2f-487c-f051-7187bb8f795d"
      },
      "outputs": [
        {
          "output_type": "stream",
          "name": "stdout",
          "text": [
            "Mounted at /content/drive\n"
          ]
        }
      ],
      "source": [
        "from google.colab import drive\n",
        "drive.mount('/content/drive')"
      ]
    },
    {
      "cell_type": "code",
      "execution_count": 3,
      "metadata": {
        "id": "9vgDKOEyJ8rV"
      },
      "outputs": [],
      "source": [
        "# Display numbers in 2 decimal places\n",
        "# Source: https://stackoverflow.com/questions/658763/how-to-suppress-scientific-notation-when-printing-float-values\n",
        "import pandas as pd\n",
        "pd.options.display.float_format = '{:.2f}'.format"
      ]
    },
    {
      "cell_type": "code",
      "execution_count": null,
      "metadata": {
        "colab": {
          "base_uri": "https://localhost:8080/",
          "height": 307
        },
        "id": "bAqAtO8tJ9oS",
        "outputId": "0a41920e-8769-4853-d651-7a4c18bd0504"
      },
      "outputs": [
        {
          "output_type": "execute_result",
          "data": {
            "text/plain": [
              "   Station Id  Check-Outs  Check-Ins  Year  Month  Day  Hour  Temp (°C)  \\\n",
              "0        7000           0          1  2019      1    1     1       4.40   \n",
              "1        7000           0          2  2019      1    1     2       2.40   \n",
              "2        7000           2          0  2019      1    1     7       1.30   \n",
              "3        7000           3          0  2019      1    1    11      -1.00   \n",
              "4        7000           4          0  2019      1    1    15      -1.70   \n",
              "\n",
              "   Dew Point Temp (°C)  Rel Hum (%)  ...  Wind Spd (km/h)  Visibility (km)  \\\n",
              "0                 3.60        94.00  ...             7.00             9.70   \n",
              "1                 1.50        94.00  ...            35.00             9.70   \n",
              "2                -1.00        84.00  ...            27.00            24.10   \n",
              "3                -5.00        75.00  ...            28.00            24.10   \n",
              "4                -7.30        66.00  ...            25.00            24.10   \n",
              "\n",
              "   Stn Press (kPa)  Smoke  Rain-related  Snow-related  Clear/Cloudy  \\\n",
              "0            97.32      0             0             0             0   \n",
              "1            97.54      0             1             0             0   \n",
              "2            99.04      0             0             0             1   \n",
              "3            99.77      0             0             0             1   \n",
              "4           100.10      0             0             0             1   \n",
              "\n",
              "   Obstructive  Freezing  Extreme  \n",
              "0            1         0        0  \n",
              "1            1         0        0  \n",
              "2            0         0        0  \n",
              "3            0         0        0  \n",
              "4            0         0        0  \n",
              "\n",
              "[5 rows x 21 columns]"
            ],
            "text/html": [
              "\n",
              "  <div id=\"df-d1c72aaf-50e4-4514-9922-2f243ab934ef\" class=\"colab-df-container\">\n",
              "    <div>\n",
              "<style scoped>\n",
              "    .dataframe tbody tr th:only-of-type {\n",
              "        vertical-align: middle;\n",
              "    }\n",
              "\n",
              "    .dataframe tbody tr th {\n",
              "        vertical-align: top;\n",
              "    }\n",
              "\n",
              "    .dataframe thead th {\n",
              "        text-align: right;\n",
              "    }\n",
              "</style>\n",
              "<table border=\"1\" class=\"dataframe\">\n",
              "  <thead>\n",
              "    <tr style=\"text-align: right;\">\n",
              "      <th></th>\n",
              "      <th>Station Id</th>\n",
              "      <th>Check-Outs</th>\n",
              "      <th>Check-Ins</th>\n",
              "      <th>Year</th>\n",
              "      <th>Month</th>\n",
              "      <th>Day</th>\n",
              "      <th>Hour</th>\n",
              "      <th>Temp (°C)</th>\n",
              "      <th>Dew Point Temp (°C)</th>\n",
              "      <th>Rel Hum (%)</th>\n",
              "      <th>...</th>\n",
              "      <th>Wind Spd (km/h)</th>\n",
              "      <th>Visibility (km)</th>\n",
              "      <th>Stn Press (kPa)</th>\n",
              "      <th>Smoke</th>\n",
              "      <th>Rain-related</th>\n",
              "      <th>Snow-related</th>\n",
              "      <th>Clear/Cloudy</th>\n",
              "      <th>Obstructive</th>\n",
              "      <th>Freezing</th>\n",
              "      <th>Extreme</th>\n",
              "    </tr>\n",
              "  </thead>\n",
              "  <tbody>\n",
              "    <tr>\n",
              "      <th>0</th>\n",
              "      <td>7000</td>\n",
              "      <td>0</td>\n",
              "      <td>1</td>\n",
              "      <td>2019</td>\n",
              "      <td>1</td>\n",
              "      <td>1</td>\n",
              "      <td>1</td>\n",
              "      <td>4.40</td>\n",
              "      <td>3.60</td>\n",
              "      <td>94.00</td>\n",
              "      <td>...</td>\n",
              "      <td>7.00</td>\n",
              "      <td>9.70</td>\n",
              "      <td>97.32</td>\n",
              "      <td>0</td>\n",
              "      <td>0</td>\n",
              "      <td>0</td>\n",
              "      <td>0</td>\n",
              "      <td>1</td>\n",
              "      <td>0</td>\n",
              "      <td>0</td>\n",
              "    </tr>\n",
              "    <tr>\n",
              "      <th>1</th>\n",
              "      <td>7000</td>\n",
              "      <td>0</td>\n",
              "      <td>2</td>\n",
              "      <td>2019</td>\n",
              "      <td>1</td>\n",
              "      <td>1</td>\n",
              "      <td>2</td>\n",
              "      <td>2.40</td>\n",
              "      <td>1.50</td>\n",
              "      <td>94.00</td>\n",
              "      <td>...</td>\n",
              "      <td>35.00</td>\n",
              "      <td>9.70</td>\n",
              "      <td>97.54</td>\n",
              "      <td>0</td>\n",
              "      <td>1</td>\n",
              "      <td>0</td>\n",
              "      <td>0</td>\n",
              "      <td>1</td>\n",
              "      <td>0</td>\n",
              "      <td>0</td>\n",
              "    </tr>\n",
              "    <tr>\n",
              "      <th>2</th>\n",
              "      <td>7000</td>\n",
              "      <td>2</td>\n",
              "      <td>0</td>\n",
              "      <td>2019</td>\n",
              "      <td>1</td>\n",
              "      <td>1</td>\n",
              "      <td>7</td>\n",
              "      <td>1.30</td>\n",
              "      <td>-1.00</td>\n",
              "      <td>84.00</td>\n",
              "      <td>...</td>\n",
              "      <td>27.00</td>\n",
              "      <td>24.10</td>\n",
              "      <td>99.04</td>\n",
              "      <td>0</td>\n",
              "      <td>0</td>\n",
              "      <td>0</td>\n",
              "      <td>1</td>\n",
              "      <td>0</td>\n",
              "      <td>0</td>\n",
              "      <td>0</td>\n",
              "    </tr>\n",
              "    <tr>\n",
              "      <th>3</th>\n",
              "      <td>7000</td>\n",
              "      <td>3</td>\n",
              "      <td>0</td>\n",
              "      <td>2019</td>\n",
              "      <td>1</td>\n",
              "      <td>1</td>\n",
              "      <td>11</td>\n",
              "      <td>-1.00</td>\n",
              "      <td>-5.00</td>\n",
              "      <td>75.00</td>\n",
              "      <td>...</td>\n",
              "      <td>28.00</td>\n",
              "      <td>24.10</td>\n",
              "      <td>99.77</td>\n",
              "      <td>0</td>\n",
              "      <td>0</td>\n",
              "      <td>0</td>\n",
              "      <td>1</td>\n",
              "      <td>0</td>\n",
              "      <td>0</td>\n",
              "      <td>0</td>\n",
              "    </tr>\n",
              "    <tr>\n",
              "      <th>4</th>\n",
              "      <td>7000</td>\n",
              "      <td>4</td>\n",
              "      <td>0</td>\n",
              "      <td>2019</td>\n",
              "      <td>1</td>\n",
              "      <td>1</td>\n",
              "      <td>15</td>\n",
              "      <td>-1.70</td>\n",
              "      <td>-7.30</td>\n",
              "      <td>66.00</td>\n",
              "      <td>...</td>\n",
              "      <td>25.00</td>\n",
              "      <td>24.10</td>\n",
              "      <td>100.10</td>\n",
              "      <td>0</td>\n",
              "      <td>0</td>\n",
              "      <td>0</td>\n",
              "      <td>1</td>\n",
              "      <td>0</td>\n",
              "      <td>0</td>\n",
              "      <td>0</td>\n",
              "    </tr>\n",
              "  </tbody>\n",
              "</table>\n",
              "<p>5 rows × 21 columns</p>\n",
              "</div>\n",
              "    <div class=\"colab-df-buttons\">\n",
              "\n",
              "  <div class=\"colab-df-container\">\n",
              "    <button class=\"colab-df-convert\" onclick=\"convertToInteractive('df-d1c72aaf-50e4-4514-9922-2f243ab934ef')\"\n",
              "            title=\"Convert this dataframe to an interactive table.\"\n",
              "            style=\"display:none;\">\n",
              "\n",
              "  <svg xmlns=\"http://www.w3.org/2000/svg\" height=\"24px\" viewBox=\"0 -960 960 960\">\n",
              "    <path d=\"M120-120v-720h720v720H120Zm60-500h600v-160H180v160Zm220 220h160v-160H400v160Zm0 220h160v-160H400v160ZM180-400h160v-160H180v160Zm440 0h160v-160H620v160ZM180-180h160v-160H180v160Zm440 0h160v-160H620v160Z\"/>\n",
              "  </svg>\n",
              "    </button>\n",
              "\n",
              "  <style>\n",
              "    .colab-df-container {\n",
              "      display:flex;\n",
              "      gap: 12px;\n",
              "    }\n",
              "\n",
              "    .colab-df-convert {\n",
              "      background-color: #E8F0FE;\n",
              "      border: none;\n",
              "      border-radius: 50%;\n",
              "      cursor: pointer;\n",
              "      display: none;\n",
              "      fill: #1967D2;\n",
              "      height: 32px;\n",
              "      padding: 0 0 0 0;\n",
              "      width: 32px;\n",
              "    }\n",
              "\n",
              "    .colab-df-convert:hover {\n",
              "      background-color: #E2EBFA;\n",
              "      box-shadow: 0px 1px 2px rgba(60, 64, 67, 0.3), 0px 1px 3px 1px rgba(60, 64, 67, 0.15);\n",
              "      fill: #174EA6;\n",
              "    }\n",
              "\n",
              "    .colab-df-buttons div {\n",
              "      margin-bottom: 4px;\n",
              "    }\n",
              "\n",
              "    [theme=dark] .colab-df-convert {\n",
              "      background-color: #3B4455;\n",
              "      fill: #D2E3FC;\n",
              "    }\n",
              "\n",
              "    [theme=dark] .colab-df-convert:hover {\n",
              "      background-color: #434B5C;\n",
              "      box-shadow: 0px 1px 3px 1px rgba(0, 0, 0, 0.15);\n",
              "      filter: drop-shadow(0px 1px 2px rgba(0, 0, 0, 0.3));\n",
              "      fill: #FFFFFF;\n",
              "    }\n",
              "  </style>\n",
              "\n",
              "    <script>\n",
              "      const buttonEl =\n",
              "        document.querySelector('#df-d1c72aaf-50e4-4514-9922-2f243ab934ef button.colab-df-convert');\n",
              "      buttonEl.style.display =\n",
              "        google.colab.kernel.accessAllowed ? 'block' : 'none';\n",
              "\n",
              "      async function convertToInteractive(key) {\n",
              "        const element = document.querySelector('#df-d1c72aaf-50e4-4514-9922-2f243ab934ef');\n",
              "        const dataTable =\n",
              "          await google.colab.kernel.invokeFunction('convertToInteractive',\n",
              "                                                    [key], {});\n",
              "        if (!dataTable) return;\n",
              "\n",
              "        const docLinkHtml = 'Like what you see? Visit the ' +\n",
              "          '<a target=\"_blank\" href=https://colab.research.google.com/notebooks/data_table.ipynb>data table notebook</a>'\n",
              "          + ' to learn more about interactive tables.';\n",
              "        element.innerHTML = '';\n",
              "        dataTable['output_type'] = 'display_data';\n",
              "        await google.colab.output.renderOutput(dataTable, element);\n",
              "        const docLink = document.createElement('div');\n",
              "        docLink.innerHTML = docLinkHtml;\n",
              "        element.appendChild(docLink);\n",
              "      }\n",
              "    </script>\n",
              "  </div>\n",
              "\n",
              "\n",
              "<div id=\"df-dedab47c-9fbb-431e-ad89-bb14444d3803\">\n",
              "  <button class=\"colab-df-quickchart\" onclick=\"quickchart('df-dedab47c-9fbb-431e-ad89-bb14444d3803')\"\n",
              "            title=\"Suggest charts\"\n",
              "            style=\"display:none;\">\n",
              "\n",
              "<svg xmlns=\"http://www.w3.org/2000/svg\" height=\"24px\"viewBox=\"0 0 24 24\"\n",
              "     width=\"24px\">\n",
              "    <g>\n",
              "        <path d=\"M19 3H5c-1.1 0-2 .9-2 2v14c0 1.1.9 2 2 2h14c1.1 0 2-.9 2-2V5c0-1.1-.9-2-2-2zM9 17H7v-7h2v7zm4 0h-2V7h2v10zm4 0h-2v-4h2v4z\"/>\n",
              "    </g>\n",
              "</svg>\n",
              "  </button>\n",
              "\n",
              "<style>\n",
              "  .colab-df-quickchart {\n",
              "      --bg-color: #E8F0FE;\n",
              "      --fill-color: #1967D2;\n",
              "      --hover-bg-color: #E2EBFA;\n",
              "      --hover-fill-color: #174EA6;\n",
              "      --disabled-fill-color: #AAA;\n",
              "      --disabled-bg-color: #DDD;\n",
              "  }\n",
              "\n",
              "  [theme=dark] .colab-df-quickchart {\n",
              "      --bg-color: #3B4455;\n",
              "      --fill-color: #D2E3FC;\n",
              "      --hover-bg-color: #434B5C;\n",
              "      --hover-fill-color: #FFFFFF;\n",
              "      --disabled-bg-color: #3B4455;\n",
              "      --disabled-fill-color: #666;\n",
              "  }\n",
              "\n",
              "  .colab-df-quickchart {\n",
              "    background-color: var(--bg-color);\n",
              "    border: none;\n",
              "    border-radius: 50%;\n",
              "    cursor: pointer;\n",
              "    display: none;\n",
              "    fill: var(--fill-color);\n",
              "    height: 32px;\n",
              "    padding: 0;\n",
              "    width: 32px;\n",
              "  }\n",
              "\n",
              "  .colab-df-quickchart:hover {\n",
              "    background-color: var(--hover-bg-color);\n",
              "    box-shadow: 0 1px 2px rgba(60, 64, 67, 0.3), 0 1px 3px 1px rgba(60, 64, 67, 0.15);\n",
              "    fill: var(--button-hover-fill-color);\n",
              "  }\n",
              "\n",
              "  .colab-df-quickchart-complete:disabled,\n",
              "  .colab-df-quickchart-complete:disabled:hover {\n",
              "    background-color: var(--disabled-bg-color);\n",
              "    fill: var(--disabled-fill-color);\n",
              "    box-shadow: none;\n",
              "  }\n",
              "\n",
              "  .colab-df-spinner {\n",
              "    border: 2px solid var(--fill-color);\n",
              "    border-color: transparent;\n",
              "    border-bottom-color: var(--fill-color);\n",
              "    animation:\n",
              "      spin 1s steps(1) infinite;\n",
              "  }\n",
              "\n",
              "  @keyframes spin {\n",
              "    0% {\n",
              "      border-color: transparent;\n",
              "      border-bottom-color: var(--fill-color);\n",
              "      border-left-color: var(--fill-color);\n",
              "    }\n",
              "    20% {\n",
              "      border-color: transparent;\n",
              "      border-left-color: var(--fill-color);\n",
              "      border-top-color: var(--fill-color);\n",
              "    }\n",
              "    30% {\n",
              "      border-color: transparent;\n",
              "      border-left-color: var(--fill-color);\n",
              "      border-top-color: var(--fill-color);\n",
              "      border-right-color: var(--fill-color);\n",
              "    }\n",
              "    40% {\n",
              "      border-color: transparent;\n",
              "      border-right-color: var(--fill-color);\n",
              "      border-top-color: var(--fill-color);\n",
              "    }\n",
              "    60% {\n",
              "      border-color: transparent;\n",
              "      border-right-color: var(--fill-color);\n",
              "    }\n",
              "    80% {\n",
              "      border-color: transparent;\n",
              "      border-right-color: var(--fill-color);\n",
              "      border-bottom-color: var(--fill-color);\n",
              "    }\n",
              "    90% {\n",
              "      border-color: transparent;\n",
              "      border-bottom-color: var(--fill-color);\n",
              "    }\n",
              "  }\n",
              "</style>\n",
              "\n",
              "  <script>\n",
              "    async function quickchart(key) {\n",
              "      const quickchartButtonEl =\n",
              "        document.querySelector('#' + key + ' button');\n",
              "      quickchartButtonEl.disabled = true;  // To prevent multiple clicks.\n",
              "      quickchartButtonEl.classList.add('colab-df-spinner');\n",
              "      try {\n",
              "        const charts = await google.colab.kernel.invokeFunction(\n",
              "            'suggestCharts', [key], {});\n",
              "      } catch (error) {\n",
              "        console.error('Error during call to suggestCharts:', error);\n",
              "      }\n",
              "      quickchartButtonEl.classList.remove('colab-df-spinner');\n",
              "      quickchartButtonEl.classList.add('colab-df-quickchart-complete');\n",
              "    }\n",
              "    (() => {\n",
              "      let quickchartButtonEl =\n",
              "        document.querySelector('#df-dedab47c-9fbb-431e-ad89-bb14444d3803 button');\n",
              "      quickchartButtonEl.style.display =\n",
              "        google.colab.kernel.accessAllowed ? 'block' : 'none';\n",
              "    })();\n",
              "  </script>\n",
              "</div>\n",
              "\n",
              "    </div>\n",
              "  </div>\n"
            ],
            "application/vnd.google.colaboratory.intrinsic+json": {
              "type": "dataframe",
              "variable_name": "df"
            }
          },
          "metadata": {},
          "execution_count": 3
        }
      ],
      "source": [
        "# Load Preprocessed Dataset\n",
        "df = pd.read_csv('/content/drive/MyDrive/Research - Summer 2024/ridership_with_weather_dataset_preprocessed.csv')\n",
        "df.head()"
      ]
    },
    {
      "cell_type": "markdown",
      "metadata": {
        "id": "5DfKCcABKXkj"
      },
      "source": [
        "Filter top 15 stations and remove previously decided unwanted features"
      ]
    },
    {
      "cell_type": "code",
      "execution_count": null,
      "metadata": {
        "id": "eWq3uORZKKzO"
      },
      "outputs": [],
      "source": [
        "# List of top 15 \"Station Id\" with most datapoints\n",
        "list_of_stn = list(df[\"Station Id\"].value_counts().head(15).index)\n",
        "\n",
        "df = df[df[\"Station Id\"].isin(list_of_stn)]"
      ]
    },
    {
      "cell_type": "code",
      "execution_count": null,
      "metadata": {
        "colab": {
          "base_uri": "https://localhost:8080/",
          "height": 434
        },
        "id": "vVN2_tloKWCW",
        "outputId": "93b8a86f-3c6f-44fb-872f-ec096c139d14"
      },
      "outputs": [
        {
          "output_type": "stream",
          "name": "stderr",
          "text": [
            "<ipython-input-5-7fd4da58674e>:1: SettingWithCopyWarning: \n",
            "A value is trying to be set on a copy of a slice from a DataFrame\n",
            "\n",
            "See the caveats in the documentation: https://pandas.pydata.org/pandas-docs/stable/user_guide/indexing.html#returning-a-view-versus-a-copy\n",
            "  df.drop(columns=['Dew Point Temp (°C)'], inplace=True)\n",
            "<ipython-input-5-7fd4da58674e>:2: SettingWithCopyWarning: \n",
            "A value is trying to be set on a copy of a slice from a DataFrame\n",
            "\n",
            "See the caveats in the documentation: https://pandas.pydata.org/pandas-docs/stable/user_guide/indexing.html#returning-a-view-versus-a-copy\n",
            "  df.drop(columns=['Stn Press (kPa)', 'Wind Dir (10s deg)'], inplace=True)\n"
          ]
        },
        {
          "output_type": "execute_result",
          "data": {
            "text/plain": [
              "        Station Id  Check-Outs  Check-Ins  Year  Month  Day  Hour  Temp (°C)  \\\n",
              "125859        7006           1          0  2019      1    1    11      -1.00   \n",
              "125860        7006           0          2  2019      1    1    12      -1.60   \n",
              "125861        7006           0          1  2019      1    1    13      -0.70   \n",
              "125862        7006           2          0  2019      1    1    14      -0.70   \n",
              "125863        7006           0          1  2019      1    1    15      -1.70   \n",
              "\n",
              "        Rel Hum (%)  Wind Spd (km/h)  Visibility (km)  Rain-related  \\\n",
              "125859        75.00            28.00            24.10             0   \n",
              "125860        72.00            28.00            24.10             0   \n",
              "125861        70.00            29.00            24.10             0   \n",
              "125862        66.00            30.00            24.10             0   \n",
              "125863        66.00            25.00            24.10             0   \n",
              "\n",
              "        Snow-related  Clear/Cloudy  Obstructive  Freezing  Extreme  Smoke  \n",
              "125859             0             1            0         0        0      0  \n",
              "125860             0             1            0         0        0      0  \n",
              "125861             0             1            0         0        0      0  \n",
              "125862             0             1            0         0        0      0  \n",
              "125863             0             1            0         0        0      0  "
            ],
            "text/html": [
              "\n",
              "  <div id=\"df-0f0047a3-a286-409a-aec0-b15a83416d0c\" class=\"colab-df-container\">\n",
              "    <div>\n",
              "<style scoped>\n",
              "    .dataframe tbody tr th:only-of-type {\n",
              "        vertical-align: middle;\n",
              "    }\n",
              "\n",
              "    .dataframe tbody tr th {\n",
              "        vertical-align: top;\n",
              "    }\n",
              "\n",
              "    .dataframe thead th {\n",
              "        text-align: right;\n",
              "    }\n",
              "</style>\n",
              "<table border=\"1\" class=\"dataframe\">\n",
              "  <thead>\n",
              "    <tr style=\"text-align: right;\">\n",
              "      <th></th>\n",
              "      <th>Station Id</th>\n",
              "      <th>Check-Outs</th>\n",
              "      <th>Check-Ins</th>\n",
              "      <th>Year</th>\n",
              "      <th>Month</th>\n",
              "      <th>Day</th>\n",
              "      <th>Hour</th>\n",
              "      <th>Temp (°C)</th>\n",
              "      <th>Rel Hum (%)</th>\n",
              "      <th>Wind Spd (km/h)</th>\n",
              "      <th>Visibility (km)</th>\n",
              "      <th>Rain-related</th>\n",
              "      <th>Snow-related</th>\n",
              "      <th>Clear/Cloudy</th>\n",
              "      <th>Obstructive</th>\n",
              "      <th>Freezing</th>\n",
              "      <th>Extreme</th>\n",
              "      <th>Smoke</th>\n",
              "    </tr>\n",
              "  </thead>\n",
              "  <tbody>\n",
              "    <tr>\n",
              "      <th>125859</th>\n",
              "      <td>7006</td>\n",
              "      <td>1</td>\n",
              "      <td>0</td>\n",
              "      <td>2019</td>\n",
              "      <td>1</td>\n",
              "      <td>1</td>\n",
              "      <td>11</td>\n",
              "      <td>-1.00</td>\n",
              "      <td>75.00</td>\n",
              "      <td>28.00</td>\n",
              "      <td>24.10</td>\n",
              "      <td>0</td>\n",
              "      <td>0</td>\n",
              "      <td>1</td>\n",
              "      <td>0</td>\n",
              "      <td>0</td>\n",
              "      <td>0</td>\n",
              "      <td>0</td>\n",
              "    </tr>\n",
              "    <tr>\n",
              "      <th>125860</th>\n",
              "      <td>7006</td>\n",
              "      <td>0</td>\n",
              "      <td>2</td>\n",
              "      <td>2019</td>\n",
              "      <td>1</td>\n",
              "      <td>1</td>\n",
              "      <td>12</td>\n",
              "      <td>-1.60</td>\n",
              "      <td>72.00</td>\n",
              "      <td>28.00</td>\n",
              "      <td>24.10</td>\n",
              "      <td>0</td>\n",
              "      <td>0</td>\n",
              "      <td>1</td>\n",
              "      <td>0</td>\n",
              "      <td>0</td>\n",
              "      <td>0</td>\n",
              "      <td>0</td>\n",
              "    </tr>\n",
              "    <tr>\n",
              "      <th>125861</th>\n",
              "      <td>7006</td>\n",
              "      <td>0</td>\n",
              "      <td>1</td>\n",
              "      <td>2019</td>\n",
              "      <td>1</td>\n",
              "      <td>1</td>\n",
              "      <td>13</td>\n",
              "      <td>-0.70</td>\n",
              "      <td>70.00</td>\n",
              "      <td>29.00</td>\n",
              "      <td>24.10</td>\n",
              "      <td>0</td>\n",
              "      <td>0</td>\n",
              "      <td>1</td>\n",
              "      <td>0</td>\n",
              "      <td>0</td>\n",
              "      <td>0</td>\n",
              "      <td>0</td>\n",
              "    </tr>\n",
              "    <tr>\n",
              "      <th>125862</th>\n",
              "      <td>7006</td>\n",
              "      <td>2</td>\n",
              "      <td>0</td>\n",
              "      <td>2019</td>\n",
              "      <td>1</td>\n",
              "      <td>1</td>\n",
              "      <td>14</td>\n",
              "      <td>-0.70</td>\n",
              "      <td>66.00</td>\n",
              "      <td>30.00</td>\n",
              "      <td>24.10</td>\n",
              "      <td>0</td>\n",
              "      <td>0</td>\n",
              "      <td>1</td>\n",
              "      <td>0</td>\n",
              "      <td>0</td>\n",
              "      <td>0</td>\n",
              "      <td>0</td>\n",
              "    </tr>\n",
              "    <tr>\n",
              "      <th>125863</th>\n",
              "      <td>7006</td>\n",
              "      <td>0</td>\n",
              "      <td>1</td>\n",
              "      <td>2019</td>\n",
              "      <td>1</td>\n",
              "      <td>1</td>\n",
              "      <td>15</td>\n",
              "      <td>-1.70</td>\n",
              "      <td>66.00</td>\n",
              "      <td>25.00</td>\n",
              "      <td>24.10</td>\n",
              "      <td>0</td>\n",
              "      <td>0</td>\n",
              "      <td>1</td>\n",
              "      <td>0</td>\n",
              "      <td>0</td>\n",
              "      <td>0</td>\n",
              "      <td>0</td>\n",
              "    </tr>\n",
              "  </tbody>\n",
              "</table>\n",
              "</div>\n",
              "    <div class=\"colab-df-buttons\">\n",
              "\n",
              "  <div class=\"colab-df-container\">\n",
              "    <button class=\"colab-df-convert\" onclick=\"convertToInteractive('df-0f0047a3-a286-409a-aec0-b15a83416d0c')\"\n",
              "            title=\"Convert this dataframe to an interactive table.\"\n",
              "            style=\"display:none;\">\n",
              "\n",
              "  <svg xmlns=\"http://www.w3.org/2000/svg\" height=\"24px\" viewBox=\"0 -960 960 960\">\n",
              "    <path d=\"M120-120v-720h720v720H120Zm60-500h600v-160H180v160Zm220 220h160v-160H400v160Zm0 220h160v-160H400v160ZM180-400h160v-160H180v160Zm440 0h160v-160H620v160ZM180-180h160v-160H180v160Zm440 0h160v-160H620v160Z\"/>\n",
              "  </svg>\n",
              "    </button>\n",
              "\n",
              "  <style>\n",
              "    .colab-df-container {\n",
              "      display:flex;\n",
              "      gap: 12px;\n",
              "    }\n",
              "\n",
              "    .colab-df-convert {\n",
              "      background-color: #E8F0FE;\n",
              "      border: none;\n",
              "      border-radius: 50%;\n",
              "      cursor: pointer;\n",
              "      display: none;\n",
              "      fill: #1967D2;\n",
              "      height: 32px;\n",
              "      padding: 0 0 0 0;\n",
              "      width: 32px;\n",
              "    }\n",
              "\n",
              "    .colab-df-convert:hover {\n",
              "      background-color: #E2EBFA;\n",
              "      box-shadow: 0px 1px 2px rgba(60, 64, 67, 0.3), 0px 1px 3px 1px rgba(60, 64, 67, 0.15);\n",
              "      fill: #174EA6;\n",
              "    }\n",
              "\n",
              "    .colab-df-buttons div {\n",
              "      margin-bottom: 4px;\n",
              "    }\n",
              "\n",
              "    [theme=dark] .colab-df-convert {\n",
              "      background-color: #3B4455;\n",
              "      fill: #D2E3FC;\n",
              "    }\n",
              "\n",
              "    [theme=dark] .colab-df-convert:hover {\n",
              "      background-color: #434B5C;\n",
              "      box-shadow: 0px 1px 3px 1px rgba(0, 0, 0, 0.15);\n",
              "      filter: drop-shadow(0px 1px 2px rgba(0, 0, 0, 0.3));\n",
              "      fill: #FFFFFF;\n",
              "    }\n",
              "  </style>\n",
              "\n",
              "    <script>\n",
              "      const buttonEl =\n",
              "        document.querySelector('#df-0f0047a3-a286-409a-aec0-b15a83416d0c button.colab-df-convert');\n",
              "      buttonEl.style.display =\n",
              "        google.colab.kernel.accessAllowed ? 'block' : 'none';\n",
              "\n",
              "      async function convertToInteractive(key) {\n",
              "        const element = document.querySelector('#df-0f0047a3-a286-409a-aec0-b15a83416d0c');\n",
              "        const dataTable =\n",
              "          await google.colab.kernel.invokeFunction('convertToInteractive',\n",
              "                                                    [key], {});\n",
              "        if (!dataTable) return;\n",
              "\n",
              "        const docLinkHtml = 'Like what you see? Visit the ' +\n",
              "          '<a target=\"_blank\" href=https://colab.research.google.com/notebooks/data_table.ipynb>data table notebook</a>'\n",
              "          + ' to learn more about interactive tables.';\n",
              "        element.innerHTML = '';\n",
              "        dataTable['output_type'] = 'display_data';\n",
              "        await google.colab.output.renderOutput(dataTable, element);\n",
              "        const docLink = document.createElement('div');\n",
              "        docLink.innerHTML = docLinkHtml;\n",
              "        element.appendChild(docLink);\n",
              "      }\n",
              "    </script>\n",
              "  </div>\n",
              "\n",
              "\n",
              "<div id=\"df-b7b572c2-270d-4909-82db-6fc552f98cae\">\n",
              "  <button class=\"colab-df-quickchart\" onclick=\"quickchart('df-b7b572c2-270d-4909-82db-6fc552f98cae')\"\n",
              "            title=\"Suggest charts\"\n",
              "            style=\"display:none;\">\n",
              "\n",
              "<svg xmlns=\"http://www.w3.org/2000/svg\" height=\"24px\"viewBox=\"0 0 24 24\"\n",
              "     width=\"24px\">\n",
              "    <g>\n",
              "        <path d=\"M19 3H5c-1.1 0-2 .9-2 2v14c0 1.1.9 2 2 2h14c1.1 0 2-.9 2-2V5c0-1.1-.9-2-2-2zM9 17H7v-7h2v7zm4 0h-2V7h2v10zm4 0h-2v-4h2v4z\"/>\n",
              "    </g>\n",
              "</svg>\n",
              "  </button>\n",
              "\n",
              "<style>\n",
              "  .colab-df-quickchart {\n",
              "      --bg-color: #E8F0FE;\n",
              "      --fill-color: #1967D2;\n",
              "      --hover-bg-color: #E2EBFA;\n",
              "      --hover-fill-color: #174EA6;\n",
              "      --disabled-fill-color: #AAA;\n",
              "      --disabled-bg-color: #DDD;\n",
              "  }\n",
              "\n",
              "  [theme=dark] .colab-df-quickchart {\n",
              "      --bg-color: #3B4455;\n",
              "      --fill-color: #D2E3FC;\n",
              "      --hover-bg-color: #434B5C;\n",
              "      --hover-fill-color: #FFFFFF;\n",
              "      --disabled-bg-color: #3B4455;\n",
              "      --disabled-fill-color: #666;\n",
              "  }\n",
              "\n",
              "  .colab-df-quickchart {\n",
              "    background-color: var(--bg-color);\n",
              "    border: none;\n",
              "    border-radius: 50%;\n",
              "    cursor: pointer;\n",
              "    display: none;\n",
              "    fill: var(--fill-color);\n",
              "    height: 32px;\n",
              "    padding: 0;\n",
              "    width: 32px;\n",
              "  }\n",
              "\n",
              "  .colab-df-quickchart:hover {\n",
              "    background-color: var(--hover-bg-color);\n",
              "    box-shadow: 0 1px 2px rgba(60, 64, 67, 0.3), 0 1px 3px 1px rgba(60, 64, 67, 0.15);\n",
              "    fill: var(--button-hover-fill-color);\n",
              "  }\n",
              "\n",
              "  .colab-df-quickchart-complete:disabled,\n",
              "  .colab-df-quickchart-complete:disabled:hover {\n",
              "    background-color: var(--disabled-bg-color);\n",
              "    fill: var(--disabled-fill-color);\n",
              "    box-shadow: none;\n",
              "  }\n",
              "\n",
              "  .colab-df-spinner {\n",
              "    border: 2px solid var(--fill-color);\n",
              "    border-color: transparent;\n",
              "    border-bottom-color: var(--fill-color);\n",
              "    animation:\n",
              "      spin 1s steps(1) infinite;\n",
              "  }\n",
              "\n",
              "  @keyframes spin {\n",
              "    0% {\n",
              "      border-color: transparent;\n",
              "      border-bottom-color: var(--fill-color);\n",
              "      border-left-color: var(--fill-color);\n",
              "    }\n",
              "    20% {\n",
              "      border-color: transparent;\n",
              "      border-left-color: var(--fill-color);\n",
              "      border-top-color: var(--fill-color);\n",
              "    }\n",
              "    30% {\n",
              "      border-color: transparent;\n",
              "      border-left-color: var(--fill-color);\n",
              "      border-top-color: var(--fill-color);\n",
              "      border-right-color: var(--fill-color);\n",
              "    }\n",
              "    40% {\n",
              "      border-color: transparent;\n",
              "      border-right-color: var(--fill-color);\n",
              "      border-top-color: var(--fill-color);\n",
              "    }\n",
              "    60% {\n",
              "      border-color: transparent;\n",
              "      border-right-color: var(--fill-color);\n",
              "    }\n",
              "    80% {\n",
              "      border-color: transparent;\n",
              "      border-right-color: var(--fill-color);\n",
              "      border-bottom-color: var(--fill-color);\n",
              "    }\n",
              "    90% {\n",
              "      border-color: transparent;\n",
              "      border-bottom-color: var(--fill-color);\n",
              "    }\n",
              "  }\n",
              "</style>\n",
              "\n",
              "  <script>\n",
              "    async function quickchart(key) {\n",
              "      const quickchartButtonEl =\n",
              "        document.querySelector('#' + key + ' button');\n",
              "      quickchartButtonEl.disabled = true;  // To prevent multiple clicks.\n",
              "      quickchartButtonEl.classList.add('colab-df-spinner');\n",
              "      try {\n",
              "        const charts = await google.colab.kernel.invokeFunction(\n",
              "            'suggestCharts', [key], {});\n",
              "      } catch (error) {\n",
              "        console.error('Error during call to suggestCharts:', error);\n",
              "      }\n",
              "      quickchartButtonEl.classList.remove('colab-df-spinner');\n",
              "      quickchartButtonEl.classList.add('colab-df-quickchart-complete');\n",
              "    }\n",
              "    (() => {\n",
              "      let quickchartButtonEl =\n",
              "        document.querySelector('#df-b7b572c2-270d-4909-82db-6fc552f98cae button');\n",
              "      quickchartButtonEl.style.display =\n",
              "        google.colab.kernel.accessAllowed ? 'block' : 'none';\n",
              "    })();\n",
              "  </script>\n",
              "</div>\n",
              "\n",
              "    </div>\n",
              "  </div>\n"
            ],
            "application/vnd.google.colaboratory.intrinsic+json": {
              "type": "dataframe",
              "variable_name": "df"
            }
          },
          "metadata": {},
          "execution_count": 5
        }
      ],
      "source": [
        "df.drop(columns=['Dew Point Temp (°C)'], inplace=True)\n",
        "df.drop(columns=['Stn Press (kPa)', 'Wind Dir (10s deg)'], inplace=True)\n",
        "\n",
        "# Shift \"Smoke\" column to back of dataframe\n",
        "smoke_column = df.pop('Smoke')\n",
        "df.insert(len(df.columns), 'Smoke', smoke_column)\n",
        "\n",
        "df.head()"
      ]
    },
    {
      "cell_type": "markdown",
      "metadata": {
        "id": "jbc8InnFKjrM"
      },
      "source": [
        "Setup training and testing dataset"
      ]
    },
    {
      "cell_type": "code",
      "execution_count": null,
      "metadata": {
        "colab": {
          "base_uri": "https://localhost:8080/"
        },
        "id": "hUyuYPGpJ_FG",
        "outputId": "c320ee87-203f-45c6-b52f-c82906841559"
      },
      "outputs": [
        {
          "output_type": "stream",
          "name": "stdout",
          "text": [
            "272774\n",
            "108011\n"
          ]
        }
      ],
      "source": [
        "from sklearn.utils import shuffle\n",
        "\n",
        "# Shuffle data within each year group before splitting\n",
        "train_data = shuffle(df[df['Year'] < 2023], random_state=42)\n",
        "test_data = shuffle(df[df['Year'] == 2023], random_state=42)\n",
        "\n",
        "print(len(train_data))\n",
        "print(len(test_data))\n",
        "\n",
        "# Split the data into features and targets\n",
        "X_train = train_data.drop(['Check-Outs', 'Check-Ins'], axis=1)\n",
        "y_checkouts_train = train_data['Check-Outs']\n",
        "y_checkins_train = train_data['Check-Ins']\n",
        "\n",
        "X_test = test_data.drop(['Check-Outs', 'Check-Ins'], axis=1)\n",
        "y_checkouts_test = test_data['Check-Outs']\n",
        "y_checkins_test = test_data['Check-Ins']"
      ]
    },
    {
      "cell_type": "markdown",
      "metadata": {
        "id": "ZvHrN-STMKna"
      },
      "source": [
        "# Checkouts"
      ]
    },
    {
      "cell_type": "markdown",
      "source": [
        "For every type of model, the model is trained with the training data. The MAE, MSE and R2 are calculated for the test data. The R2 score is then used to compare between the models.\n",
        "The prediction for the first datapoint in the test set is then determined using the model for good measure."
      ],
      "metadata": {
        "id": "IfSSN6Ggm282"
      }
    },
    {
      "cell_type": "markdown",
      "metadata": {
        "id": "7fTMOMJ8MNnl"
      },
      "source": [
        "**Linear/Ridge Regression**"
      ]
    },
    {
      "cell_type": "code",
      "execution_count": null,
      "metadata": {
        "colab": {
          "base_uri": "https://localhost:8080/"
        },
        "id": "ZMBjhYhEL3fG",
        "outputId": "c28f1bd1-4be5-43b9-cb51-e73e0673805a"
      },
      "outputs": [
        {
          "name": "stdout",
          "output_type": "stream",
          "text": [
            "Check-Outs - MAE: 2.35039448975083 MSE: 12.217035277448884 R2: 0.2343309608250772\n",
            "Predicted Check-Outs: [4.9543356]\n"
          ]
        },
        {
          "name": "stderr",
          "output_type": "stream",
          "text": [
            "/usr/local/lib/python3.10/dist-packages/sklearn/base.py:465: UserWarning: X does not have valid feature names, but LinearRegression was fitted with feature names\n",
            "  warnings.warn(\n"
          ]
        }
      ],
      "source": [
        "from sklearn.linear_model import LinearRegression\n",
        "from sklearn.metrics import mean_absolute_error, mean_squared_error, r2_score\n",
        "\n",
        "lr_checkouts = LinearRegression()\n",
        "lr_checkouts.fit(X_train, y_checkouts_train)\n",
        "\n",
        "checkouts_preds = lr_checkouts.predict(X_test)\n",
        "\n",
        "mae_checkouts = mean_absolute_error(y_checkouts_test, checkouts_preds)\n",
        "mse_checkouts = mean_squared_error(y_checkouts_test, checkouts_preds)\n",
        "r2_checkouts = r2_score(y_checkouts_test, checkouts_preds)\n",
        "\n",
        "print(\"Check-Outs - MAE:\", mae_checkouts, \"MSE:\", mse_checkouts, \"R2:\", r2_checkouts)\n",
        "\n",
        "new_data = X_test.iloc[0]\n",
        "checkouts_prediction = lr_checkouts.predict([new_data])\n",
        "print(\"Predicted Check-Outs:\", checkouts_prediction)"
      ]
    },
    {
      "cell_type": "code",
      "execution_count": null,
      "metadata": {
        "colab": {
          "base_uri": "https://localhost:8080/"
        },
        "id": "JoThi5_jMaTL",
        "outputId": "38e3e86c-c402-4c9e-b988-efa680d592b9"
      },
      "outputs": [
        {
          "name": "stdout",
          "output_type": "stream",
          "text": [
            "Check-Outs - MAE: 2.350390692736141 MSE: 12.217044439129326 R2: 0.23433038664198758\n",
            "Predicted Check-Outs: [4.95434174]\n"
          ]
        },
        {
          "name": "stderr",
          "output_type": "stream",
          "text": [
            "/usr/local/lib/python3.10/dist-packages/sklearn/base.py:465: UserWarning: X does not have valid feature names, but Ridge was fitted with feature names\n",
            "  warnings.warn(\n"
          ]
        }
      ],
      "source": [
        "from sklearn.linear_model import Ridge\n",
        "\n",
        "ridge_checkouts = Ridge(alpha=5.0)\n",
        "ridge_checkouts.fit(X_train, y_checkouts_train)\n",
        "\n",
        "checkouts_preds = ridge_checkouts.predict(X_test)\n",
        "\n",
        "mae_checkouts = mean_absolute_error(y_checkouts_test, checkouts_preds)\n",
        "mse_checkouts = mean_squared_error(y_checkouts_test, checkouts_preds)\n",
        "r2_checkouts = r2_score(y_checkouts_test, checkouts_preds)\n",
        "\n",
        "print(\"Check-Outs - MAE:\", mae_checkouts, \"MSE:\", mse_checkouts, \"R2:\", r2_checkouts)\n",
        "\n",
        "new_data = X_test.iloc[0]\n",
        "checkouts_prediction = ridge_checkouts.predict([new_data])\n",
        "print(\"Predicted Check-Outs:\", checkouts_prediction)"
      ]
    },
    {
      "cell_type": "markdown",
      "metadata": {
        "id": "HYUFdgA8MfwV"
      },
      "source": [
        "**Random Forest Regression**"
      ]
    },
    {
      "cell_type": "code",
      "execution_count": null,
      "metadata": {
        "colab": {
          "base_uri": "https://localhost:8080/"
        },
        "id": "xCwd0bnyMiVz",
        "outputId": "67d4c576-5d3c-4e51-a601-253721d804f6"
      },
      "outputs": [
        {
          "name": "stderr",
          "output_type": "stream",
          "text": [
            "[Parallel(n_jobs=1)]: Done  49 tasks      | elapsed:  1.5min\n",
            "[Parallel(n_jobs=1)]: Done 199 tasks      | elapsed:  5.9min\n",
            "[Parallel(n_jobs=1)]: Done 449 tasks      | elapsed: 13.2min\n",
            "[Parallel(n_jobs=1)]: Done  49 tasks      | elapsed:    2.6s\n",
            "[Parallel(n_jobs=1)]: Done 199 tasks      | elapsed:   11.3s\n",
            "[Parallel(n_jobs=1)]: Done 449 tasks      | elapsed:   25.2s\n"
          ]
        },
        {
          "name": "stdout",
          "output_type": "stream",
          "text": [
            "Check-Outs - MAE: 1.973137717454704 MSE: 8.462823013470851 R2: 0.4696158750239181\n",
            "Predicted Check-Outs: [7.708]\n"
          ]
        },
        {
          "name": "stderr",
          "output_type": "stream",
          "text": [
            "/usr/local/lib/python3.10/dist-packages/sklearn/base.py:465: UserWarning: X does not have valid feature names, but RandomForestRegressor was fitted with feature names\n",
            "  warnings.warn(\n",
            "[Parallel(n_jobs=1)]: Done  49 tasks      | elapsed:    0.0s\n",
            "[Parallel(n_jobs=1)]: Done 199 tasks      | elapsed:    0.0s\n",
            "[Parallel(n_jobs=1)]: Done 449 tasks      | elapsed:    0.0s\n"
          ]
        }
      ],
      "source": [
        "from sklearn.ensemble import RandomForestRegressor\n",
        "\n",
        "rf_checkouts = RandomForestRegressor(n_estimators=500, random_state=42, verbose=1)\n",
        "rf_checkouts.fit(X_train, y_checkouts_train)\n",
        "\n",
        "checkouts_preds = rf_checkouts.predict(X_test)\n",
        "\n",
        "mae_checkouts = mean_absolute_error(y_checkouts_test, checkouts_preds)\n",
        "mse_checkouts = mean_squared_error(y_checkouts_test, checkouts_preds)\n",
        "r2_checkouts = r2_score(y_checkouts_test, checkouts_preds)\n",
        "\n",
        "print(\"Check-Outs - MAE:\", mae_checkouts, \"MSE:\", mse_checkouts, \"R2:\", r2_checkouts)\n",
        "\n",
        "new_data = X_test.iloc[0]\n",
        "checkouts_prediction = rf_checkouts.predict([new_data])\n",
        "print(\"Predicted Check-Outs:\", checkouts_prediction)"
      ]
    },
    {
      "cell_type": "markdown",
      "metadata": {
        "id": "WGQ7qGB5SScl"
      },
      "source": [
        "**Gradient Boosting Regressor**"
      ]
    },
    {
      "cell_type": "code",
      "execution_count": null,
      "metadata": {
        "colab": {
          "base_uri": "https://localhost:8080/"
        },
        "id": "Ahzm1jr6SUkn",
        "outputId": "69f8ccbe-476d-477f-c39c-906ba2a32fda"
      },
      "outputs": [
        {
          "name": "stdout",
          "output_type": "stream",
          "text": [
            "Check-Outs - MAE: 1.9153023546357282 MSE: 8.077796787240068 R2: 0.49374633335528084\n",
            "Predicted Check-Outs: [8.10917967]\n"
          ]
        },
        {
          "name": "stderr",
          "output_type": "stream",
          "text": [
            "/usr/local/lib/python3.10/dist-packages/sklearn/base.py:465: UserWarning: X does not have valid feature names, but GradientBoostingRegressor was fitted with feature names\n",
            "  warnings.warn(\n"
          ]
        }
      ],
      "source": [
        "from sklearn.ensemble import GradientBoostingRegressor\n",
        "\n",
        "gb_checkouts = GradientBoostingRegressor(n_estimators=900, learning_rate=0.015, random_state=42, max_depth=8, max_features='sqrt', subsample=1.0)\n",
        "gb_checkouts.fit(X_train, y_checkouts_train)\n",
        "\n",
        "checkouts_preds = gb_checkouts.predict(X_test)\n",
        "\n",
        "mae_checkouts = mean_absolute_error(y_checkouts_test, checkouts_preds)\n",
        "mse_checkouts = mean_squared_error(y_checkouts_test, checkouts_preds)\n",
        "r2_checkouts = r2_score(y_checkouts_test, checkouts_preds)\n",
        "\n",
        "print(\"Check-Outs - MAE:\", mae_checkouts, \"MSE:\", mse_checkouts, \"R2:\", r2_checkouts)\n",
        "\n",
        "new_data = X_test.iloc[0]\n",
        "checkouts_prediction = gb_checkouts.predict([new_data])\n",
        "print(\"Predicted Check-Outs:\", checkouts_prediction)"
      ]
    },
    {
      "cell_type": "markdown",
      "metadata": {
        "id": "z3rvk2ghT6Ei"
      },
      "source": [
        "**Support Vector Regression**"
      ]
    },
    {
      "cell_type": "code",
      "execution_count": null,
      "metadata": {
        "colab": {
          "base_uri": "https://localhost:8080/"
        },
        "id": "ftsIOk3JUDAh",
        "outputId": "506bbbb3-2dba-4e50-f23f-de6b400ee5c7"
      },
      "outputs": [
        {
          "name": "stderr",
          "output_type": "stream",
          "text": [
            "/usr/local/lib/python3.10/dist-packages/sklearn/svm/_classes.py:32: FutureWarning: The default value of `dual` will change from `True` to `'auto'` in 1.5. Set the value of `dual` explicitly to suppress the warning.\n",
            "  warnings.warn(\n"
          ]
        },
        {
          "name": "stdout",
          "output_type": "stream",
          "text": [
            "Check-Outs - MAE: 2.7220618550172446 MSE: 16.88106189859692 R2: -0.05797406249694603\n",
            "Predicted Check-Outs: [3.25521853]\n"
          ]
        },
        {
          "name": "stderr",
          "output_type": "stream",
          "text": [
            "/usr/local/lib/python3.10/dist-packages/sklearn/svm/_base.py:1250: ConvergenceWarning: Liblinear failed to converge, increase the number of iterations.\n",
            "  warnings.warn(\n",
            "/usr/local/lib/python3.10/dist-packages/sklearn/base.py:465: UserWarning: X does not have valid feature names, but LinearSVR was fitted with feature names\n",
            "  warnings.warn(\n"
          ]
        }
      ],
      "source": [
        "from sklearn.svm import LinearSVR\n",
        "\n",
        "svr_checkouts = LinearSVR(random_state=42)\n",
        "svr_checkouts.fit(X_train, y_checkouts_train)\n",
        "\n",
        "checkouts_preds = svr_checkouts.predict(X_test)\n",
        "\n",
        "mae_checkouts = mean_absolute_error(y_checkouts_test, checkouts_preds)\n",
        "mse_checkouts = mean_squared_error(y_checkouts_test, checkouts_preds)\n",
        "r2_checkouts = r2_score(y_checkouts_test, checkouts_preds)\n",
        "\n",
        "print(\"Check-Outs - MAE:\", mae_checkouts, \"MSE:\", mse_checkouts, \"R2:\", r2_checkouts)\n",
        "\n",
        "new_data = X_test.iloc[0]\n",
        "checkouts_prediction = svr_checkouts.predict([new_data])\n",
        "print(\"Predicted Check-Outs:\", checkouts_prediction)"
      ]
    },
    {
      "cell_type": "markdown",
      "metadata": {
        "id": "MiSztb7WUSoI"
      },
      "source": [
        "**KNN**"
      ]
    },
    {
      "cell_type": "code",
      "execution_count": null,
      "metadata": {
        "colab": {
          "base_uri": "https://localhost:8080/"
        },
        "id": "EFIONSX2UUV9",
        "outputId": "b181f81b-6956-4db8-80e8-73e3a296228d"
      },
      "outputs": [
        {
          "name": "stdout",
          "output_type": "stream",
          "text": [
            "Check-Outs - MAE: 2.177771152938127 MSE: 11.179713031080166 R2: 0.299342275735331\n",
            "Predicted Check-Outs: [4.97]\n"
          ]
        },
        {
          "name": "stderr",
          "output_type": "stream",
          "text": [
            "/usr/local/lib/python3.10/dist-packages/sklearn/base.py:465: UserWarning: X does not have valid feature names, but KNeighborsRegressor was fitted with feature names\n",
            "  warnings.warn(\n"
          ]
        }
      ],
      "source": [
        "from sklearn.neighbors import KNeighborsRegressor\n",
        "\n",
        "knn_checkouts = KNeighborsRegressor(n_neighbors=100)\n",
        "knn_checkouts.fit(X_train, y_checkouts_train)\n",
        "\n",
        "checkouts_preds = knn_checkouts.predict(X_test)\n",
        "\n",
        "mae_checkouts = mean_absolute_error(y_checkouts_test, checkouts_preds)\n",
        "mse_checkouts = mean_squared_error(y_checkouts_test, checkouts_preds)\n",
        "r2_checkouts = r2_score(y_checkouts_test, checkouts_preds)\n",
        "\n",
        "print(\"Check-Outs - MAE:\", mae_checkouts, \"MSE:\", mse_checkouts, \"R2:\", r2_checkouts)\n",
        "\n",
        "new_data = X_test.iloc[0]\n",
        "checkouts_prediction = knn_checkouts.predict([new_data])\n",
        "print(\"Predicted Check-Outs:\", checkouts_prediction)"
      ]
    },
    {
      "cell_type": "markdown",
      "metadata": {
        "id": "sCk92PEHUU0d"
      },
      "source": [
        "**XGBoost Regressor**"
      ]
    },
    {
      "cell_type": "code",
      "execution_count": null,
      "metadata": {
        "colab": {
          "base_uri": "https://localhost:8080/"
        },
        "id": "4nWejlMgUUU8",
        "outputId": "4c3da1c0-6b7c-4e8c-fd73-33d41a7d5d32"
      },
      "outputs": [
        {
          "name": "stdout",
          "output_type": "stream",
          "text": [
            "Check-Outs - MAE: 1.950523309963541 MSE: 8.2105513000134 R2: 0.4854263098853546\n",
            "Predicted Check-Outs: [8.3969755]\n"
          ]
        }
      ],
      "source": [
        "import xgboost as xgb\n",
        "\n",
        "xgb_checkouts = xgb.XGBRegressor(n_estimators=1000,\n",
        "                                 random_state=42,\n",
        "                                 colsample_bytree=1,\n",
        "                                 learning_rate=0.2,\n",
        "                                 max_depth=6,\n",
        "                                 subsample=1,\n",
        "                                 reg_lambda=1.0, # L2 regularization\n",
        "                                 reg_alpha=0.01) # L1 regularization\n",
        "xgb_checkouts.fit(X_train, y_checkouts_train)\n",
        "\n",
        "checkouts_preds = xgb_checkouts.predict(X_test)\n",
        "\n",
        "mae_checkouts = mean_absolute_error(y_checkouts_test, checkouts_preds)\n",
        "mse_checkouts = mean_squared_error(y_checkouts_test, checkouts_preds)\n",
        "r2_checkouts = r2_score(y_checkouts_test, checkouts_preds)\n",
        "\n",
        "print(\"Check-Outs - MAE:\", mae_checkouts, \"MSE:\", mse_checkouts, \"R2:\", r2_checkouts)\n",
        "\n",
        "new_data = X_test.iloc[0]\n",
        "checkouts_prediction = xgb_checkouts.predict([new_data])\n",
        "print(\"Predicted Check-Outs:\", checkouts_prediction)"
      ]
    },
    {
      "cell_type": "markdown",
      "metadata": {
        "id": "Fx5lhiVpMMHB"
      },
      "source": [
        "# Checkins"
      ]
    },
    {
      "cell_type": "markdown",
      "source": [
        "For every type of model, the model is trained with the training data. The MAE, MSE and R2 are calculated for the test data. The R2 score is then used to compare between the models.\n",
        "The prediction for the first datapoint in the test set is then determined using the model for good measure."
      ],
      "metadata": {
        "id": "ORCw7UhBnu5-"
      }
    },
    {
      "cell_type": "markdown",
      "metadata": {
        "id": "3CRWKeHThFJE"
      },
      "source": [
        "**Linear/Ridge Regression**"
      ]
    },
    {
      "cell_type": "code",
      "execution_count": null,
      "metadata": {
        "colab": {
          "base_uri": "https://localhost:8080/"
        },
        "id": "-7kU2TQDhFJJ",
        "outputId": "0e526183-5f51-402e-c2a4-9b800897fe02"
      },
      "outputs": [
        {
          "name": "stdout",
          "output_type": "stream",
          "text": [
            "Check-ins - MAE: 2.5325234945621826 MSE: 15.200670798603664 R2: 0.21408963918733193\n",
            "Predicted Check-ins: [5.23036802]\n"
          ]
        },
        {
          "name": "stderr",
          "output_type": "stream",
          "text": [
            "/usr/local/lib/python3.10/dist-packages/sklearn/base.py:465: UserWarning: X does not have valid feature names, but LinearRegression was fitted with feature names\n",
            "  warnings.warn(\n"
          ]
        }
      ],
      "source": [
        "from sklearn.linear_model import LinearRegression\n",
        "from sklearn.metrics import mean_absolute_error, mean_squared_error, r2_score\n",
        "\n",
        "lr_checkins = LinearRegression()\n",
        "lr_checkins.fit(X_train, y_checkins_train)\n",
        "\n",
        "checkins_preds = lr_checkins.predict(X_test)\n",
        "\n",
        "mae_checkins = mean_absolute_error(y_checkins_test, checkins_preds)\n",
        "mse_checkins = mean_squared_error(y_checkins_test, checkins_preds)\n",
        "r2_checkins = r2_score(y_checkins_test, checkins_preds)\n",
        "\n",
        "print(\"Check-ins - MAE:\", mae_checkins, \"MSE:\", mse_checkins, \"R2:\", r2_checkins)\n",
        "\n",
        "new_data = X_test.iloc[0]\n",
        "checkins_prediction = lr_checkins.predict([new_data])\n",
        "print(\"Predicted Check-ins:\", checkins_prediction)"
      ]
    },
    {
      "cell_type": "code",
      "execution_count": null,
      "metadata": {
        "colab": {
          "base_uri": "https://localhost:8080/"
        },
        "id": "QgBqdpNLhFJJ",
        "outputId": "f6c82d70-19bf-4b1e-d12f-994a28d90507"
      },
      "outputs": [
        {
          "name": "stdout",
          "output_type": "stream",
          "text": [
            "Check-ins - MAE: 2.532519639196434 MSE: 15.20068511303111 R2: 0.21408889909783269\n",
            "Predicted Check-ins: [5.23037728]\n"
          ]
        },
        {
          "name": "stderr",
          "output_type": "stream",
          "text": [
            "/usr/local/lib/python3.10/dist-packages/sklearn/base.py:465: UserWarning: X does not have valid feature names, but Ridge was fitted with feature names\n",
            "  warnings.warn(\n"
          ]
        }
      ],
      "source": [
        "from sklearn.linear_model import Ridge\n",
        "\n",
        "ridge_checkins = Ridge(alpha=5.0)\n",
        "ridge_checkins.fit(X_train, y_checkins_train)\n",
        "\n",
        "checkins_preds = ridge_checkins.predict(X_test)\n",
        "\n",
        "mae_checkins = mean_absolute_error(y_checkins_test, checkins_preds)\n",
        "mse_checkins = mean_squared_error(y_checkins_test, checkins_preds)\n",
        "r2_checkins = r2_score(y_checkins_test, checkins_preds)\n",
        "\n",
        "print(\"Check-ins - MAE:\", mae_checkins, \"MSE:\", mse_checkins, \"R2:\", r2_checkins)\n",
        "\n",
        "new_data = X_test.iloc[0]\n",
        "checkins_prediction = ridge_checkins.predict([new_data])\n",
        "print(\"Predicted Check-ins:\", checkins_prediction)"
      ]
    },
    {
      "cell_type": "markdown",
      "metadata": {
        "id": "X_Rllx6zhFJK"
      },
      "source": [
        "**Random Forest Regression**"
      ]
    },
    {
      "cell_type": "code",
      "execution_count": null,
      "metadata": {
        "colab": {
          "base_uri": "https://localhost:8080/"
        },
        "id": "W0cw2tNChFJK",
        "outputId": "45a6fad4-00c1-4a6b-b989-82e1e9ebc485"
      },
      "outputs": [
        {
          "name": "stderr",
          "output_type": "stream",
          "text": [
            "[Parallel(n_jobs=1)]: Done  49 tasks      | elapsed:  1.4min\n",
            "[Parallel(n_jobs=1)]: Done 199 tasks      | elapsed:  5.5min\n",
            "[Parallel(n_jobs=1)]: Done 449 tasks      | elapsed: 12.0min\n",
            "[Parallel(n_jobs=1)]: Done  49 tasks      | elapsed:    1.9s\n",
            "[Parallel(n_jobs=1)]: Done 199 tasks      | elapsed:    9.1s\n",
            "[Parallel(n_jobs=1)]: Done 449 tasks      | elapsed:   20.1s\n"
          ]
        },
        {
          "name": "stdout",
          "output_type": "stream",
          "text": [
            "Check-ins - MAE: 2.0927887159641148 MSE: 10.233656517613948 R2: 0.4708959365839501\n",
            "Predicted Check-ins: [6.626]\n"
          ]
        },
        {
          "name": "stderr",
          "output_type": "stream",
          "text": [
            "/usr/local/lib/python3.10/dist-packages/sklearn/base.py:465: UserWarning: X does not have valid feature names, but RandomForestRegressor was fitted with feature names\n",
            "  warnings.warn(\n",
            "[Parallel(n_jobs=1)]: Done  49 tasks      | elapsed:    0.0s\n",
            "[Parallel(n_jobs=1)]: Done 199 tasks      | elapsed:    0.0s\n",
            "[Parallel(n_jobs=1)]: Done 449 tasks      | elapsed:    0.0s\n"
          ]
        }
      ],
      "source": [
        "from sklearn.ensemble import RandomForestRegressor\n",
        "\n",
        "rf_checkins = RandomForestRegressor(n_estimators=500, random_state=42, verbose=1)\n",
        "rf_checkins.fit(X_train, y_checkins_train)\n",
        "\n",
        "checkins_preds = rf_checkins.predict(X_test)\n",
        "\n",
        "mae_checkins = mean_absolute_error(y_checkins_test, checkins_preds)\n",
        "mse_checkins = mean_squared_error(y_checkins_test, checkins_preds)\n",
        "r2_checkins = r2_score(y_checkins_test, checkins_preds)\n",
        "\n",
        "print(\"Check-ins - MAE:\", mae_checkins, \"MSE:\", mse_checkins, \"R2:\", r2_checkins)\n",
        "\n",
        "new_data = X_test.iloc[0]\n",
        "checkins_prediction = rf_checkins.predict([new_data])\n",
        "print(\"Predicted Check-ins:\", checkins_prediction)"
      ]
    },
    {
      "cell_type": "markdown",
      "metadata": {
        "id": "dPh8WPWzhFJK"
      },
      "source": [
        "**Gradient Boosting Regressor**"
      ]
    },
    {
      "cell_type": "code",
      "execution_count": null,
      "metadata": {
        "colab": {
          "base_uri": "https://localhost:8080/"
        },
        "id": "-zSzuwxDhFJK",
        "outputId": "055de64b-378a-4f0f-a68a-45b602a3583c"
      },
      "outputs": [
        {
          "name": "stdout",
          "output_type": "stream",
          "text": [
            "Check-ins - MAE: 2.0455976259573663 MSE: 10.153984392561812 R2: 0.4750151724634738\n",
            "Predicted Check-ins: [7.77837391]\n"
          ]
        },
        {
          "name": "stderr",
          "output_type": "stream",
          "text": [
            "/usr/local/lib/python3.10/dist-packages/sklearn/base.py:465: UserWarning: X does not have valid feature names, but GradientBoostingRegressor was fitted with feature names\n",
            "  warnings.warn(\n"
          ]
        }
      ],
      "source": [
        "from sklearn.ensemble import GradientBoostingRegressor\n",
        "\n",
        "gb_checkins = GradientBoostingRegressor(n_estimators=900, learning_rate=0.015, random_state=42, max_depth=8, max_features='sqrt', subsample=1.0)\n",
        "gb_checkins.fit(X_train, y_checkins_train)\n",
        "\n",
        "checkins_preds = gb_checkins.predict(X_test)\n",
        "\n",
        "mae_checkins = mean_absolute_error(y_checkins_test, checkins_preds)\n",
        "mse_checkins = mean_squared_error(y_checkins_test, checkins_preds)\n",
        "r2_checkins = r2_score(y_checkins_test, checkins_preds)\n",
        "\n",
        "print(\"Check-ins - MAE:\", mae_checkins, \"MSE:\", mse_checkins, \"R2:\", r2_checkins)\n",
        "\n",
        "new_data = X_test.iloc[0]\n",
        "checkins_prediction = gb_checkins.predict([new_data])\n",
        "print(\"Predicted Check-ins:\", checkins_prediction)"
      ]
    },
    {
      "cell_type": "markdown",
      "metadata": {
        "id": "2BTFntV5hFJK"
      },
      "source": [
        "**Support Vector Regression**"
      ]
    },
    {
      "cell_type": "code",
      "execution_count": null,
      "metadata": {
        "colab": {
          "base_uri": "https://localhost:8080/"
        },
        "id": "j2VoysbLhFJL",
        "outputId": "265233ce-a6fe-4a80-a451-2feff1a0ae2f"
      },
      "outputs": [
        {
          "name": "stderr",
          "output_type": "stream",
          "text": [
            "/usr/local/lib/python3.10/dist-packages/sklearn/svm/_classes.py:32: FutureWarning: The default value of `dual` will change from `True` to `'auto'` in 1.5. Set the value of `dual` explicitly to suppress the warning.\n",
            "  warnings.warn(\n"
          ]
        },
        {
          "name": "stdout",
          "output_type": "stream",
          "text": [
            "Check-ins - MAE: 3.6602872733533314 MSE: 27.158568005033185 R2: -0.4041617151495509\n",
            "Predicted Check-ins: [2.35733452]\n"
          ]
        },
        {
          "name": "stderr",
          "output_type": "stream",
          "text": [
            "/usr/local/lib/python3.10/dist-packages/sklearn/svm/_base.py:1250: ConvergenceWarning: Liblinear failed to converge, increase the number of iterations.\n",
            "  warnings.warn(\n",
            "/usr/local/lib/python3.10/dist-packages/sklearn/base.py:465: UserWarning: X does not have valid feature names, but LinearSVR was fitted with feature names\n",
            "  warnings.warn(\n"
          ]
        }
      ],
      "source": [
        "from sklearn.svm import LinearSVR\n",
        "\n",
        "svr_checkins = LinearSVR(random_state=42)\n",
        "svr_checkins.fit(X_train, y_checkins_train)\n",
        "\n",
        "checkins_preds = svr_checkins.predict(X_test)\n",
        "\n",
        "mae_checkins = mean_absolute_error(y_checkins_test, checkins_preds)\n",
        "mse_checkins = mean_squared_error(y_checkins_test, checkins_preds)\n",
        "r2_checkins = r2_score(y_checkins_test, checkins_preds)\n",
        "\n",
        "print(\"Check-ins - MAE:\", mae_checkins, \"MSE:\", mse_checkins, \"R2:\", r2_checkins)\n",
        "\n",
        "new_data = X_test.iloc[0]\n",
        "checkins_prediction = svr_checkins.predict([new_data])\n",
        "print(\"Predicted Check-ins:\", checkins_prediction)"
      ]
    },
    {
      "cell_type": "markdown",
      "metadata": {
        "id": "m4F54RM5hFJL"
      },
      "source": [
        "**KNN**"
      ]
    },
    {
      "cell_type": "code",
      "execution_count": null,
      "metadata": {
        "colab": {
          "base_uri": "https://localhost:8080/"
        },
        "id": "uuP_HtdmhFJL",
        "outputId": "5ce4f0e0-85e0-433a-c84a-fccc7bd960a3"
      },
      "outputs": [
        {
          "name": "stdout",
          "output_type": "stream",
          "text": [
            "Check-ins - MAE: 2.3345014859597635 MSE: 13.958682756385922 R2: 0.2783033362877275\n",
            "Predicted Check-ins: [5.12]\n"
          ]
        },
        {
          "name": "stderr",
          "output_type": "stream",
          "text": [
            "/usr/local/lib/python3.10/dist-packages/sklearn/base.py:465: UserWarning: X does not have valid feature names, but KNeighborsRegressor was fitted with feature names\n",
            "  warnings.warn(\n"
          ]
        }
      ],
      "source": [
        "from sklearn.neighbors import KNeighborsRegressor\n",
        "\n",
        "knn_checkins = KNeighborsRegressor(n_neighbors=100)\n",
        "knn_checkins.fit(X_train, y_checkins_train)\n",
        "\n",
        "checkins_preds = knn_checkins.predict(X_test)\n",
        "\n",
        "mae_checkins = mean_absolute_error(y_checkins_test, checkins_preds)\n",
        "mse_checkins = mean_squared_error(y_checkins_test, checkins_preds)\n",
        "r2_checkins = r2_score(y_checkins_test, checkins_preds)\n",
        "\n",
        "print(\"Check-ins - MAE:\", mae_checkins, \"MSE:\", mse_checkins, \"R2:\", r2_checkins)\n",
        "\n",
        "new_data = X_test.iloc[0]\n",
        "checkins_prediction = knn_checkins.predict([new_data])\n",
        "print(\"Predicted Check-ins:\", checkins_prediction)"
      ]
    },
    {
      "cell_type": "markdown",
      "metadata": {
        "id": "lG1SR_mlhFJL"
      },
      "source": [
        "**XGBoost Regressor**"
      ]
    },
    {
      "cell_type": "code",
      "execution_count": null,
      "metadata": {
        "colab": {
          "base_uri": "https://localhost:8080/"
        },
        "id": "NwPNxzM_hFJL",
        "outputId": "4add6aa3-5551-4b49-c2a8-fa0517789436"
      },
      "outputs": [
        {
          "name": "stdout",
          "output_type": "stream",
          "text": [
            "Check-ins - MAE: 2.0994481324801257 MSE: 10.266744527240629 R2: 0.4691852088187868\n",
            "Predicted Check-ins: [7.164379]\n"
          ]
        }
      ],
      "source": [
        "import xgboost as xgb\n",
        "\n",
        "xgb_checkins = xgb.XGBRegressor(n_estimators=1000,\n",
        "                                 random_state=42)\n",
        "xgb_checkins.fit(X_train, y_checkins_train)\n",
        "\n",
        "checkins_preds = xgb_checkins.predict(X_test)\n",
        "\n",
        "mae_checkins = mean_absolute_error(y_checkins_test, checkins_preds)\n",
        "mse_checkins = mean_squared_error(y_checkins_test, checkins_preds)\n",
        "r2_checkins = r2_score(y_checkins_test, checkins_preds)\n",
        "\n",
        "print(\"Check-ins - MAE:\", mae_checkins, \"MSE:\", mse_checkins, \"R2:\", r2_checkins)\n",
        "\n",
        "new_data = X_test.iloc[0]\n",
        "checkins_prediction = xgb_checkins.predict([new_data])\n",
        "print(\"Predicted Check-ins:\", checkins_prediction)"
      ]
    },
    {
      "cell_type": "markdown",
      "metadata": {
        "id": "2g03FBwLaWWi"
      },
      "source": [
        "# Hyperparameter Tuning\n",
        "\n",
        "Top 2 models (highest 2 R2 score) will be tuned to achieve highest R2 scoring model\n",
        "\n",
        "- Gradient Boosting Regressor\n",
        "- XGBoost Regressor"
      ]
    },
    {
      "cell_type": "markdown",
      "metadata": {
        "id": "DO1igkc2ajzQ"
      },
      "source": [
        "**Check-outs**"
      ]
    },
    {
      "cell_type": "markdown",
      "metadata": {
        "id": "0z1UfKlWTmzd"
      },
      "source": [
        "*XGBRegressor*"
      ]
    },
    {
      "cell_type": "code",
      "execution_count": null,
      "metadata": {
        "colab": {
          "base_uri": "https://localhost:8080/"
        },
        "id": "CGPVf_qLaiyO",
        "outputId": "d44a3918-b035-430f-e5a7-c21315b7f531"
      },
      "outputs": [
        {
          "name": "stdout",
          "output_type": "stream",
          "text": [
            "Fitting 3 folds for each of 10 candidates, totalling 30 fits\n",
            "Best Parameters: {'subsample': 0.6, 'n_estimators': 1000, 'max_depth': 6, 'learning_rate': 0.1, 'colsample_bytree': 1.0}\n",
            "Best R2 Score: 0.5556789972439572\n",
            "Check-Outs - MAE: 1.9295921733467758 MSE: 8.079101593968957 R2: 0.49366455818710553\n"
          ]
        }
      ],
      "source": [
        "from sklearn.model_selection import RandomizedSearchCV\n",
        "\n",
        "param_grid = {\n",
        "    'n_estimators': [900, 1000],\n",
        "    'max_depth': [1, 6],\n",
        "    'learning_rate': [0.1, 0.2],\n",
        "    'subsample': [0.1, 0.6],\n",
        "    'colsample_bytree': [0.6, 1.0]\n",
        "}\n",
        "\n",
        "xgb_model = xgb.XGBRegressor(random_state=42)\n",
        "\n",
        "rand_search = RandomizedSearchCV(estimator=xgb_model, param_distributions=param_grid, cv=3, n_iter=10, scoring='r2', verbose=2, n_jobs=-1)\n",
        "\n",
        "rand_search.fit(X_train, y_checkouts_train)\n",
        "\n",
        "print(\"Best Parameters:\", rand_search.best_params_)\n",
        "print(\"Best R2 Score:\", rand_search.best_score_)\n",
        "\n",
        "best_model = rand_search.best_estimator_\n",
        "\n",
        "checkouts_preds = best_model.predict(X_test)\n",
        "\n",
        "mae_checkouts = mean_absolute_error(y_checkouts_test, checkouts_preds)\n",
        "mse_checkouts = mean_squared_error(y_checkouts_test, checkouts_preds)\n",
        "r2_checkouts = r2_score(y_checkouts_test, checkouts_preds)\n",
        "\n",
        "print(\"Check-Outs - MAE:\", mae_checkouts, \"MSE:\", mse_checkouts, \"R2:\", r2_checkouts)"
      ]
    },
    {
      "cell_type": "code",
      "execution_count": null,
      "metadata": {
        "colab": {
          "base_uri": "https://localhost:8080/"
        },
        "id": "PjLi4WwktR5M",
        "outputId": "eaaa8215-ae45-4d68-b386-a22c4c1eceba"
      },
      "outputs": [
        {
          "name": "stdout",
          "output_type": "stream",
          "text": [
            "Fitting 3 folds for each of 8 candidates, totalling 24 fits\n"
          ]
        },
        {
          "name": "stderr",
          "output_type": "stream",
          "text": [
            "/usr/local/lib/python3.10/dist-packages/joblib/externals/loky/process_executor.py:752: UserWarning: A worker stopped while some jobs were given to the executor. This can be caused by a too short worker timeout or by a memory leak.\n",
            "  warnings.warn(\n"
          ]
        },
        {
          "name": "stdout",
          "output_type": "stream",
          "text": [
            "Best Parameters: {'learning_rate': 0.05, 'max_depth': 10, 'subsample': 1.0}\n",
            "Best R2 Score: 0.5675357321755298\n",
            "Check-Outs - MAE: 1.9464551459596329 MSE: 8.255662239449114 R2: 0.48259910599589895\n"
          ]
        }
      ],
      "source": [
        "from sklearn.model_selection import GridSearchCV\n",
        "\n",
        "param_grid = {\n",
        "    'max_depth': [6, 10],\n",
        "    'learning_rate': [0.05, 0.1],\n",
        "    'subsample': [0.6, 1.0]\n",
        "}\n",
        "\n",
        "xgb_model = xgb.XGBRegressor(n_estimators=1000, random_state=42)\n",
        "\n",
        "grid_search = GridSearchCV(estimator=xgb_model, param_grid=param_grid, cv=3, scoring='r2', verbose=2, n_jobs=-1)\n",
        "\n",
        "grid_search.fit(X_train, y_checkouts_train)\n",
        "\n",
        "print(\"Best Parameters:\", grid_search.best_params_)\n",
        "print(\"Best R2 Score:\", grid_search.best_score_)\n",
        "\n",
        "best_model = grid_search.best_estimator_\n",
        "\n",
        "checkouts_preds = best_model.predict(X_test)\n",
        "\n",
        "mae_checkouts = mean_absolute_error(y_checkouts_test, checkouts_preds)\n",
        "mse_checkouts = mean_squared_error(y_checkouts_test, checkouts_preds)\n",
        "r2_checkouts = r2_score(y_checkouts_test, checkouts_preds)\n",
        "\n",
        "print(\"Check-Outs - MAE:\", mae_checkouts, \"MSE:\", mse_checkouts, \"R2:\", r2_checkouts)"
      ]
    },
    {
      "cell_type": "code",
      "execution_count": null,
      "metadata": {
        "colab": {
          "base_uri": "https://localhost:8080/",
          "height": 471
        },
        "id": "3P8-b4eO1YbT",
        "outputId": "7dcf2b53-22cd-4721-bd83-ad756ab453ee"
      },
      "outputs": [
        {
          "name": "stdout",
          "output_type": "stream",
          "text": [
            "Fitting 3 folds for each of 4 candidates, totalling 12 fits\n",
            "[CV] END ...................learning_rate=0.01, max_depth=10; total time=  52.9s\n",
            "[CV] END ...................learning_rate=0.01, max_depth=10; total time=  48.8s\n",
            "[CV] END ...................learning_rate=0.01, max_depth=10; total time=  49.4s\n",
            "[CV] END ...................learning_rate=0.01, max_depth=15; total time= 3.9min\n",
            "[CV] END ...................learning_rate=0.01, max_depth=15; total time= 3.8min\n",
            "[CV] END ...................learning_rate=0.01, max_depth=15; total time= 4.7min\n",
            "[CV] END ...................learning_rate=0.05, max_depth=10; total time=  51.8s\n",
            "[CV] END ...................learning_rate=0.05, max_depth=10; total time=  48.7s\n",
            "[CV] END ...................learning_rate=0.05, max_depth=10; total time=  44.5s\n",
            "[CV] END ...................learning_rate=0.05, max_depth=15; total time= 3.1min\n",
            "[CV] END ...................learning_rate=0.05, max_depth=15; total time= 2.9min\n",
            "[CV] END ...................learning_rate=0.05, max_depth=15; total time= 2.9min\n",
            "Best Parameters: {'learning_rate': 0.01, 'max_depth': 10}\n",
            "Best R2 Score: 0.5696298016642842\n"
          ]
        },
        {
          "ename": "NameError",
          "evalue": "name 'mean_absolute_error' is not defined",
          "output_type": "error",
          "traceback": [
            "\u001b[0;31m---------------------------------------------------------------------------\u001b[0m",
            "\u001b[0;31mNameError\u001b[0m                                 Traceback (most recent call last)",
            "\u001b[0;32m<ipython-input-11-ff6094ea43f9>\u001b[0m in \u001b[0;36m<cell line: 30>\u001b[0;34m()\u001b[0m\n\u001b[1;32m     28\u001b[0m \u001b[0;34m\u001b[0m\u001b[0m\n\u001b[1;32m     29\u001b[0m \u001b[0;31m# Calculate metrics\u001b[0m\u001b[0;34m\u001b[0m\u001b[0;34m\u001b[0m\u001b[0m\n\u001b[0;32m---> 30\u001b[0;31m \u001b[0mmae_checkouts\u001b[0m \u001b[0;34m=\u001b[0m \u001b[0mmean_absolute_error\u001b[0m\u001b[0;34m(\u001b[0m\u001b[0my_checkouts_test\u001b[0m\u001b[0;34m,\u001b[0m \u001b[0mcheckouts_preds\u001b[0m\u001b[0;34m)\u001b[0m\u001b[0;34m\u001b[0m\u001b[0;34m\u001b[0m\u001b[0m\n\u001b[0m\u001b[1;32m     31\u001b[0m \u001b[0mmse_checkouts\u001b[0m \u001b[0;34m=\u001b[0m \u001b[0mmean_squared_error\u001b[0m\u001b[0;34m(\u001b[0m\u001b[0my_checkouts_test\u001b[0m\u001b[0;34m,\u001b[0m \u001b[0mcheckouts_preds\u001b[0m\u001b[0;34m)\u001b[0m\u001b[0;34m\u001b[0m\u001b[0;34m\u001b[0m\u001b[0m\n\u001b[1;32m     32\u001b[0m \u001b[0mr2_checkouts\u001b[0m \u001b[0;34m=\u001b[0m \u001b[0mr2_score\u001b[0m\u001b[0;34m(\u001b[0m\u001b[0my_checkouts_test\u001b[0m\u001b[0;34m,\u001b[0m \u001b[0mcheckouts_preds\u001b[0m\u001b[0;34m)\u001b[0m\u001b[0;34m\u001b[0m\u001b[0;34m\u001b[0m\u001b[0m\n",
            "\u001b[0;31mNameError\u001b[0m: name 'mean_absolute_error' is not defined"
          ]
        }
      ],
      "source": [
        "from sklearn.model_selection import GridSearchCV\n",
        "import xgboost as xgb\n",
        "from sklearn.metrics import mean_absolute_error, mean_squared_error, r2_score\n",
        "\n",
        "param_grid = {\n",
        "    'max_depth': [10, 15],\n",
        "    'learning_rate': [0.01, 0.05]\n",
        "}\n",
        "\n",
        "xgb_model = xgb.XGBRegressor(n_estimators=1000, random_state=42)\n",
        "\n",
        "grid_search = GridSearchCV(estimator=xgb_model, param_grid=param_grid, cv=3, scoring='r2', verbose=2)\n",
        "\n",
        "grid_search.fit(X_train, y_checkouts_train)\n",
        "\n",
        "print(\"Best Parameters:\", grid_search.best_params_)\n",
        "print(\"Best R2 Score:\", grid_search.best_score_)\n",
        "\n",
        "best_model = grid_search.best_estimator_\n",
        "\n",
        "checkouts_preds = best_model.predict(X_test)\n",
        "\n",
        "mae_checkouts = mean_absolute_error(y_checkouts_test, checkouts_preds)\n",
        "mse_checkouts = mean_squared_error(y_checkouts_test, checkouts_preds)\n",
        "r2_checkouts = r2_score(y_checkouts_test, checkouts_preds)\n",
        "\n",
        "print(\"Check-Outs - MAE:\", mae_checkouts, \"MSE:\", mse_checkouts, \"R2:\", r2_checkouts)"
      ]
    },
    {
      "cell_type": "code",
      "execution_count": null,
      "metadata": {
        "colab": {
          "base_uri": "https://localhost:8080/"
        },
        "id": "UKyduyfjC9oc",
        "outputId": "a76707a3-585d-4ab9-d2ad-cf84dc5005ac"
      },
      "outputs": [
        {
          "name": "stdout",
          "output_type": "stream",
          "text": [
            "Fitting 3 folds for each of 2 candidates, totalling 6 fits\n",
            "[CV] END ................................learning_rate=0.005; total time=  58.5s\n",
            "[CV] END ................................learning_rate=0.005; total time=  59.2s\n",
            "[CV] END ................................learning_rate=0.005; total time= 1.0min\n",
            "[CV] END .................................learning_rate=0.01; total time=  54.8s\n",
            "[CV] END .................................learning_rate=0.01; total time=  50.0s\n",
            "[CV] END .................................learning_rate=0.01; total time=  53.7s\n",
            "Best Parameters: {'learning_rate': 0.01}\n",
            "Best R2 Score: 0.5696298016642842\n",
            "Check-Outs - MAE: 1.9131548522456532 MSE: 8.006881068154744 R2: 0.4981907807405386\n"
          ]
        }
      ],
      "source": [
        "from sklearn.model_selection import GridSearchCV\n",
        "import xgboost as xgb\n",
        "from sklearn.metrics import mean_absolute_error, mean_squared_error, r2_score\n",
        "\n",
        "param_grid = {\n",
        "    'learning_rate': [0.005, 0.01]\n",
        "}\n",
        "\n",
        "xgb_model = xgb.XGBRegressor(n_estimators=1000, max_depth=10, random_state=42)\n",
        "\n",
        "grid_search = GridSearchCV(estimator=xgb_model, param_grid=param_grid, cv=3, scoring='r2', verbose=2)\n",
        "\n",
        "grid_search.fit(X_train, y_checkouts_train)\n",
        "\n",
        "print(\"Best Parameters:\", grid_search.best_params_)\n",
        "print(\"Best R2 Score:\", grid_search.best_score_)\n",
        "\n",
        "best_model = grid_search.best_estimator_\n",
        "\n",
        "checkouts_preds = best_model.predict(X_test)\n",
        "\n",
        "mae_checkouts = mean_absolute_error(y_checkouts_test, checkouts_preds)\n",
        "mse_checkouts = mean_squared_error(y_checkouts_test, checkouts_preds)\n",
        "r2_checkouts = r2_score(y_checkouts_test, checkouts_preds)\n",
        "\n",
        "print(\"Check-Outs - MAE:\", mae_checkouts, \"MSE:\", mse_checkouts, \"R2:\", r2_checkouts)"
      ]
    },
    {
      "cell_type": "code",
      "execution_count": null,
      "metadata": {
        "colab": {
          "base_uri": "https://localhost:8080/"
        },
        "id": "7tlWz_f4FBjx",
        "outputId": "3d496516-0d37-4eaf-f950-d09df46b6362"
      },
      "outputs": [
        {
          "name": "stdout",
          "output_type": "stream",
          "text": [
            "Fitting 3 folds for each of 4 candidates, totalling 12 fits\n",
            "[CV] END ......................reg_alpha=0.1, reg_lambda=0.5; total time= 1.0min\n",
            "[CV] END ......................reg_alpha=0.1, reg_lambda=0.5; total time=  53.6s\n",
            "[CV] END ......................reg_alpha=0.1, reg_lambda=0.5; total time=  52.1s\n",
            "[CV] END ......................reg_alpha=0.1, reg_lambda=1.0; total time=  54.1s\n",
            "[CV] END ......................reg_alpha=0.1, reg_lambda=1.0; total time=  49.2s\n",
            "[CV] END ......................reg_alpha=0.1, reg_lambda=1.0; total time= 1.3min\n",
            "[CV] END ......................reg_alpha=1.0, reg_lambda=0.5; total time= 1.1min\n",
            "[CV] END ......................reg_alpha=1.0, reg_lambda=0.5; total time=  49.2s\n",
            "[CV] END ......................reg_alpha=1.0, reg_lambda=0.5; total time=  50.1s\n",
            "[CV] END ......................reg_alpha=1.0, reg_lambda=1.0; total time=  50.9s\n",
            "[CV] END ......................reg_alpha=1.0, reg_lambda=1.0; total time=  49.4s\n",
            "[CV] END ......................reg_alpha=1.0, reg_lambda=1.0; total time=  53.8s\n",
            "Best Parameters: {'reg_alpha': 1.0, 'reg_lambda': 1.0}\n",
            "Best R2 Score: 0.5702803869004537\n",
            "Check-Outs - MAE: 1.9131159768930999 MSE: 8.00679558781997 R2: 0.49819613798509976\n"
          ]
        }
      ],
      "source": [
        "from sklearn.model_selection import GridSearchCV\n",
        "import xgboost as xgb\n",
        "from sklearn.metrics import mean_absolute_error, mean_squared_error, r2_score\n",
        "\n",
        "param_grid = {\n",
        "    'reg_lambda': [0.5, 1.0],\n",
        "    'reg_alpha': [0.1, 1.0]\n",
        "}\n",
        "\n",
        "xgb_model = xgb.XGBRegressor(n_estimators=1000, max_depth=10, learning_rate=0.01, random_state=42)\n",
        "\n",
        "grid_search = GridSearchCV(estimator=xgb_model, param_grid=param_grid, cv=3, scoring='r2', verbose=2)\n",
        "\n",
        "grid_search.fit(X_train, y_checkouts_train)\n",
        "\n",
        "print(\"Best Parameters:\", grid_search.best_params_)\n",
        "print(\"Best R2 Score:\", grid_search.best_score_)\n",
        "\n",
        "best_model = grid_search.best_estimator_\n",
        "\n",
        "checkouts_preds = best_model.predict(X_test)\n",
        "\n",
        "mae_checkouts = mean_absolute_error(y_checkouts_test, checkouts_preds)\n",
        "mse_checkouts = mean_squared_error(y_checkouts_test, checkouts_preds)\n",
        "r2_checkouts = r2_score(y_checkouts_test, checkouts_preds)\n",
        "\n",
        "print(\"Check-Outs - MAE:\", mae_checkouts, \"MSE:\", mse_checkouts, \"R2:\", r2_checkouts)"
      ]
    },
    {
      "cell_type": "markdown",
      "metadata": {
        "id": "3PKKkRZNT0kF"
      },
      "source": [
        "*Gradient Boosting Regressor*"
      ]
    },
    {
      "cell_type": "code",
      "execution_count": null,
      "metadata": {
        "colab": {
          "base_uri": "https://localhost:8080/"
        },
        "id": "oLGeQVsbT4E-",
        "outputId": "99188faf-70ae-4ae8-a222-dadd7389e4f2"
      },
      "outputs": [
        {
          "name": "stdout",
          "output_type": "stream",
          "text": [
            "Fitting 3 folds for each of 10 candidates, totalling 30 fits\n",
            "[CV] END learning_rate=0.001, max_depth=3, n_estimators=100, subsample=0.6; total time=  23.0s\n",
            "[CV] END learning_rate=0.001, max_depth=3, n_estimators=100, subsample=0.6; total time=  18.5s\n",
            "[CV] END learning_rate=0.001, max_depth=3, n_estimators=100, subsample=0.6; total time=  18.9s\n",
            "[CV] END learning_rate=0.001, max_depth=3, n_estimators=100, subsample=1.0; total time=  27.4s\n",
            "[CV] END learning_rate=0.001, max_depth=3, n_estimators=100, subsample=1.0; total time=  26.5s\n",
            "[CV] END learning_rate=0.001, max_depth=3, n_estimators=100, subsample=1.0; total time=  26.6s\n",
            "[CV] END learning_rate=0.001, max_depth=10, n_estimators=100, subsample=1.0; total time= 1.3min\n",
            "[CV] END learning_rate=0.001, max_depth=10, n_estimators=100, subsample=1.0; total time= 1.4min\n",
            "[CV] END learning_rate=0.001, max_depth=10, n_estimators=100, subsample=1.0; total time= 1.4min\n",
            "[CV] END learning_rate=0.1, max_depth=10, n_estimators=1000, subsample=0.6; total time= 9.1min\n",
            "[CV] END learning_rate=0.1, max_depth=10, n_estimators=1000, subsample=0.6; total time= 9.1min\n",
            "[CV] END learning_rate=0.1, max_depth=10, n_estimators=1000, subsample=0.6; total time= 9.6min\n",
            "[CV] END learning_rate=0.1, max_depth=10, n_estimators=100, subsample=1.0; total time= 1.4min\n",
            "[CV] END learning_rate=0.1, max_depth=10, n_estimators=100, subsample=1.0; total time= 1.4min\n",
            "[CV] END learning_rate=0.1, max_depth=10, n_estimators=100, subsample=1.0; total time= 1.4min\n",
            "[CV] END learning_rate=0.1, max_depth=3, n_estimators=1000, subsample=1.0; total time= 4.4min\n",
            "[CV] END learning_rate=0.1, max_depth=3, n_estimators=1000, subsample=1.0; total time= 4.3min\n",
            "[CV] END learning_rate=0.1, max_depth=3, n_estimators=1000, subsample=1.0; total time= 4.3min\n",
            "[CV] END learning_rate=0.1, max_depth=3, n_estimators=100, subsample=0.6; total time=  18.1s\n",
            "[CV] END learning_rate=0.1, max_depth=3, n_estimators=100, subsample=0.6; total time=  18.1s\n",
            "[CV] END learning_rate=0.1, max_depth=3, n_estimators=100, subsample=0.6; total time=  19.0s\n",
            "[CV] END learning_rate=0.1, max_depth=3, n_estimators=100, subsample=1.0; total time=  25.9s\n",
            "[CV] END learning_rate=0.1, max_depth=3, n_estimators=100, subsample=1.0; total time=  26.5s\n",
            "[CV] END learning_rate=0.1, max_depth=3, n_estimators=100, subsample=1.0; total time=  26.6s\n",
            "[CV] END learning_rate=0.001, max_depth=3, n_estimators=1000, subsample=0.6; total time= 3.0min\n",
            "[CV] END learning_rate=0.001, max_depth=3, n_estimators=1000, subsample=0.6; total time= 3.1min\n",
            "[CV] END learning_rate=0.001, max_depth=3, n_estimators=1000, subsample=0.6; total time= 3.1min\n",
            "[CV] END learning_rate=0.1, max_depth=10, n_estimators=1000, subsample=1.0; total time=13.8min\n",
            "[CV] END learning_rate=0.1, max_depth=10, n_estimators=1000, subsample=1.0; total time=13.9min\n",
            "[CV] END learning_rate=0.1, max_depth=10, n_estimators=1000, subsample=1.0; total time=14.0min\n",
            "Best Parameters: {'subsample': 1.0, 'n_estimators': 100, 'max_depth': 10, 'learning_rate': 0.1}\n",
            "Best R2 Score: 0.5672256182287095\n",
            "MAE: 1.9228800728200108 MSE: 8.052592702557309 R2: 0.49532592994840474\n"
          ]
        }
      ],
      "source": [
        "from sklearn.ensemble import GradientBoostingRegressor\n",
        "from sklearn.model_selection import RandomizedSearchCV\n",
        "from sklearn.metrics import mean_absolute_error, mean_squared_error, r2_score\n",
        "import numpy as np\n",
        "\n",
        "param_distributions = {\n",
        "    'n_estimators': [100, 1000],\n",
        "    'max_depth': [3, 10],\n",
        "    'learning_rate': [0.001, 0.1],  # Log scale from 0.001 to 1\n",
        "    'subsample': [0.6, 1.0]\n",
        "}\n",
        "\n",
        "gbr_model = GradientBoostingRegressor(random_state=42)\n",
        "\n",
        "random_search = RandomizedSearchCV(\n",
        "    estimator=gbr_model,\n",
        "    param_distributions=param_distributions,\n",
        "    n_iter=10,\n",
        "    cv=3,\n",
        "    scoring='r2',\n",
        "    verbose=2,\n",
        "    random_state=42\n",
        ")\n",
        "\n",
        "random_search.fit(X_train, y_checkouts_train)\n",
        "\n",
        "print(\"Best Parameters:\", random_search.best_params_)\n",
        "print(\"Best R2 Score:\", random_search.best_score_)\n",
        "\n",
        "best_model = random_search.best_estimator_\n",
        "\n",
        "preds = best_model.predict(X_test)\n",
        "\n",
        "mae = mean_absolute_error(y_checkouts_test, preds)\n",
        "mse = mean_squared_error(y_checkouts_test, preds)\n",
        "r2 = r2_score(y_checkouts_test, preds)\n",
        "\n",
        "print(\"MAE:\", mae, \"MSE:\", mse, \"R2:\", r2)"
      ]
    },
    {
      "cell_type": "code",
      "execution_count": null,
      "metadata": {
        "colab": {
          "base_uri": "https://localhost:8080/"
        },
        "id": "AWVLQ2QR42HG",
        "outputId": "9d478210-012c-4c80-b09d-4693e04d0012"
      },
      "outputs": [
        {
          "name": "stdout",
          "output_type": "stream",
          "text": [
            "Fitting 3 folds for each of 8 candidates, totalling 24 fits\n",
            "[CV] END ..learning_rate=0.1, max_depth=10, n_estimators=100; total time= 1.4min\n",
            "[CV] END ..learning_rate=0.1, max_depth=10, n_estimators=100; total time= 1.4min\n",
            "[CV] END ..learning_rate=0.1, max_depth=10, n_estimators=100; total time= 1.4min\n",
            "[CV] END ..learning_rate=0.1, max_depth=10, n_estimators=200; total time= 2.7min\n",
            "[CV] END ..learning_rate=0.1, max_depth=10, n_estimators=200; total time= 2.8min\n",
            "[CV] END ..learning_rate=0.1, max_depth=10, n_estimators=200; total time= 2.8min\n",
            "[CV] END ..learning_rate=0.1, max_depth=12, n_estimators=100; total time= 1.6min\n",
            "[CV] END ..learning_rate=0.1, max_depth=12, n_estimators=100; total time= 1.6min\n",
            "[CV] END ..learning_rate=0.1, max_depth=12, n_estimators=100; total time= 1.7min\n",
            "[CV] END ..learning_rate=0.1, max_depth=12, n_estimators=200; total time= 3.2min\n",
            "[CV] END ..learning_rate=0.1, max_depth=12, n_estimators=200; total time= 3.3min\n",
            "[CV] END ..learning_rate=0.1, max_depth=12, n_estimators=200; total time= 3.3min\n",
            "[CV] END ..learning_rate=0.2, max_depth=10, n_estimators=100; total time= 1.4min\n",
            "[CV] END ..learning_rate=0.2, max_depth=10, n_estimators=100; total time= 1.4min\n",
            "[CV] END ..learning_rate=0.2, max_depth=10, n_estimators=100; total time= 1.4min\n",
            "[CV] END ..learning_rate=0.2, max_depth=10, n_estimators=200; total time= 2.8min\n",
            "[CV] END ..learning_rate=0.2, max_depth=10, n_estimators=200; total time= 2.8min\n",
            "[CV] END ..learning_rate=0.2, max_depth=10, n_estimators=200; total time= 2.8min\n",
            "[CV] END ..learning_rate=0.2, max_depth=12, n_estimators=100; total time= 1.6min\n",
            "[CV] END ..learning_rate=0.2, max_depth=12, n_estimators=100; total time= 1.6min\n",
            "[CV] END ..learning_rate=0.2, max_depth=12, n_estimators=100; total time= 1.6min\n",
            "[CV] END ..learning_rate=0.2, max_depth=12, n_estimators=200; total time= 3.3min\n",
            "[CV] END ..learning_rate=0.2, max_depth=12, n_estimators=200; total time= 3.3min\n",
            "[CV] END ..learning_rate=0.2, max_depth=12, n_estimators=200; total time= 3.4min\n",
            "Best Parameters: {'learning_rate': 0.1, 'max_depth': 10, 'n_estimators': 200}\n",
            "Best R2 Score: 0.5684519770568355\n",
            "MAE: 1.9344193550363382 MSE: 8.124449676824016 R2: 0.49082249198695715\n"
          ]
        }
      ],
      "source": [
        "from sklearn.ensemble import GradientBoostingRegressor\n",
        "from sklearn.model_selection import GridSearchCV\n",
        "from sklearn.metrics import mean_absolute_error, mean_squared_error, r2_score\n",
        "import numpy as np\n",
        "\n",
        "param_grid = {\n",
        "    'n_estimators': [100, 200],\n",
        "    'max_depth': [10, 12],\n",
        "    'learning_rate': [0.1, 0.2]\n",
        "}\n",
        "\n",
        "gbr_model = GradientBoostingRegressor(random_state=42)\n",
        "\n",
        "grid_search = GridSearchCV(\n",
        "    estimator=gbr_model,\n",
        "    param_grid=param_grid,\n",
        "    cv=3,\n",
        "    scoring='r2',\n",
        "    verbose=2\n",
        ")\n",
        "\n",
        "grid_search.fit(X_train, y_checkouts_train)\n",
        "\n",
        "print(\"Best Parameters:\", grid_search.best_params_)\n",
        "print(\"Best R2 Score:\", grid_search.best_score_)\n",
        "\n",
        "best_model = grid_search.best_estimator_\n",
        "\n",
        "preds = best_model.predict(X_test)\n",
        "\n",
        "mae = mean_absolute_error(y_checkouts_test, preds)\n",
        "mse = mean_squared_error(y_checkouts_test, preds)\n",
        "r2 = r2_score(y_checkouts_test, preds)\n",
        "\n",
        "print(\"MAE:\", mae, \"MSE:\", mse, \"R2:\", r2)"
      ]
    },
    {
      "cell_type": "markdown",
      "metadata": {
        "id": "KYOh1K00al_D"
      },
      "source": [
        "**Check-ins**"
      ]
    },
    {
      "cell_type": "markdown",
      "metadata": {
        "id": "cMmGQBzjReHe"
      },
      "source": [
        "*XGBRegressor*"
      ]
    },
    {
      "cell_type": "code",
      "execution_count": null,
      "metadata": {
        "colab": {
          "base_uri": "https://localhost:8080/"
        },
        "id": "LuS4fz4KReHl",
        "outputId": "ef22abd2-2cc9-4ae6-d8f6-cb902b04f20e"
      },
      "outputs": [
        {
          "name": "stdout",
          "output_type": "stream",
          "text": [
            "Fitting 3 folds for each of 10 candidates, totalling 30 fits\n",
            "[CV] END colsample_bytree=1.0, learning_rate=0.2, max_depth=1, n_estimators=100, subsample=0.6; total time=   5.2s\n",
            "[CV] END colsample_bytree=1.0, learning_rate=0.2, max_depth=1, n_estimators=100, subsample=0.6; total time=   1.0s\n",
            "[CV] END colsample_bytree=1.0, learning_rate=0.2, max_depth=1, n_estimators=100, subsample=0.6; total time=   0.9s\n",
            "[CV] END colsample_bytree=1.0, learning_rate=0.1, max_depth=6, n_estimators=100, subsample=0.6; total time=   2.6s\n",
            "[CV] END colsample_bytree=1.0, learning_rate=0.1, max_depth=6, n_estimators=100, subsample=0.6; total time=   2.0s\n",
            "[CV] END colsample_bytree=1.0, learning_rate=0.1, max_depth=6, n_estimators=100, subsample=0.6; total time=   2.0s\n",
            "[CV] END colsample_bytree=1.0, learning_rate=0.1, max_depth=1, n_estimators=1000, subsample=0.6; total time=  10.1s\n",
            "[CV] END colsample_bytree=1.0, learning_rate=0.1, max_depth=1, n_estimators=1000, subsample=0.6; total time=  11.7s\n",
            "[CV] END colsample_bytree=1.0, learning_rate=0.1, max_depth=1, n_estimators=1000, subsample=0.6; total time=  21.8s\n",
            "[CV] END colsample_bytree=0.6, learning_rate=0.1, max_depth=6, n_estimators=1000, subsample=0.6; total time=  22.8s\n",
            "[CV] END colsample_bytree=0.6, learning_rate=0.1, max_depth=6, n_estimators=1000, subsample=0.6; total time=  19.3s\n",
            "[CV] END colsample_bytree=0.6, learning_rate=0.1, max_depth=6, n_estimators=1000, subsample=0.6; total time=  22.8s\n",
            "[CV] END colsample_bytree=1.0, learning_rate=0.1, max_depth=1, n_estimators=100, subsample=0.1; total time=   0.9s\n",
            "[CV] END colsample_bytree=1.0, learning_rate=0.1, max_depth=1, n_estimators=100, subsample=0.1; total time=   0.9s\n",
            "[CV] END colsample_bytree=1.0, learning_rate=0.1, max_depth=1, n_estimators=100, subsample=0.1; total time=   0.9s\n",
            "[CV] END colsample_bytree=0.6, learning_rate=0.1, max_depth=1, n_estimators=1000, subsample=0.1; total time=   9.5s\n",
            "[CV] END colsample_bytree=0.6, learning_rate=0.1, max_depth=1, n_estimators=1000, subsample=0.1; total time=   6.1s\n",
            "[CV] END colsample_bytree=0.6, learning_rate=0.1, max_depth=1, n_estimators=1000, subsample=0.1; total time=  12.2s\n",
            "[CV] END colsample_bytree=1.0, learning_rate=0.2, max_depth=6, n_estimators=100, subsample=0.1; total time=   3.1s\n",
            "[CV] END colsample_bytree=1.0, learning_rate=0.2, max_depth=6, n_estimators=100, subsample=0.1; total time=  10.0s\n",
            "[CV] END colsample_bytree=1.0, learning_rate=0.2, max_depth=6, n_estimators=100, subsample=0.1; total time=  16.3s\n",
            "[CV] END colsample_bytree=0.6, learning_rate=0.1, max_depth=1, n_estimators=100, subsample=0.1; total time=   0.9s\n",
            "[CV] END colsample_bytree=0.6, learning_rate=0.1, max_depth=1, n_estimators=100, subsample=0.1; total time=   0.9s\n",
            "[CV] END colsample_bytree=0.6, learning_rate=0.1, max_depth=1, n_estimators=100, subsample=0.1; total time=   0.9s\n",
            "[CV] END colsample_bytree=0.6, learning_rate=0.2, max_depth=1, n_estimators=100, subsample=0.1; total time=   0.9s\n",
            "[CV] END colsample_bytree=0.6, learning_rate=0.2, max_depth=1, n_estimators=100, subsample=0.1; total time=   1.0s\n",
            "[CV] END colsample_bytree=0.6, learning_rate=0.2, max_depth=1, n_estimators=100, subsample=0.1; total time=   6.0s\n",
            "[CV] END colsample_bytree=1.0, learning_rate=0.2, max_depth=6, n_estimators=1000, subsample=0.1; total time=  37.1s\n",
            "[CV] END colsample_bytree=1.0, learning_rate=0.2, max_depth=6, n_estimators=1000, subsample=0.1; total time=  24.3s\n",
            "[CV] END colsample_bytree=1.0, learning_rate=0.2, max_depth=6, n_estimators=1000, subsample=0.1; total time=  22.8s\n",
            "Best Parameters: {'subsample': 0.6, 'n_estimators': 1000, 'max_depth': 6, 'learning_rate': 0.1, 'colsample_bytree': 0.6}\n",
            "Best R2 Score: 0.5702241943318392\n",
            "Check-ins - MAE: 2.049301308027567 MSE: 9.936451833945426 R2: 0.4862621163579769\n"
          ]
        }
      ],
      "source": [
        "from sklearn.model_selection import RandomizedSearchCV\n",
        "import xgboost as xgb\n",
        "from sklearn.metrics import mean_absolute_error, mean_squared_error, r2_score\n",
        "\n",
        "param_grid = {\n",
        "    'n_estimators': [100, 1000],\n",
        "    'max_depth': [1, 6],\n",
        "    'learning_rate': [0.1, 0.2],\n",
        "    'subsample': [0.1, 0.6],\n",
        "    'colsample_bytree': [0.6, 1.0]\n",
        "}\n",
        "\n",
        "xgb_model = xgb.XGBRegressor(random_state=42)\n",
        "\n",
        "rand_search = RandomizedSearchCV(estimator=xgb_model, param_distributions=param_grid, cv=3, n_iter=10, scoring='r2', verbose=2)\n",
        "\n",
        "rand_search.fit(X_train, y_checkins_train)\n",
        "\n",
        "print(\"Best Parameters:\", rand_search.best_params_)\n",
        "print(\"Best R2 Score:\", rand_search.best_score_)\n",
        "\n",
        "best_model = rand_search.best_estimator_\n",
        "\n",
        "checkins_preds = best_model.predict(X_test)\n",
        "\n",
        "mae_checkins = mean_absolute_error(y_checkins_test, checkins_preds)\n",
        "mse_checkins = mean_squared_error(y_checkins_test, checkins_preds)\n",
        "r2_checkins = r2_score(y_checkins_test, checkins_preds)\n",
        "\n",
        "print(\"Check-ins - MAE:\", mae_checkins, \"MSE:\", mse_checkins, \"R2:\", r2_checkins)"
      ]
    },
    {
      "cell_type": "code",
      "execution_count": null,
      "metadata": {
        "colab": {
          "base_uri": "https://localhost:8080/"
        },
        "id": "KcZeOv5gRue8",
        "outputId": "ed7005d2-82a1-4479-8c05-cdb948aa4bd8"
      },
      "outputs": [
        {
          "name": "stdout",
          "output_type": "stream",
          "text": [
            "Fitting 3 folds for each of 8 candidates, totalling 24 fits\n",
            "[CV] END .....learning_rate=0.05, max_depth=6, subsample=0.6; total time=  23.1s\n",
            "[CV] END .....learning_rate=0.05, max_depth=6, subsample=0.6; total time=  20.7s\n",
            "[CV] END .....learning_rate=0.05, max_depth=6, subsample=0.6; total time=  20.6s\n",
            "[CV] END .....learning_rate=0.05, max_depth=6, subsample=1.0; total time=  17.4s\n",
            "[CV] END .....learning_rate=0.05, max_depth=6, subsample=1.0; total time=  19.4s\n",
            "[CV] END .....learning_rate=0.05, max_depth=6, subsample=1.0; total time=  18.6s\n",
            "[CV] END ....learning_rate=0.05, max_depth=10, subsample=0.6; total time=  43.6s\n",
            "[CV] END ....learning_rate=0.05, max_depth=10, subsample=0.6; total time=  43.2s\n",
            "[CV] END ....learning_rate=0.05, max_depth=10, subsample=0.6; total time=  43.2s\n",
            "[CV] END ....learning_rate=0.05, max_depth=10, subsample=1.0; total time=  39.5s\n",
            "[CV] END ....learning_rate=0.05, max_depth=10, subsample=1.0; total time=  46.3s\n",
            "[CV] END ....learning_rate=0.05, max_depth=10, subsample=1.0; total time=  38.2s\n",
            "[CV] END ......learning_rate=0.1, max_depth=6, subsample=0.6; total time=  19.7s\n",
            "[CV] END ......learning_rate=0.1, max_depth=6, subsample=0.6; total time=  19.2s\n",
            "[CV] END ......learning_rate=0.1, max_depth=6, subsample=0.6; total time=  26.7s\n",
            "[CV] END ......learning_rate=0.1, max_depth=6, subsample=1.0; total time=  18.2s\n",
            "[CV] END ......learning_rate=0.1, max_depth=6, subsample=1.0; total time=  19.4s\n",
            "[CV] END ......learning_rate=0.1, max_depth=6, subsample=1.0; total time=  17.4s\n",
            "[CV] END .....learning_rate=0.1, max_depth=10, subsample=0.6; total time=  43.6s\n",
            "[CV] END .....learning_rate=0.1, max_depth=10, subsample=0.6; total time=  43.8s\n",
            "[CV] END .....learning_rate=0.1, max_depth=10, subsample=0.6; total time=  44.9s\n",
            "[CV] END .....learning_rate=0.1, max_depth=10, subsample=1.0; total time=  37.5s\n",
            "[CV] END .....learning_rate=0.1, max_depth=10, subsample=1.0; total time=  38.3s\n",
            "[CV] END .....learning_rate=0.1, max_depth=10, subsample=1.0; total time=  37.4s\n",
            "Best Parameters: {'learning_rate': 0.05, 'max_depth': 10, 'subsample': 1.0}\n",
            "Best R2 Score: 0.5933374236607244\n",
            "MAE: 2.0529403304964124 MSE: 9.978092220525099 R2: 0.48410921062935497\n"
          ]
        }
      ],
      "source": [
        "import xgboost as xgb\n",
        "from sklearn.model_selection import GridSearchCV\n",
        "from sklearn.metrics import mean_absolute_error, mean_squared_error, r2_score\n",
        "import numpy as np\n",
        "\n",
        "param_grid = {\n",
        "    'subsample': [0.6, 1.0],\n",
        "    'max_depth': [6, 10],\n",
        "    'learning_rate': [0.05, 0.1]\n",
        "}\n",
        "\n",
        "xgb_model = xgb.XGBRegressor(n_estimators=1000, colsample_bytree=0.6, random_state=42)\n",
        "\n",
        "grid_search = GridSearchCV(\n",
        "    estimator=xgb_model,\n",
        "    param_grid=param_grid,\n",
        "    cv=3,\n",
        "    scoring='r2',\n",
        "    verbose=2\n",
        ")\n",
        "\n",
        "grid_search.fit(X_train, y_checkins_train)\n",
        "\n",
        "print(\"Best Parameters:\", grid_search.best_params_)\n",
        "print(\"Best R2 Score:\", grid_search.best_score_)\n",
        "\n",
        "best_model = grid_search.best_estimator_\n",
        "\n",
        "preds = best_model.predict(X_test)\n",
        "\n",
        "mae = mean_absolute_error(y_checkins_test, preds)\n",
        "mse = mean_squared_error(y_checkins_test, preds)\n",
        "r2 = r2_score(y_checkins_test, preds)\n",
        "\n",
        "print(\"MAE:\", mae, \"MSE:\", mse, \"R2:\", r2)"
      ]
    },
    {
      "cell_type": "code",
      "execution_count": null,
      "metadata": {
        "colab": {
          "base_uri": "https://localhost:8080/"
        },
        "id": "3mPc_OxXfLhz",
        "outputId": "5c3490e1-bf8a-42af-b0e0-ee4327ce68d1"
      },
      "outputs": [
        {
          "name": "stdout",
          "output_type": "stream",
          "text": [
            "Fitting 3 folds for each of 4 candidates, totalling 12 fits\n",
            "[CV] END ...................learning_rate=0.01, max_depth=10; total time=  49.3s\n",
            "[CV] END ...................learning_rate=0.01, max_depth=10; total time=  49.9s\n",
            "[CV] END ...................learning_rate=0.01, max_depth=10; total time=  49.4s\n",
            "[CV] END ...................learning_rate=0.01, max_depth=12; total time= 1.4min\n",
            "[CV] END ...................learning_rate=0.01, max_depth=12; total time= 1.4min\n",
            "[CV] END ...................learning_rate=0.01, max_depth=12; total time= 1.4min\n",
            "[CV] END ...................learning_rate=0.05, max_depth=10; total time=  38.9s\n",
            "[CV] END ...................learning_rate=0.05, max_depth=10; total time=  36.1s\n",
            "[CV] END ...................learning_rate=0.05, max_depth=10; total time=  39.5s\n",
            "[CV] END ...................learning_rate=0.05, max_depth=12; total time= 1.1min\n",
            "[CV] END ...................learning_rate=0.05, max_depth=12; total time=  59.0s\n",
            "[CV] END ...................learning_rate=0.05, max_depth=12; total time=  59.4s\n",
            "Best Parameters: {'learning_rate': 0.01, 'max_depth': 12}\n",
            "Best R2 Score: 0.5982256421824168\n",
            "MAE: 2.0485942868305895 MSE: 10.053101876781874 R2: 0.4802310353307615\n"
          ]
        }
      ],
      "source": [
        "import xgboost as xgb\n",
        "from sklearn.model_selection import GridSearchCV\n",
        "from sklearn.metrics import mean_absolute_error, mean_squared_error, r2_score\n",
        "import numpy as np\n",
        "\n",
        "param_grid = {\n",
        "    'max_depth': [10, 12],\n",
        "    'learning_rate': [0.01, 0.05]\n",
        "}\n",
        "\n",
        "xgb_model = xgb.XGBRegressor(n_estimators=1000, colsample_bytree=0.6, subsample=1.0, random_state=42)\n",
        "\n",
        "grid_search = GridSearchCV(\n",
        "    estimator=xgb_model,\n",
        "    param_grid=param_grid,\n",
        "    cv=3,\n",
        "    scoring='r2',\n",
        "    verbose=2\n",
        ")\n",
        "\n",
        "grid_search.fit(X_train, y_checkins_train)\n",
        "\n",
        "print(\"Best Parameters:\", grid_search.best_params_)\n",
        "print(\"Best R2 Score:\", grid_search.best_score_)\n",
        "\n",
        "best_model = grid_search.best_estimator_\n",
        "\n",
        "preds = best_model.predict(X_test)\n",
        "\n",
        "mae = mean_absolute_error(y_checkins_test, preds)\n",
        "mse = mean_squared_error(y_checkins_test, preds)\n",
        "r2 = r2_score(y_checkins_test, preds)\n",
        "\n",
        "print(\"MAE:\", mae, \"MSE:\", mse, \"R2:\", r2)"
      ]
    },
    {
      "cell_type": "markdown",
      "metadata": {
        "id": "JhrCHObeRumF"
      },
      "source": [
        "*Gradient Boosting Regressor*"
      ]
    },
    {
      "cell_type": "code",
      "execution_count": null,
      "metadata": {
        "colab": {
          "base_uri": "https://localhost:8080/"
        },
        "id": "kMEKHiR7RumF",
        "outputId": "ad2e4217-7c71-49c1-f45b-2ed0b196b8dd"
      },
      "outputs": [
        {
          "name": "stdout",
          "output_type": "stream",
          "text": [
            "Fitting 3 folds for each of 10 candidates, totalling 30 fits\n",
            "[CV] END learning_rate=0.001, max_depth=3, n_estimators=100, subsample=0.6; total time=  19.1s\n",
            "[CV] END learning_rate=0.001, max_depth=3, n_estimators=100, subsample=0.6; total time=  18.5s\n",
            "[CV] END learning_rate=0.001, max_depth=3, n_estimators=100, subsample=0.6; total time=  18.9s\n",
            "[CV] END learning_rate=0.001, max_depth=3, n_estimators=100, subsample=1.0; total time=  26.9s\n",
            "[CV] END learning_rate=0.001, max_depth=3, n_estimators=100, subsample=1.0; total time=  27.4s\n",
            "[CV] END learning_rate=0.001, max_depth=3, n_estimators=100, subsample=1.0; total time=  27.3s\n",
            "[CV] END learning_rate=0.001, max_depth=10, n_estimators=100, subsample=1.0; total time= 1.4min\n",
            "[CV] END learning_rate=0.001, max_depth=10, n_estimators=100, subsample=1.0; total time= 1.4min\n",
            "[CV] END learning_rate=0.001, max_depth=10, n_estimators=100, subsample=1.0; total time= 1.4min\n",
            "[CV] END learning_rate=0.1, max_depth=10, n_estimators=1000, subsample=0.6; total time= 9.3min\n",
            "[CV] END learning_rate=0.1, max_depth=10, n_estimators=1000, subsample=0.6; total time= 9.1min\n",
            "[CV] END learning_rate=0.1, max_depth=10, n_estimators=1000, subsample=0.6; total time= 9.8min\n",
            "[CV] END learning_rate=0.1, max_depth=10, n_estimators=100, subsample=1.0; total time= 1.5min\n",
            "[CV] END learning_rate=0.1, max_depth=10, n_estimators=100, subsample=1.0; total time= 1.6min\n",
            "[CV] END learning_rate=0.1, max_depth=10, n_estimators=100, subsample=1.0; total time= 1.4min\n",
            "[CV] END learning_rate=0.1, max_depth=3, n_estimators=1000, subsample=1.0; total time= 4.5min\n",
            "[CV] END learning_rate=0.1, max_depth=3, n_estimators=1000, subsample=1.0; total time= 4.5min\n",
            "[CV] END learning_rate=0.1, max_depth=3, n_estimators=1000, subsample=1.0; total time= 4.5min\n",
            "[CV] END learning_rate=0.1, max_depth=3, n_estimators=100, subsample=0.6; total time=  18.3s\n",
            "[CV] END learning_rate=0.1, max_depth=3, n_estimators=100, subsample=0.6; total time=  18.6s\n",
            "[CV] END learning_rate=0.1, max_depth=3, n_estimators=100, subsample=0.6; total time=  19.7s\n",
            "[CV] END learning_rate=0.1, max_depth=3, n_estimators=100, subsample=1.0; total time=  26.6s\n",
            "[CV] END learning_rate=0.1, max_depth=3, n_estimators=100, subsample=1.0; total time=  27.4s\n",
            "[CV] END learning_rate=0.1, max_depth=3, n_estimators=100, subsample=1.0; total time=  27.0s\n",
            "[CV] END learning_rate=0.001, max_depth=3, n_estimators=1000, subsample=0.6; total time= 3.1min\n",
            "[CV] END learning_rate=0.001, max_depth=3, n_estimators=1000, subsample=0.6; total time= 3.1min\n",
            "[CV] END learning_rate=0.001, max_depth=3, n_estimators=1000, subsample=0.6; total time= 3.1min\n",
            "[CV] END learning_rate=0.1, max_depth=10, n_estimators=1000, subsample=1.0; total time=14.3min\n",
            "[CV] END learning_rate=0.1, max_depth=10, n_estimators=1000, subsample=1.0; total time=14.0min\n",
            "[CV] END learning_rate=0.1, max_depth=10, n_estimators=1000, subsample=1.0; total time=14.0min\n",
            "Best Parameters: {'subsample': 1.0, 'n_estimators': 100, 'max_depth': 10, 'learning_rate': 0.1}\n",
            "Best R2 Score: 0.5854233771023744\n",
            "MAE: 2.0424596314075076 MSE: 9.894804940524876 R2: 0.4884153585055456\n"
          ]
        }
      ],
      "source": [
        "from sklearn.ensemble import GradientBoostingRegressor\n",
        "from sklearn.model_selection import RandomizedSearchCV\n",
        "from sklearn.metrics import mean_absolute_error, mean_squared_error, r2_score\n",
        "import numpy as np\n",
        "\n",
        "param_distributions = {\n",
        "    'n_estimators': [100, 1000],\n",
        "    'max_depth': [3, 10],\n",
        "    'learning_rate': [0.001, 0.1],  # Log scale from 0.001 to 1\n",
        "    'subsample': [0.6, 1.0]\n",
        "}\n",
        "\n",
        "gbr_model = GradientBoostingRegressor(random_state=42)\n",
        "\n",
        "random_search = RandomizedSearchCV(\n",
        "    estimator=gbr_model,\n",
        "    param_distributions=param_distributions,\n",
        "    n_iter=10,\n",
        "    cv=3,\n",
        "    scoring='r2',\n",
        "    verbose=2,\n",
        "    random_state=42\n",
        ")\n",
        "\n",
        "random_search.fit(X_train, y_checkins_train)\n",
        "\n",
        "print(\"Best Parameters:\", random_search.best_params_)\n",
        "print(\"Best R2 Score:\", random_search.best_score_)\n",
        "\n",
        "best_model = random_search.best_estimator_\n",
        "\n",
        "preds = best_model.predict(X_test)\n",
        "\n",
        "mae = mean_absolute_error(y_checkins_test, preds)\n",
        "mse = mean_squared_error(y_checkins_test, preds)\n",
        "r2 = r2_score(y_checkins_test, preds)\n",
        "\n",
        "print(\"MAE:\", mae, \"MSE:\", mse, \"R2:\", r2)"
      ]
    },
    {
      "cell_type": "code",
      "execution_count": null,
      "metadata": {
        "colab": {
          "background_save": true,
          "base_uri": "https://localhost:8080/"
        },
        "id": "WzYYti-p7nP3",
        "outputId": "817eeb03-8544-444e-8887-0198e9c66f10"
      },
      "outputs": [
        {
          "name": "stdout",
          "output_type": "stream",
          "text": [
            "Fitting 3 folds for each of 8 candidates, totalling 24 fits\n",
            "[CV] END ..learning_rate=0.1, max_depth=10, n_estimators=100; total time= 1.8min\n",
            "[CV] END ..learning_rate=0.1, max_depth=10, n_estimators=100; total time= 1.5min\n",
            "[CV] END ..learning_rate=0.1, max_depth=10, n_estimators=100; total time= 1.4min\n",
            "[CV] END ..learning_rate=0.1, max_depth=10, n_estimators=200; total time= 2.8min\n",
            "[CV] END ..learning_rate=0.1, max_depth=10, n_estimators=200; total time= 2.9min\n",
            "[CV] END ..learning_rate=0.1, max_depth=10, n_estimators=200; total time= 2.9min\n",
            "[CV] END ..learning_rate=0.1, max_depth=12, n_estimators=100; total time= 1.7min\n",
            "[CV] END ..learning_rate=0.1, max_depth=12, n_estimators=100; total time= 1.7min\n",
            "[CV] END ..learning_rate=0.1, max_depth=12, n_estimators=100; total time= 1.7min\n",
            "[CV] END ..learning_rate=0.1, max_depth=12, n_estimators=200; total time= 3.4min\n",
            "[CV] END ..learning_rate=0.1, max_depth=12, n_estimators=200; total time= 3.4min\n",
            "[CV] END ..learning_rate=0.1, max_depth=12, n_estimators=200; total time= 3.4min\n",
            "[CV] END ..learning_rate=0.2, max_depth=10, n_estimators=100; total time= 1.4min\n",
            "[CV] END ..learning_rate=0.2, max_depth=10, n_estimators=100; total time= 1.4min\n",
            "[CV] END ..learning_rate=0.2, max_depth=10, n_estimators=100; total time= 1.4min\n",
            "[CV] END ..learning_rate=0.2, max_depth=10, n_estimators=200; total time= 2.9min\n",
            "[CV] END ..learning_rate=0.2, max_depth=10, n_estimators=200; total time= 2.8min\n",
            "[CV] END ..learning_rate=0.2, max_depth=10, n_estimators=200; total time= 2.8min\n",
            "[CV] END ..learning_rate=0.2, max_depth=12, n_estimators=100; total time= 1.7min\n",
            "[CV] END ..learning_rate=0.2, max_depth=12, n_estimators=100; total time= 1.7min\n",
            "[CV] END ..learning_rate=0.2, max_depth=12, n_estimators=100; total time= 1.7min\n",
            "[CV] END ..learning_rate=0.2, max_depth=12, n_estimators=200; total time= 3.4min\n",
            "[CV] END ..learning_rate=0.2, max_depth=12, n_estimators=200; total time= 3.3min\n",
            "[CV] END ..learning_rate=0.2, max_depth=12, n_estimators=200; total time= 3.3min\n",
            "Best Parameters: {'learning_rate': 0.1, 'max_depth': 10, 'n_estimators': 200}\n",
            "Best R2 Score: 0.586963385618267\n",
            "MAE: 2.0560618797146124 MSE: 9.969709791822405 R2: 0.4845426018693537\n"
          ]
        }
      ],
      "source": [
        "from sklearn.ensemble import GradientBoostingRegressor\n",
        "from sklearn.model_selection import GridSearchCV\n",
        "from sklearn.metrics import mean_absolute_error, mean_squared_error, r2_score\n",
        "import numpy as np\n",
        "\n",
        "param_grid = {\n",
        "    'n_estimators': [100, 200],\n",
        "    'max_depth': [10, 12],\n",
        "    'learning_rate': [0.1, 0.2]\n",
        "}\n",
        "\n",
        "gbr_model = GradientBoostingRegressor(subsample=1.0, random_state=42)\n",
        "\n",
        "grid_search = GridSearchCV(\n",
        "    estimator=gbr_model,\n",
        "    param_grid=param_grid,\n",
        "    cv=3,\n",
        "    scoring='r2',\n",
        "    verbose=2\n",
        ")\n",
        "\n",
        "grid_search.fit(X_train, y_checkins_train)\n",
        "\n",
        "print(\"Best Parameters:\", grid_search.best_params_)\n",
        "print(\"Best R2 Score:\", grid_search.best_score_)\n",
        "\n",
        "best_model = grid_search.best_estimator_\n",
        "\n",
        "preds = best_model.predict(X_test)\n",
        "\n",
        "mae = mean_absolute_error(y_checkins_test, preds)\n",
        "mse = mean_squared_error(y_checkins_test, preds)\n",
        "r2 = r2_score(y_checkins_test, preds)\n",
        "\n",
        "print(\"MAE:\", mae, \"MSE:\", mse, \"R2:\", r2)"
      ]
    },
    {
      "cell_type": "code",
      "execution_count": null,
      "metadata": {
        "colab": {
          "base_uri": "https://localhost:8080/"
        },
        "id": "kBmhvj1EKz8S",
        "outputId": "ace22a85-2ae3-44ff-a5dc-8def86091a80"
      },
      "outputs": [
        {
          "output_type": "stream",
          "name": "stdout",
          "text": [
            "Fitting 3 folds for each of 4 candidates, totalling 12 fits\n",
            "[CV] END ...................................n_estimators=100; total time= 1.5min\n",
            "[CV] END ...................................n_estimators=100; total time= 1.4min\n",
            "[CV] END ...................................n_estimators=100; total time= 1.3min\n",
            "[CV] END ...................................n_estimators=200; total time= 2.8min\n",
            "[CV] END ...................................n_estimators=200; total time= 2.7min\n",
            "[CV] END ...................................n_estimators=200; total time= 2.7min\n",
            "[CV] END ...................................n_estimators=500; total time= 6.6min\n",
            "[CV] END ...................................n_estimators=500; total time= 6.7min\n",
            "[CV] END ...................................n_estimators=500; total time= 6.8min\n",
            "[CV] END ..................................n_estimators=1000; total time=13.4min\n",
            "[CV] END ..................................n_estimators=1000; total time=13.6min\n",
            "[CV] END ..................................n_estimators=1000; total time=13.6min\n",
            "Best Parameters: {'n_estimators': 200}\n",
            "Best R2 Score: 0.586963385618267\n",
            "MAE: 2.0560618797146124 MSE: 9.969709791822405 R2: 0.4845426018693537\n"
          ]
        }
      ],
      "source": [
        "from sklearn.ensemble import GradientBoostingRegressor\n",
        "from sklearn.model_selection import GridSearchCV\n",
        "from sklearn.metrics import mean_absolute_error, mean_squared_error, r2_score\n",
        "import numpy as np\n",
        "\n",
        "param_grid = {\n",
        "    'n_estimators': [100, 200, 500, 1000]\n",
        "}\n",
        "\n",
        "gbr_model = GradientBoostingRegressor(subsample=1.0, max_depth=10, learning_rate=0.1, random_state=42)\n",
        "\n",
        "grid_search = GridSearchCV(\n",
        "    estimator=gbr_model,\n",
        "    param_grid=param_grid,\n",
        "    cv=3,\n",
        "    scoring='r2',\n",
        "    verbose=2\n",
        ")\n",
        "\n",
        "grid_search.fit(X_train, y_checkins_train)\n",
        "\n",
        "print(\"Best Parameters:\", grid_search.best_params_)\n",
        "print(\"Best R2 Score:\", grid_search.best_score_)\n",
        "\n",
        "best_model = grid_search.best_estimator_\n",
        "\n",
        "preds = best_model.predict(X_test)\n",
        "\n",
        "mae = mean_absolute_error(y_checkins_test, preds)\n",
        "mse = mean_squared_error(y_checkins_test, preds)\n",
        "r2 = r2_score(y_checkins_test, preds)\n",
        "\n",
        "print(\"MAE:\", mae, \"MSE:\", mse, \"R2:\", r2)"
      ]
    },
    {
      "cell_type": "markdown",
      "metadata": {
        "id": "d-5wy1i3aONj"
      },
      "source": [
        "# Training of Final Models"
      ]
    },
    {
      "cell_type": "markdown",
      "metadata": {
        "id": "OuLyfwtDZRBb"
      },
      "source": [
        "**Check-outs**\n",
        "\n",
        "Chosen Model: XGBRegressor\n",
        "\n",
        "Chosen Hyperparameters:\n",
        "- n_estimators=1000\n",
        "- max_depth=10\n",
        "- learning_rate=0.01\n",
        "- reg_alpha=1.0\n",
        "- reg_lambda=1.0"
      ]
    },
    {
      "cell_type": "code",
      "execution_count": null,
      "metadata": {
        "id": "IEsG11dQarJA",
        "colab": {
          "base_uri": "https://localhost:8080/",
          "height": 248
        },
        "outputId": "510b8748-6f3e-4428-b9b3-468ff3699225"
      },
      "outputs": [
        {
          "output_type": "execute_result",
          "data": {
            "text/plain": [
              "XGBRegressor(base_score=None, booster=None, callbacks=None,\n",
              "             colsample_bylevel=None, colsample_bynode=None,\n",
              "             colsample_bytree=None, device=None, early_stopping_rounds=None,\n",
              "             enable_categorical=False, eval_metric=None, feature_types=None,\n",
              "             gamma=None, grow_policy=None, importance_type=None,\n",
              "             interaction_constraints=None, learning_rate=0.01, max_bin=None,\n",
              "             max_cat_threshold=None, max_cat_to_onehot=None,\n",
              "             max_delta_step=None, max_depth=10, max_leaves=None,\n",
              "             min_child_weight=None, missing=nan, monotone_constraints=None,\n",
              "             multi_strategy=None, n_estimators=1000, n_jobs=None,\n",
              "             num_parallel_tree=None, random_state=None, ...)"
            ],
            "text/html": [
              "<style>#sk-container-id-4 {color: black;}#sk-container-id-4 pre{padding: 0;}#sk-container-id-4 div.sk-toggleable {background-color: white;}#sk-container-id-4 label.sk-toggleable__label {cursor: pointer;display: block;width: 100%;margin-bottom: 0;padding: 0.3em;box-sizing: border-box;text-align: center;}#sk-container-id-4 label.sk-toggleable__label-arrow:before {content: \"▸\";float: left;margin-right: 0.25em;color: #696969;}#sk-container-id-4 label.sk-toggleable__label-arrow:hover:before {color: black;}#sk-container-id-4 div.sk-estimator:hover label.sk-toggleable__label-arrow:before {color: black;}#sk-container-id-4 div.sk-toggleable__content {max-height: 0;max-width: 0;overflow: hidden;text-align: left;background-color: #f0f8ff;}#sk-container-id-4 div.sk-toggleable__content pre {margin: 0.2em;color: black;border-radius: 0.25em;background-color: #f0f8ff;}#sk-container-id-4 input.sk-toggleable__control:checked~div.sk-toggleable__content {max-height: 200px;max-width: 100%;overflow: auto;}#sk-container-id-4 input.sk-toggleable__control:checked~label.sk-toggleable__label-arrow:before {content: \"▾\";}#sk-container-id-4 div.sk-estimator input.sk-toggleable__control:checked~label.sk-toggleable__label {background-color: #d4ebff;}#sk-container-id-4 div.sk-label input.sk-toggleable__control:checked~label.sk-toggleable__label {background-color: #d4ebff;}#sk-container-id-4 input.sk-hidden--visually {border: 0;clip: rect(1px 1px 1px 1px);clip: rect(1px, 1px, 1px, 1px);height: 1px;margin: -1px;overflow: hidden;padding: 0;position: absolute;width: 1px;}#sk-container-id-4 div.sk-estimator {font-family: monospace;background-color: #f0f8ff;border: 1px dotted black;border-radius: 0.25em;box-sizing: border-box;margin-bottom: 0.5em;}#sk-container-id-4 div.sk-estimator:hover {background-color: #d4ebff;}#sk-container-id-4 div.sk-parallel-item::after {content: \"\";width: 100%;border-bottom: 1px solid gray;flex-grow: 1;}#sk-container-id-4 div.sk-label:hover label.sk-toggleable__label {background-color: #d4ebff;}#sk-container-id-4 div.sk-serial::before {content: \"\";position: absolute;border-left: 1px solid gray;box-sizing: border-box;top: 0;bottom: 0;left: 50%;z-index: 0;}#sk-container-id-4 div.sk-serial {display: flex;flex-direction: column;align-items: center;background-color: white;padding-right: 0.2em;padding-left: 0.2em;position: relative;}#sk-container-id-4 div.sk-item {position: relative;z-index: 1;}#sk-container-id-4 div.sk-parallel {display: flex;align-items: stretch;justify-content: center;background-color: white;position: relative;}#sk-container-id-4 div.sk-item::before, #sk-container-id-4 div.sk-parallel-item::before {content: \"\";position: absolute;border-left: 1px solid gray;box-sizing: border-box;top: 0;bottom: 0;left: 50%;z-index: -1;}#sk-container-id-4 div.sk-parallel-item {display: flex;flex-direction: column;z-index: 1;position: relative;background-color: white;}#sk-container-id-4 div.sk-parallel-item:first-child::after {align-self: flex-end;width: 50%;}#sk-container-id-4 div.sk-parallel-item:last-child::after {align-self: flex-start;width: 50%;}#sk-container-id-4 div.sk-parallel-item:only-child::after {width: 0;}#sk-container-id-4 div.sk-dashed-wrapped {border: 1px dashed gray;margin: 0 0.4em 0.5em 0.4em;box-sizing: border-box;padding-bottom: 0.4em;background-color: white;}#sk-container-id-4 div.sk-label label {font-family: monospace;font-weight: bold;display: inline-block;line-height: 1.2em;}#sk-container-id-4 div.sk-label-container {text-align: center;}#sk-container-id-4 div.sk-container {/* jupyter's `normalize.less` sets `[hidden] { display: none; }` but bootstrap.min.css set `[hidden] { display: none !important; }` so we also need the `!important` here to be able to override the default hidden behavior on the sphinx rendered scikit-learn.org. See: https://github.com/scikit-learn/scikit-learn/issues/21755 */display: inline-block !important;position: relative;}#sk-container-id-4 div.sk-text-repr-fallback {display: none;}</style><div id=\"sk-container-id-4\" class=\"sk-top-container\"><div class=\"sk-text-repr-fallback\"><pre>XGBRegressor(base_score=None, booster=None, callbacks=None,\n",
              "             colsample_bylevel=None, colsample_bynode=None,\n",
              "             colsample_bytree=None, device=None, early_stopping_rounds=None,\n",
              "             enable_categorical=False, eval_metric=None, feature_types=None,\n",
              "             gamma=None, grow_policy=None, importance_type=None,\n",
              "             interaction_constraints=None, learning_rate=0.01, max_bin=None,\n",
              "             max_cat_threshold=None, max_cat_to_onehot=None,\n",
              "             max_delta_step=None, max_depth=10, max_leaves=None,\n",
              "             min_child_weight=None, missing=nan, monotone_constraints=None,\n",
              "             multi_strategy=None, n_estimators=1000, n_jobs=None,\n",
              "             num_parallel_tree=None, random_state=None, ...)</pre><b>In a Jupyter environment, please rerun this cell to show the HTML representation or trust the notebook. <br />On GitHub, the HTML representation is unable to render, please try loading this page with nbviewer.org.</b></div><div class=\"sk-container\" hidden><div class=\"sk-item\"><div class=\"sk-estimator sk-toggleable\"><input class=\"sk-toggleable__control sk-hidden--visually\" id=\"sk-estimator-id-4\" type=\"checkbox\" checked><label for=\"sk-estimator-id-4\" class=\"sk-toggleable__label sk-toggleable__label-arrow\">XGBRegressor</label><div class=\"sk-toggleable__content\"><pre>XGBRegressor(base_score=None, booster=None, callbacks=None,\n",
              "             colsample_bylevel=None, colsample_bynode=None,\n",
              "             colsample_bytree=None, device=None, early_stopping_rounds=None,\n",
              "             enable_categorical=False, eval_metric=None, feature_types=None,\n",
              "             gamma=None, grow_policy=None, importance_type=None,\n",
              "             interaction_constraints=None, learning_rate=0.01, max_bin=None,\n",
              "             max_cat_threshold=None, max_cat_to_onehot=None,\n",
              "             max_delta_step=None, max_depth=10, max_leaves=None,\n",
              "             min_child_weight=None, missing=nan, monotone_constraints=None,\n",
              "             multi_strategy=None, n_estimators=1000, n_jobs=None,\n",
              "             num_parallel_tree=None, random_state=None, ...)</pre></div></div></div></div></div>"
            ]
          },
          "metadata": {},
          "execution_count": 31
        }
      ],
      "source": [
        "import pandas as pd\n",
        "from xgboost import XGBRegressor\n",
        "from sklearn.utils import shuffle\n",
        "\n",
        "X = df.drop(columns=['Check-Outs', 'Check-Ins'])\n",
        "y = df['Check-Outs']\n",
        "\n",
        "checkouts_model = XGBRegressor(\n",
        "    n_estimators=1000,\n",
        "    max_depth=10,\n",
        "    learning_rate=0.01,\n",
        "    reg_alpha=1.0,\n",
        "    reg_lambda=1.0,\n",
        "    verbosity=1\n",
        ")\n",
        "\n",
        "checkouts_model.fit(X, y)"
      ]
    },
    {
      "cell_type": "code",
      "source": [
        "import joblib\n",
        "\n",
        "model_filename = '/content/drive/MyDrive/Research - Summer 2024/checkouts_model.pkl'\n",
        "\n",
        "joblib.dump(checkouts_model, model_filename)"
      ],
      "metadata": {
        "colab": {
          "base_uri": "https://localhost:8080/"
        },
        "id": "WghCDwbDExqv",
        "outputId": "fe451c5f-e832-4a68-e463-8f3da287c207"
      },
      "execution_count": null,
      "outputs": [
        {
          "output_type": "execute_result",
          "data": {
            "text/plain": [
              "['/content/drive/MyDrive/Research - Summer 2024/checkouts_model.pkl']"
            ]
          },
          "metadata": {},
          "execution_count": 45
        }
      ]
    },
    {
      "cell_type": "markdown",
      "metadata": {
        "id": "9l9IsDVzZZH1"
      },
      "source": [
        "**Check-ins**\n",
        "\n",
        "Chosen Model: GradientBoostingRegressor\n",
        "\n",
        "Chosen Hyperparameters:\n",
        "- n_estimators=100\n",
        "- max_depth=10\n",
        "- learning_rate=0.1\n",
        "- subsample=1.0"
      ]
    },
    {
      "cell_type": "code",
      "execution_count": null,
      "metadata": {
        "id": "jrTHIrOcZcSa",
        "colab": {
          "base_uri": "https://localhost:8080/",
          "height": 74
        },
        "outputId": "3c7f3643-07c5-4aab-9f30-1518b37ad15d"
      },
      "outputs": [
        {
          "output_type": "execute_result",
          "data": {
            "text/plain": [
              "GradientBoostingRegressor(max_depth=10)"
            ],
            "text/html": [
              "<style>#sk-container-id-1 {color: black;}#sk-container-id-1 pre{padding: 0;}#sk-container-id-1 div.sk-toggleable {background-color: white;}#sk-container-id-1 label.sk-toggleable__label {cursor: pointer;display: block;width: 100%;margin-bottom: 0;padding: 0.3em;box-sizing: border-box;text-align: center;}#sk-container-id-1 label.sk-toggleable__label-arrow:before {content: \"▸\";float: left;margin-right: 0.25em;color: #696969;}#sk-container-id-1 label.sk-toggleable__label-arrow:hover:before {color: black;}#sk-container-id-1 div.sk-estimator:hover label.sk-toggleable__label-arrow:before {color: black;}#sk-container-id-1 div.sk-toggleable__content {max-height: 0;max-width: 0;overflow: hidden;text-align: left;background-color: #f0f8ff;}#sk-container-id-1 div.sk-toggleable__content pre {margin: 0.2em;color: black;border-radius: 0.25em;background-color: #f0f8ff;}#sk-container-id-1 input.sk-toggleable__control:checked~div.sk-toggleable__content {max-height: 200px;max-width: 100%;overflow: auto;}#sk-container-id-1 input.sk-toggleable__control:checked~label.sk-toggleable__label-arrow:before {content: \"▾\";}#sk-container-id-1 div.sk-estimator input.sk-toggleable__control:checked~label.sk-toggleable__label {background-color: #d4ebff;}#sk-container-id-1 div.sk-label input.sk-toggleable__control:checked~label.sk-toggleable__label {background-color: #d4ebff;}#sk-container-id-1 input.sk-hidden--visually {border: 0;clip: rect(1px 1px 1px 1px);clip: rect(1px, 1px, 1px, 1px);height: 1px;margin: -1px;overflow: hidden;padding: 0;position: absolute;width: 1px;}#sk-container-id-1 div.sk-estimator {font-family: monospace;background-color: #f0f8ff;border: 1px dotted black;border-radius: 0.25em;box-sizing: border-box;margin-bottom: 0.5em;}#sk-container-id-1 div.sk-estimator:hover {background-color: #d4ebff;}#sk-container-id-1 div.sk-parallel-item::after {content: \"\";width: 100%;border-bottom: 1px solid gray;flex-grow: 1;}#sk-container-id-1 div.sk-label:hover label.sk-toggleable__label {background-color: #d4ebff;}#sk-container-id-1 div.sk-serial::before {content: \"\";position: absolute;border-left: 1px solid gray;box-sizing: border-box;top: 0;bottom: 0;left: 50%;z-index: 0;}#sk-container-id-1 div.sk-serial {display: flex;flex-direction: column;align-items: center;background-color: white;padding-right: 0.2em;padding-left: 0.2em;position: relative;}#sk-container-id-1 div.sk-item {position: relative;z-index: 1;}#sk-container-id-1 div.sk-parallel {display: flex;align-items: stretch;justify-content: center;background-color: white;position: relative;}#sk-container-id-1 div.sk-item::before, #sk-container-id-1 div.sk-parallel-item::before {content: \"\";position: absolute;border-left: 1px solid gray;box-sizing: border-box;top: 0;bottom: 0;left: 50%;z-index: -1;}#sk-container-id-1 div.sk-parallel-item {display: flex;flex-direction: column;z-index: 1;position: relative;background-color: white;}#sk-container-id-1 div.sk-parallel-item:first-child::after {align-self: flex-end;width: 50%;}#sk-container-id-1 div.sk-parallel-item:last-child::after {align-self: flex-start;width: 50%;}#sk-container-id-1 div.sk-parallel-item:only-child::after {width: 0;}#sk-container-id-1 div.sk-dashed-wrapped {border: 1px dashed gray;margin: 0 0.4em 0.5em 0.4em;box-sizing: border-box;padding-bottom: 0.4em;background-color: white;}#sk-container-id-1 div.sk-label label {font-family: monospace;font-weight: bold;display: inline-block;line-height: 1.2em;}#sk-container-id-1 div.sk-label-container {text-align: center;}#sk-container-id-1 div.sk-container {/* jupyter's `normalize.less` sets `[hidden] { display: none; }` but bootstrap.min.css set `[hidden] { display: none !important; }` so we also need the `!important` here to be able to override the default hidden behavior on the sphinx rendered scikit-learn.org. See: https://github.com/scikit-learn/scikit-learn/issues/21755 */display: inline-block !important;position: relative;}#sk-container-id-1 div.sk-text-repr-fallback {display: none;}</style><div id=\"sk-container-id-1\" class=\"sk-top-container\"><div class=\"sk-text-repr-fallback\"><pre>GradientBoostingRegressor(max_depth=10)</pre><b>In a Jupyter environment, please rerun this cell to show the HTML representation or trust the notebook. <br />On GitHub, the HTML representation is unable to render, please try loading this page with nbviewer.org.</b></div><div class=\"sk-container\" hidden><div class=\"sk-item\"><div class=\"sk-estimator sk-toggleable\"><input class=\"sk-toggleable__control sk-hidden--visually\" id=\"sk-estimator-id-1\" type=\"checkbox\" checked><label for=\"sk-estimator-id-1\" class=\"sk-toggleable__label sk-toggleable__label-arrow\">GradientBoostingRegressor</label><div class=\"sk-toggleable__content\"><pre>GradientBoostingRegressor(max_depth=10)</pre></div></div></div></div></div>"
            ]
          },
          "metadata": {},
          "execution_count": 7
        }
      ],
      "source": [
        "import pandas as pd\n",
        "from sklearn.ensemble import GradientBoostingRegressor\n",
        "\n",
        "X = df.drop(columns=['Check-Outs', 'Check-Ins'])\n",
        "y = df['Check-Ins']\n",
        "\n",
        "checkins_model = GradientBoostingRegressor(\n",
        "    n_estimators=100,\n",
        "    max_depth=10,\n",
        "    learning_rate=0.1,\n",
        "    subsample=1.0 # Default\n",
        ")\n",
        "\n",
        "checkins_model.fit(X, y)"
      ]
    },
    {
      "cell_type": "code",
      "source": [
        "import joblib\n",
        "\n",
        "model_filename = '/content/drive/MyDrive/Research - Summer 2024/checkins_model.pkl'\n",
        "\n",
        "joblib.dump(checkins_model, model_filename)"
      ],
      "metadata": {
        "colab": {
          "base_uri": "https://localhost:8080/"
        },
        "id": "y6GOFTOgFGmA",
        "outputId": "7ea070b9-d353-4a71-d959-809f06cb6bbf"
      },
      "execution_count": null,
      "outputs": [
        {
          "output_type": "execute_result",
          "data": {
            "text/plain": [
              "['/content/drive/MyDrive/Research - Summer 2024/checkins_model.pkl']"
            ]
          },
          "metadata": {},
          "execution_count": 8
        }
      ]
    },
    {
      "cell_type": "markdown",
      "metadata": {
        "id": "UBtoTu5Ian37"
      },
      "source": [
        "# Prediction for 2024 Ridership Dataset"
      ]
    },
    {
      "cell_type": "markdown",
      "source": [
        "**Load models**"
      ],
      "metadata": {
        "id": "EEBpUeMTGbQe"
      }
    },
    {
      "cell_type": "code",
      "source": [
        "import joblib\n",
        "\n",
        "# Load check-outs and check-ins model using joblib\n",
        "checkouts_model = joblib.load('/content/drive/MyDrive/Research - Summer 2024/checkouts_model.pkl')\n",
        "checkins_model = joblib.load('/content/drive/MyDrive/Research - Summer 2024/checkins_model.pkl')"
      ],
      "metadata": {
        "id": "qMA6cyCqGEme"
      },
      "execution_count": null,
      "outputs": []
    },
    {
      "cell_type": "markdown",
      "metadata": {
        "id": "WYVsu-WVdBBO"
      },
      "source": [
        "**Load 2024 Ridership Data for Testing (Jan and Feb)**"
      ]
    },
    {
      "cell_type": "code",
      "execution_count": null,
      "metadata": {
        "id": "kiw-zkT0qGQH"
      },
      "outputs": [],
      "source": [
        "ridership_2024_jan_feb = pd.read_csv('/content/drive/MyDrive/Research - Summer 2024/ridership_2024_with_weather_dataset_preprocessed.csv')"
      ]
    },
    {
      "cell_type": "code",
      "execution_count": null,
      "metadata": {
        "id": "flhmFzx5qfLq",
        "colab": {
          "base_uri": "https://localhost:8080/"
        },
        "outputId": "683d9405-af06-433d-c2b9-da1b32f432c7"
      },
      "outputs": [
        {
          "output_type": "stream",
          "name": "stdout",
          "text": [
            "(7977, 16)\n",
            "(7977,)\n",
            "(7977,)\n"
          ]
        }
      ],
      "source": [
        "from sklearn.utils import shuffle\n",
        "\n",
        "# Shuffle data within each year group before splitting\n",
        "X_test = ridership_2024_jan_feb.drop(columns=['Check-Outs', 'Check-Ins'])\n",
        "y_test_checkouts = ridership_2024_jan_feb[\"Check-Outs\"]\n",
        "y_test_checkins = ridership_2024_jan_feb[\"Check-Ins\"]\n",
        "\n",
        "print(X_test.shape)\n",
        "print(y_test_checkouts.shape)\n",
        "print(y_test_checkins.shape)"
      ]
    },
    {
      "cell_type": "markdown",
      "metadata": {
        "id": "blm_ml56x_ID"
      },
      "source": [
        "*Check-outs*"
      ]
    },
    {
      "cell_type": "code",
      "execution_count": null,
      "metadata": {
        "id": "2-FRnjz7q8B9",
        "colab": {
          "base_uri": "https://localhost:8080/"
        },
        "outputId": "0ec5ffd4-5037-4ecb-987a-e120e373de7a"
      },
      "outputs": [
        {
          "output_type": "stream",
          "name": "stdout",
          "text": [
            "Check-outs - MAE: 1.2096030254940184 MSE: 2.8595583623103322 R2: 0.2894320552832751\n"
          ]
        }
      ],
      "source": [
        "from sklearn.metrics import mean_absolute_error, mean_squared_error, r2_score\n",
        "\n",
        "checkouts_preds_2024_jan_feb = checkouts_model.predict(X_test)\n",
        "\n",
        "# Calculate metrics\n",
        "mae_checkouts = mean_absolute_error(y_test_checkouts, checkouts_preds_2024_jan_feb)\n",
        "mse_checkouts = mean_squared_error(y_test_checkouts, checkouts_preds_2024_jan_feb)\n",
        "r2_checkouts = r2_score(y_test_checkouts, checkouts_preds_2024_jan_feb)\n",
        "\n",
        "print(\"Check-outs - MAE:\", mae_checkouts, \"MSE:\", mse_checkouts, \"R2:\", r2_checkouts)"
      ]
    },
    {
      "cell_type": "markdown",
      "metadata": {
        "id": "MFCiQ6VGyBP3"
      },
      "source": [
        "*Check-ins*"
      ]
    },
    {
      "cell_type": "code",
      "execution_count": null,
      "metadata": {
        "id": "JTWperTFyEbc",
        "colab": {
          "base_uri": "https://localhost:8080/"
        },
        "outputId": "4617956f-13c7-4bb9-bffa-09a2d8a8e1a1"
      },
      "outputs": [
        {
          "output_type": "stream",
          "name": "stdout",
          "text": [
            "Check-ins - MAE: 1.214530382218688 MSE: 2.9988204054631877 R2: 0.3451623867805045\n"
          ]
        }
      ],
      "source": [
        "from sklearn.metrics import mean_absolute_error, mean_squared_error, r2_score\n",
        "\n",
        "checkins_preds_2024_jan_feb = checkins_model.predict(X_test)\n",
        "\n",
        "# Calculate metrics\n",
        "mae_checkouts = mean_absolute_error(y_test_checkins, checkins_preds_2024_jan_feb)\n",
        "mse_checkouts = mean_squared_error(y_test_checkins, checkins_preds_2024_jan_feb)\n",
        "r2_checkouts = r2_score(y_test_checkins, checkins_preds_2024_jan_feb)\n",
        "\n",
        "print(\"Check-ins - MAE:\", mae_checkouts, \"MSE:\", mse_checkouts, \"R2:\", r2_checkouts)"
      ]
    },
    {
      "cell_type": "markdown",
      "metadata": {
        "id": "pg4t51TmqG0p"
      },
      "source": [
        "**Load 2024 Ridership Data for Prediction (Mar)**"
      ]
    },
    {
      "cell_type": "code",
      "execution_count": null,
      "metadata": {
        "id": "p1RTMekrqLLs"
      },
      "outputs": [],
      "source": [
        "ridership_2024_march = pd.read_csv('/content/drive/MyDrive/Research - Summer 2024/ridership_2024_March.csv')"
      ]
    },
    {
      "cell_type": "markdown",
      "metadata": {
        "id": "_Ri6PWdjyFBE"
      },
      "source": [
        "*Check-outs*"
      ]
    },
    {
      "cell_type": "code",
      "execution_count": null,
      "metadata": {
        "id": "bCM4wbOqqNbK"
      },
      "outputs": [],
      "source": [
        "checkouts_preds_2024_march = checkouts_model.predict(ridership_2024_march)"
      ]
    },
    {
      "cell_type": "code",
      "source": [
        "checkouts_preds_2024_march"
      ],
      "metadata": {
        "colab": {
          "base_uri": "https://localhost:8080/"
        },
        "id": "lmsSOsZiFmhK",
        "outputId": "669f5706-93bb-490b-c172-03c7182ac28f"
      },
      "execution_count": null,
      "outputs": [
        {
          "output_type": "execute_result",
          "data": {
            "text/plain": [
              "array([0.7969459 , 0.64442825, 0.6065862 , ..., 1.2657021 , 1.3984376 ,\n",
              "       2.6343122 ], dtype=float32)"
            ]
          },
          "metadata": {},
          "execution_count": 21
        }
      ]
    },
    {
      "cell_type": "code",
      "source": [
        "# Plot histogram for checkouts_preds_2024_march\n",
        "import matplotlib.pyplot as plt\n",
        "\n",
        "plt.hist(checkouts_preds_2024_march, bins=10, edgecolor='black')"
      ],
      "metadata": {
        "colab": {
          "base_uri": "https://localhost:8080/",
          "height": 534
        },
        "id": "y4tJSlc_FsRt",
        "outputId": "7718b865-51e2-4336-c937-43650d10534d"
      },
      "execution_count": null,
      "outputs": [
        {
          "output_type": "execute_result",
          "data": {
            "text/plain": [
              "(array([5.127e+03, 4.464e+03, 1.147e+03, 3.090e+02, 6.500e+01, 1.400e+01,\n",
              "        3.000e+00, 0.000e+00, 0.000e+00, 1.000e+00]),\n",
              " array([-0.23761843,  1.70360804,  3.64483452,  5.586061  ,  7.52728748,\n",
              "         9.46851444, 11.40974045, 13.35096741, 15.29219341, 17.23341942,\n",
              "        19.17464638]),\n",
              " <BarContainer object of 10 artists>)"
            ]
          },
          "metadata": {},
          "execution_count": 22
        },
        {
          "output_type": "display_data",
          "data": {
            "text/plain": [
              "<Figure size 640x480 with 1 Axes>"
            ],
            "image/png": "[encoded data removed]"
          },
          "metadata": {}
        }
      ]
    },
    {
      "cell_type": "markdown",
      "metadata": {
        "id": "-OZ7Zt6GyGYf"
      },
      "source": [
        "*Check-ins*"
      ]
    },
    {
      "cell_type": "code",
      "execution_count": null,
      "metadata": {
        "id": "D9O27q72yHUB"
      },
      "outputs": [],
      "source": [
        "checkins_preds_2024_march = checkins_model.predict(ridership_2024_march)"
      ]
    },
    {
      "cell_type": "code",
      "source": [
        "checkins_preds_2024_march"
      ],
      "metadata": {
        "colab": {
          "base_uri": "https://localhost:8080/"
        },
        "id": "4opDYArGFoEN",
        "outputId": "ddc6e64f-4e40-4d4a-ca7f-45644ffc397c"
      },
      "execution_count": null,
      "outputs": [
        {
          "output_type": "execute_result",
          "data": {
            "text/plain": [
              "array([1.35308746, 1.31940913, 1.14442466, ..., 0.77350487, 1.72783128,\n",
              "       3.02088541])"
            ]
          },
          "metadata": {},
          "execution_count": 15
        }
      ]
    },
    {
      "cell_type": "code",
      "source": [
        "# Plot histogram for checkouts_preds_2024_march\n",
        "import matplotlib.pyplot as plt\n",
        "\n",
        "plt.hist(checkins_preds_2024_march, bins=10, edgecolor='black')"
      ],
      "metadata": {
        "colab": {
          "base_uri": "https://localhost:8080/",
          "height": 534
        },
        "id": "E36LsRuGF69d",
        "outputId": "f761debb-f4bd-4d8b-85b4-4178d7063026"
      },
      "execution_count": null,
      "outputs": [
        {
          "output_type": "execute_result",
          "data": {
            "text/plain": [
              "(array([3.368e+03, 4.071e+03, 2.353e+03, 9.300e+02, 2.870e+02, 9.400e+01,\n",
              "        2.100e+01, 4.000e+00, 1.000e+00, 1.000e+00]),\n",
              " array([-0.46962326,  1.11288038,  2.69538402,  4.27788766,  5.8603913 ,\n",
              "         7.44289495,  9.02539859, 10.60790223, 12.19040587, 13.77290951,\n",
              "        15.35541315]),\n",
              " <BarContainer object of 10 artists>)"
            ]
          },
          "metadata": {},
          "execution_count": 16
        },
        {
          "output_type": "display_data",
          "data": {
            "text/plain": [
              "<Figure size 640x480 with 1 Axes>"
            ],
            "image/png": "[encoded data removed]"
          },
          "metadata": {}
        }
      ]
    },
    {
      "cell_type": "markdown",
      "source": [
        "# Analysis of Ridership March 2024 Predictions"
      ],
      "metadata": {
        "id": "RsDvjOilGmxF"
      }
    },
    {
      "cell_type": "code",
      "source": [
        "ridership_2024_march_full_pred = pd.concat([ridership_2024_march,\n",
        "                                            pd.DataFrame(checkouts_preds_2024_march, columns=['Check-Outs']),\n",
        "                                            pd.DataFrame(checkins_preds_2024_march, columns=['Check-Ins'])],\n",
        "                                            axis=1)"
      ],
      "metadata": {
        "id": "_SrHdvrAGrX6"
      },
      "execution_count": null,
      "outputs": []
    },
    {
      "cell_type": "code",
      "source": [
        "ridership_2024_march_full_pred"
      ],
      "metadata": {
        "colab": {
          "base_uri": "https://localhost:8080/",
          "height": 478
        },
        "id": "oVLE9Md5HDUC",
        "outputId": "eef2da38-4d6f-4773-d3da-ae4addad6def"
      },
      "execution_count": null,
      "outputs": [
        {
          "output_type": "execute_result",
          "data": {
            "text/plain": [
              "       Station Id  Year  Month  Day  Hour  Temp (°C)  Rel Hum (%)  \\\n",
              "0            7006  2024      3    1     0      -4.40        62.00   \n",
              "1            7006  2024      3    1     1      -3.90        60.00   \n",
              "2            7006  2024      3    1     2      -3.90        60.00   \n",
              "3            7006  2024      3    1     3      -3.50        61.00   \n",
              "4            7006  2024      3    1     4      -3.20        63.00   \n",
              "...           ...   ...    ...  ...   ...        ...          ...   \n",
              "11125        7102  2024      3   31     4       2.10        74.00   \n",
              "11126        7102  2024      3   31     5       1.60        75.00   \n",
              "11127        7102  2024      3   31     6       2.00        75.00   \n",
              "11128        7102  2024      3   31     7       2.40        71.00   \n",
              "11129        7102  2024      3   31     8       2.70        66.00   \n",
              "\n",
              "       Wind Spd (km/h)  Visibility (km)  Rain-related  Snow-related  \\\n",
              "0                10.00            24.10          0.00          0.00   \n",
              "1                 4.00            24.10          0.00          0.00   \n",
              "2                 5.00            24.10          0.00          0.00   \n",
              "3                 9.00            24.10          0.00          0.00   \n",
              "4                 7.00            24.10          0.00          0.00   \n",
              "...                ...              ...           ...           ...   \n",
              "11125            17.00            24.10          0.00          0.00   \n",
              "11126            16.00            24.10          0.00          0.00   \n",
              "11127            15.00            24.10          0.00          0.00   \n",
              "11128            15.00            24.10          0.00          0.00   \n",
              "11129            17.00            24.10          0.00          0.00   \n",
              "\n",
              "       Clear/Cloudy  Obstructive  Freezing  Extreme  Smoke  Check-Outs  \\\n",
              "0                 1            0         0        0      0        0.80   \n",
              "1                 1            0         0        0      0        0.64   \n",
              "2                 1            0         0        0      0        0.61   \n",
              "3                 1            0         0        0      0        0.56   \n",
              "4                 1            0         0        0      0        0.57   \n",
              "...             ...          ...       ...      ...    ...         ...   \n",
              "11125             1            0         0        0      0        0.27   \n",
              "11126             1            0         0        0      0        0.50   \n",
              "11127             1            0         0        0      0        1.27   \n",
              "11128             1            0         0        0      0        1.40   \n",
              "11129             1            0         0        0      0        2.63   \n",
              "\n",
              "       Check-Ins  \n",
              "0           1.35  \n",
              "1           1.32  \n",
              "2           1.14  \n",
              "3           1.25  \n",
              "4           1.42  \n",
              "...          ...  \n",
              "11125       1.03  \n",
              "11126       0.79  \n",
              "11127       0.77  \n",
              "11128       1.73  \n",
              "11129       3.02  \n",
              "\n",
              "[11130 rows x 18 columns]"
            ],
            "text/html": [
              "\n",
              "  <div id=\"df-175450fd-1f08-4d1c-a008-bedfec729eab\" class=\"colab-df-container\">\n",
              "    <div>\n",
              "<style scoped>\n",
              "    .dataframe tbody tr th:only-of-type {\n",
              "        vertical-align: middle;\n",
              "    }\n",
              "\n",
              "    .dataframe tbody tr th {\n",
              "        vertical-align: top;\n",
              "    }\n",
              "\n",
              "    .dataframe thead th {\n",
              "        text-align: right;\n",
              "    }\n",
              "</style>\n",
              "<table border=\"1\" class=\"dataframe\">\n",
              "  <thead>\n",
              "    <tr style=\"text-align: right;\">\n",
              "      <th></th>\n",
              "      <th>Station Id</th>\n",
              "      <th>Year</th>\n",
              "      <th>Month</th>\n",
              "      <th>Day</th>\n",
              "      <th>Hour</th>\n",
              "      <th>Temp (°C)</th>\n",
              "      <th>Rel Hum (%)</th>\n",
              "      <th>Wind Spd (km/h)</th>\n",
              "      <th>Visibility (km)</th>\n",
              "      <th>Rain-related</th>\n",
              "      <th>Snow-related</th>\n",
              "      <th>Clear/Cloudy</th>\n",
              "      <th>Obstructive</th>\n",
              "      <th>Freezing</th>\n",
              "      <th>Extreme</th>\n",
              "      <th>Smoke</th>\n",
              "      <th>Check-Outs</th>\n",
              "      <th>Check-Ins</th>\n",
              "    </tr>\n",
              "  </thead>\n",
              "  <tbody>\n",
              "    <tr>\n",
              "      <th>0</th>\n",
              "      <td>7006</td>\n",
              "      <td>2024</td>\n",
              "      <td>3</td>\n",
              "      <td>1</td>\n",
              "      <td>0</td>\n",
              "      <td>-4.40</td>\n",
              "      <td>62.00</td>\n",
              "      <td>10.00</td>\n",
              "      <td>24.10</td>\n",
              "      <td>0.00</td>\n",
              "      <td>0.00</td>\n",
              "      <td>1</td>\n",
              "      <td>0</td>\n",
              "      <td>0</td>\n",
              "      <td>0</td>\n",
              "      <td>0</td>\n",
              "      <td>0.80</td>\n",
              "      <td>1.35</td>\n",
              "    </tr>\n",
              "    <tr>\n",
              "      <th>1</th>\n",
              "      <td>7006</td>\n",
              "      <td>2024</td>\n",
              "      <td>3</td>\n",
              "      <td>1</td>\n",
              "      <td>1</td>\n",
              "      <td>-3.90</td>\n",
              "      <td>60.00</td>\n",
              "      <td>4.00</td>\n",
              "      <td>24.10</td>\n",
              "      <td>0.00</td>\n",
              "      <td>0.00</td>\n",
              "      <td>1</td>\n",
              "      <td>0</td>\n",
              "      <td>0</td>\n",
              "      <td>0</td>\n",
              "      <td>0</td>\n",
              "      <td>0.64</td>\n",
              "      <td>1.32</td>\n",
              "    </tr>\n",
              "    <tr>\n",
              "      <th>2</th>\n",
              "      <td>7006</td>\n",
              "      <td>2024</td>\n",
              "      <td>3</td>\n",
              "      <td>1</td>\n",
              "      <td>2</td>\n",
              "      <td>-3.90</td>\n",
              "      <td>60.00</td>\n",
              "      <td>5.00</td>\n",
              "      <td>24.10</td>\n",
              "      <td>0.00</td>\n",
              "      <td>0.00</td>\n",
              "      <td>1</td>\n",
              "      <td>0</td>\n",
              "      <td>0</td>\n",
              "      <td>0</td>\n",
              "      <td>0</td>\n",
              "      <td>0.61</td>\n",
              "      <td>1.14</td>\n",
              "    </tr>\n",
              "    <tr>\n",
              "      <th>3</th>\n",
              "      <td>7006</td>\n",
              "      <td>2024</td>\n",
              "      <td>3</td>\n",
              "      <td>1</td>\n",
              "      <td>3</td>\n",
              "      <td>-3.50</td>\n",
              "      <td>61.00</td>\n",
              "      <td>9.00</td>\n",
              "      <td>24.10</td>\n",
              "      <td>0.00</td>\n",
              "      <td>0.00</td>\n",
              "      <td>1</td>\n",
              "      <td>0</td>\n",
              "      <td>0</td>\n",
              "      <td>0</td>\n",
              "      <td>0</td>\n",
              "      <td>0.56</td>\n",
              "      <td>1.25</td>\n",
              "    </tr>\n",
              "    <tr>\n",
              "      <th>4</th>\n",
              "      <td>7006</td>\n",
              "      <td>2024</td>\n",
              "      <td>3</td>\n",
              "      <td>1</td>\n",
              "      <td>4</td>\n",
              "      <td>-3.20</td>\n",
              "      <td>63.00</td>\n",
              "      <td>7.00</td>\n",
              "      <td>24.10</td>\n",
              "      <td>0.00</td>\n",
              "      <td>0.00</td>\n",
              "      <td>1</td>\n",
              "      <td>0</td>\n",
              "      <td>0</td>\n",
              "      <td>0</td>\n",
              "      <td>0</td>\n",
              "      <td>0.57</td>\n",
              "      <td>1.42</td>\n",
              "    </tr>\n",
              "    <tr>\n",
              "      <th>...</th>\n",
              "      <td>...</td>\n",
              "      <td>...</td>\n",
              "      <td>...</td>\n",
              "      <td>...</td>\n",
              "      <td>...</td>\n",
              "      <td>...</td>\n",
              "      <td>...</td>\n",
              "      <td>...</td>\n",
              "      <td>...</td>\n",
              "      <td>...</td>\n",
              "      <td>...</td>\n",
              "      <td>...</td>\n",
              "      <td>...</td>\n",
              "      <td>...</td>\n",
              "      <td>...</td>\n",
              "      <td>...</td>\n",
              "      <td>...</td>\n",
              "      <td>...</td>\n",
              "    </tr>\n",
              "    <tr>\n",
              "      <th>11125</th>\n",
              "      <td>7102</td>\n",
              "      <td>2024</td>\n",
              "      <td>3</td>\n",
              "      <td>31</td>\n",
              "      <td>4</td>\n",
              "      <td>2.10</td>\n",
              "      <td>74.00</td>\n",
              "      <td>17.00</td>\n",
              "      <td>24.10</td>\n",
              "      <td>0.00</td>\n",
              "      <td>0.00</td>\n",
              "      <td>1</td>\n",
              "      <td>0</td>\n",
              "      <td>0</td>\n",
              "      <td>0</td>\n",
              "      <td>0</td>\n",
              "      <td>0.27</td>\n",
              "      <td>1.03</td>\n",
              "    </tr>\n",
              "    <tr>\n",
              "      <th>11126</th>\n",
              "      <td>7102</td>\n",
              "      <td>2024</td>\n",
              "      <td>3</td>\n",
              "      <td>31</td>\n",
              "      <td>5</td>\n",
              "      <td>1.60</td>\n",
              "      <td>75.00</td>\n",
              "      <td>16.00</td>\n",
              "      <td>24.10</td>\n",
              "      <td>0.00</td>\n",
              "      <td>0.00</td>\n",
              "      <td>1</td>\n",
              "      <td>0</td>\n",
              "      <td>0</td>\n",
              "      <td>0</td>\n",
              "      <td>0</td>\n",
              "      <td>0.50</td>\n",
              "      <td>0.79</td>\n",
              "    </tr>\n",
              "    <tr>\n",
              "      <th>11127</th>\n",
              "      <td>7102</td>\n",
              "      <td>2024</td>\n",
              "      <td>3</td>\n",
              "      <td>31</td>\n",
              "      <td>6</td>\n",
              "      <td>2.00</td>\n",
              "      <td>75.00</td>\n",
              "      <td>15.00</td>\n",
              "      <td>24.10</td>\n",
              "      <td>0.00</td>\n",
              "      <td>0.00</td>\n",
              "      <td>1</td>\n",
              "      <td>0</td>\n",
              "      <td>0</td>\n",
              "      <td>0</td>\n",
              "      <td>0</td>\n",
              "      <td>1.27</td>\n",
              "      <td>0.77</td>\n",
              "    </tr>\n",
              "    <tr>\n",
              "      <th>11128</th>\n",
              "      <td>7102</td>\n",
              "      <td>2024</td>\n",
              "      <td>3</td>\n",
              "      <td>31</td>\n",
              "      <td>7</td>\n",
              "      <td>2.40</td>\n",
              "      <td>71.00</td>\n",
              "      <td>15.00</td>\n",
              "      <td>24.10</td>\n",
              "      <td>0.00</td>\n",
              "      <td>0.00</td>\n",
              "      <td>1</td>\n",
              "      <td>0</td>\n",
              "      <td>0</td>\n",
              "      <td>0</td>\n",
              "      <td>0</td>\n",
              "      <td>1.40</td>\n",
              "      <td>1.73</td>\n",
              "    </tr>\n",
              "    <tr>\n",
              "      <th>11129</th>\n",
              "      <td>7102</td>\n",
              "      <td>2024</td>\n",
              "      <td>3</td>\n",
              "      <td>31</td>\n",
              "      <td>8</td>\n",
              "      <td>2.70</td>\n",
              "      <td>66.00</td>\n",
              "      <td>17.00</td>\n",
              "      <td>24.10</td>\n",
              "      <td>0.00</td>\n",
              "      <td>0.00</td>\n",
              "      <td>1</td>\n",
              "      <td>0</td>\n",
              "      <td>0</td>\n",
              "      <td>0</td>\n",
              "      <td>0</td>\n",
              "      <td>2.63</td>\n",
              "      <td>3.02</td>\n",
              "    </tr>\n",
              "  </tbody>\n",
              "</table>\n",
              "<p>11130 rows × 18 columns</p>\n",
              "</div>\n",
              "    <div class=\"colab-df-buttons\">\n",
              "\n",
              "  <div class=\"colab-df-container\">\n",
              "    <button class=\"colab-df-convert\" onclick=\"convertToInteractive('df-175450fd-1f08-4d1c-a008-bedfec729eab')\"\n",
              "            title=\"Convert this dataframe to an interactive table.\"\n",
              "            style=\"display:none;\">\n",
              "\n",
              "  <svg xmlns=\"http://www.w3.org/2000/svg\" height=\"24px\" viewBox=\"0 -960 960 960\">\n",
              "    <path d=\"M120-120v-720h720v720H120Zm60-500h600v-160H180v160Zm220 220h160v-160H400v160Zm0 220h160v-160H400v160ZM180-400h160v-160H180v160Zm440 0h160v-160H620v160ZM180-180h160v-160H180v160Zm440 0h160v-160H620v160Z\"/>\n",
              "  </svg>\n",
              "    </button>\n",
              "\n",
              "  <style>\n",
              "    .colab-df-container {\n",
              "      display:flex;\n",
              "      gap: 12px;\n",
              "    }\n",
              "\n",
              "    .colab-df-convert {\n",
              "      background-color: #E8F0FE;\n",
              "      border: none;\n",
              "      border-radius: 50%;\n",
              "      cursor: pointer;\n",
              "      display: none;\n",
              "      fill: #1967D2;\n",
              "      height: 32px;\n",
              "      padding: 0 0 0 0;\n",
              "      width: 32px;\n",
              "    }\n",
              "\n",
              "    .colab-df-convert:hover {\n",
              "      background-color: #E2EBFA;\n",
              "      box-shadow: 0px 1px 2px rgba(60, 64, 67, 0.3), 0px 1px 3px 1px rgba(60, 64, 67, 0.15);\n",
              "      fill: #174EA6;\n",
              "    }\n",
              "\n",
              "    .colab-df-buttons div {\n",
              "      margin-bottom: 4px;\n",
              "    }\n",
              "\n",
              "    [theme=dark] .colab-df-convert {\n",
              "      background-color: #3B4455;\n",
              "      fill: #D2E3FC;\n",
              "    }\n",
              "\n",
              "    [theme=dark] .colab-df-convert:hover {\n",
              "      background-color: #434B5C;\n",
              "      box-shadow: 0px 1px 3px 1px rgba(0, 0, 0, 0.15);\n",
              "      filter: drop-shadow(0px 1px 2px rgba(0, 0, 0, 0.3));\n",
              "      fill: #FFFFFF;\n",
              "    }\n",
              "  </style>\n",
              "\n",
              "    <script>\n",
              "      const buttonEl =\n",
              "        document.querySelector('#df-175450fd-1f08-4d1c-a008-bedfec729eab button.colab-df-convert');\n",
              "      buttonEl.style.display =\n",
              "        google.colab.kernel.accessAllowed ? 'block' : 'none';\n",
              "\n",
              "      async function convertToInteractive(key) {\n",
              "        const element = document.querySelector('#df-175450fd-1f08-4d1c-a008-bedfec729eab');\n",
              "        const dataTable =\n",
              "          await google.colab.kernel.invokeFunction('convertToInteractive',\n",
              "                                                    [key], {});\n",
              "        if (!dataTable) return;\n",
              "\n",
              "        const docLinkHtml = 'Like what you see? Visit the ' +\n",
              "          '<a target=\"_blank\" href=https://colab.research.google.com/notebooks/data_table.ipynb>data table notebook</a>'\n",
              "          + ' to learn more about interactive tables.';\n",
              "        element.innerHTML = '';\n",
              "        dataTable['output_type'] = 'display_data';\n",
              "        await google.colab.output.renderOutput(dataTable, element);\n",
              "        const docLink = document.createElement('div');\n",
              "        docLink.innerHTML = docLinkHtml;\n",
              "        element.appendChild(docLink);\n",
              "      }\n",
              "    </script>\n",
              "  </div>\n",
              "\n",
              "\n",
              "<div id=\"df-b31617a2-6b3d-48c4-8616-8debba11fe32\">\n",
              "  <button class=\"colab-df-quickchart\" onclick=\"quickchart('df-b31617a2-6b3d-48c4-8616-8debba11fe32')\"\n",
              "            title=\"Suggest charts\"\n",
              "            style=\"display:none;\">\n",
              "\n",
              "<svg xmlns=\"http://www.w3.org/2000/svg\" height=\"24px\"viewBox=\"0 0 24 24\"\n",
              "     width=\"24px\">\n",
              "    <g>\n",
              "        <path d=\"M19 3H5c-1.1 0-2 .9-2 2v14c0 1.1.9 2 2 2h14c1.1 0 2-.9 2-2V5c0-1.1-.9-2-2-2zM9 17H7v-7h2v7zm4 0h-2V7h2v10zm4 0h-2v-4h2v4z\"/>\n",
              "    </g>\n",
              "</svg>\n",
              "  </button>\n",
              "\n",
              "<style>\n",
              "  .colab-df-quickchart {\n",
              "      --bg-color: #E8F0FE;\n",
              "      --fill-color: #1967D2;\n",
              "      --hover-bg-color: #E2EBFA;\n",
              "      --hover-fill-color: #174EA6;\n",
              "      --disabled-fill-color: #AAA;\n",
              "      --disabled-bg-color: #DDD;\n",
              "  }\n",
              "\n",
              "  [theme=dark] .colab-df-quickchart {\n",
              "      --bg-color: #3B4455;\n",
              "      --fill-color: #D2E3FC;\n",
              "      --hover-bg-color: #434B5C;\n",
              "      --hover-fill-color: #FFFFFF;\n",
              "      --disabled-bg-color: #3B4455;\n",
              "      --disabled-fill-color: #666;\n",
              "  }\n",
              "\n",
              "  .colab-df-quickchart {\n",
              "    background-color: var(--bg-color);\n",
              "    border: none;\n",
              "    border-radius: 50%;\n",
              "    cursor: pointer;\n",
              "    display: none;\n",
              "    fill: var(--fill-color);\n",
              "    height: 32px;\n",
              "    padding: 0;\n",
              "    width: 32px;\n",
              "  }\n",
              "\n",
              "  .colab-df-quickchart:hover {\n",
              "    background-color: var(--hover-bg-color);\n",
              "    box-shadow: 0 1px 2px rgba(60, 64, 67, 0.3), 0 1px 3px 1px rgba(60, 64, 67, 0.15);\n",
              "    fill: var(--button-hover-fill-color);\n",
              "  }\n",
              "\n",
              "  .colab-df-quickchart-complete:disabled,\n",
              "  .colab-df-quickchart-complete:disabled:hover {\n",
              "    background-color: var(--disabled-bg-color);\n",
              "    fill: var(--disabled-fill-color);\n",
              "    box-shadow: none;\n",
              "  }\n",
              "\n",
              "  .colab-df-spinner {\n",
              "    border: 2px solid var(--fill-color);\n",
              "    border-color: transparent;\n",
              "    border-bottom-color: var(--fill-color);\n",
              "    animation:\n",
              "      spin 1s steps(1) infinite;\n",
              "  }\n",
              "\n",
              "  @keyframes spin {\n",
              "    0% {\n",
              "      border-color: transparent;\n",
              "      border-bottom-color: var(--fill-color);\n",
              "      border-left-color: var(--fill-color);\n",
              "    }\n",
              "    20% {\n",
              "      border-color: transparent;\n",
              "      border-left-color: var(--fill-color);\n",
              "      border-top-color: var(--fill-color);\n",
              "    }\n",
              "    30% {\n",
              "      border-color: transparent;\n",
              "      border-left-color: var(--fill-color);\n",
              "      border-top-color: var(--fill-color);\n",
              "      border-right-color: var(--fill-color);\n",
              "    }\n",
              "    40% {\n",
              "      border-color: transparent;\n",
              "      border-right-color: var(--fill-color);\n",
              "      border-top-color: var(--fill-color);\n",
              "    }\n",
              "    60% {\n",
              "      border-color: transparent;\n",
              "      border-right-color: var(--fill-color);\n",
              "    }\n",
              "    80% {\n",
              "      border-color: transparent;\n",
              "      border-right-color: var(--fill-color);\n",
              "      border-bottom-color: var(--fill-color);\n",
              "    }\n",
              "    90% {\n",
              "      border-color: transparent;\n",
              "      border-bottom-color: var(--fill-color);\n",
              "    }\n",
              "  }\n",
              "</style>\n",
              "\n",
              "  <script>\n",
              "    async function quickchart(key) {\n",
              "      const quickchartButtonEl =\n",
              "        document.querySelector('#' + key + ' button');\n",
              "      quickchartButtonEl.disabled = true;  // To prevent multiple clicks.\n",
              "      quickchartButtonEl.classList.add('colab-df-spinner');\n",
              "      try {\n",
              "        const charts = await google.colab.kernel.invokeFunction(\n",
              "            'suggestCharts', [key], {});\n",
              "      } catch (error) {\n",
              "        console.error('Error during call to suggestCharts:', error);\n",
              "      }\n",
              "      quickchartButtonEl.classList.remove('colab-df-spinner');\n",
              "      quickchartButtonEl.classList.add('colab-df-quickchart-complete');\n",
              "    }\n",
              "    (() => {\n",
              "      let quickchartButtonEl =\n",
              "        document.querySelector('#df-b31617a2-6b3d-48c4-8616-8debba11fe32 button');\n",
              "      quickchartButtonEl.style.display =\n",
              "        google.colab.kernel.accessAllowed ? 'block' : 'none';\n",
              "    })();\n",
              "  </script>\n",
              "</div>\n",
              "\n",
              "  <div id=\"id_605ab05d-6c4a-4188-8861-51012cbcf404\">\n",
              "    <style>\n",
              "      .colab-df-generate {\n",
              "        background-color: #E8F0FE;\n",
              "        border: none;\n",
              "        border-radius: 50%;\n",
              "        cursor: pointer;\n",
              "        display: none;\n",
              "        fill: #1967D2;\n",
              "        height: 32px;\n",
              "        padding: 0 0 0 0;\n",
              "        width: 32px;\n",
              "      }\n",
              "\n",
              "      .colab-df-generate:hover {\n",
              "        background-color: #E2EBFA;\n",
              "        box-shadow: 0px 1px 2px rgba(60, 64, 67, 0.3), 0px 1px 3px 1px rgba(60, 64, 67, 0.15);\n",
              "        fill: #174EA6;\n",
              "      }\n",
              "\n",
              "      [theme=dark] .colab-df-generate {\n",
              "        background-color: #3B4455;\n",
              "        fill: #D2E3FC;\n",
              "      }\n",
              "\n",
              "      [theme=dark] .colab-df-generate:hover {\n",
              "        background-color: #434B5C;\n",
              "        box-shadow: 0px 1px 3px 1px rgba(0, 0, 0, 0.15);\n",
              "        filter: drop-shadow(0px 1px 2px rgba(0, 0, 0, 0.3));\n",
              "        fill: #FFFFFF;\n",
              "      }\n",
              "    </style>\n",
              "    <button class=\"colab-df-generate\" onclick=\"generateWithVariable('ridership_2024_march_full_pred')\"\n",
              "            title=\"Generate code using this dataframe.\"\n",
              "            style=\"display:none;\">\n",
              "\n",
              "  <svg xmlns=\"http://www.w3.org/2000/svg\" height=\"24px\"viewBox=\"0 0 24 24\"\n",
              "       width=\"24px\">\n",
              "    <path d=\"M7,19H8.4L18.45,9,17,7.55,7,17.6ZM5,21V16.75L18.45,3.32a2,2,0,0,1,2.83,0l1.4,1.43a1.91,1.91,0,0,1,.58,1.4,1.91,1.91,0,0,1-.58,1.4L9.25,21ZM18.45,9,17,7.55Zm-12,3A5.31,5.31,0,0,0,4.9,8.1,5.31,5.31,0,0,0,1,6.5,5.31,5.31,0,0,0,4.9,4.9,5.31,5.31,0,0,0,6.5,1,5.31,5.31,0,0,0,8.1,4.9,5.31,5.31,0,0,0,12,6.5,5.46,5.46,0,0,0,6.5,12Z\"/>\n",
              "  </svg>\n",
              "    </button>\n",
              "    <script>\n",
              "      (() => {\n",
              "      const buttonEl =\n",
              "        document.querySelector('#id_605ab05d-6c4a-4188-8861-51012cbcf404 button.colab-df-generate');\n",
              "      buttonEl.style.display =\n",
              "        google.colab.kernel.accessAllowed ? 'block' : 'none';\n",
              "\n",
              "      buttonEl.onclick = () => {\n",
              "        google.colab.notebook.generateWithVariable('ridership_2024_march_full_pred');\n",
              "      }\n",
              "      })();\n",
              "    </script>\n",
              "  </div>\n",
              "\n",
              "    </div>\n",
              "  </div>\n"
            ],
            "application/vnd.google.colaboratory.intrinsic+json": {
              "type": "dataframe",
              "variable_name": "ridership_2024_march_full_pred",
              "summary": "{\n  \"name\": \"ridership_2024_march_full_pred\",\n  \"rows\": 11130,\n  \"fields\": [\n    {\n      \"column\": \"Station Id\",\n      \"properties\": {\n        \"dtype\": \"number\",\n        \"std\": 99,\n        \"min\": 7006,\n        \"max\": 7389,\n        \"num_unique_values\": 15,\n        \"samples\": [\n          7089,\n          7078,\n          7006\n        ],\n        \"semantic_type\": \"\",\n        \"description\": \"\"\n      }\n    },\n    {\n      \"column\": \"Year\",\n      \"properties\": {\n        \"dtype\": \"number\",\n        \"std\": 0,\n        \"min\": 2024,\n        \"max\": 2024,\n        \"num_unique_values\": 1,\n        \"samples\": [\n          2024\n        ],\n        \"semantic_type\": \"\",\n        \"description\": \"\"\n      }\n    },\n    {\n      \"column\": \"Month\",\n      \"properties\": {\n        \"dtype\": \"number\",\n        \"std\": 0,\n        \"min\": 3,\n        \"max\": 3,\n        \"num_unique_values\": 1,\n        \"samples\": [\n          3\n        ],\n        \"semantic_type\": \"\",\n        \"description\": \"\"\n      }\n    },\n    {\n      \"column\": \"Day\",\n      \"properties\": {\n        \"dtype\": \"number\",\n        \"std\": 8,\n        \"min\": 1,\n        \"max\": 31,\n        \"num_unique_values\": 31,\n        \"samples\": [\n          28\n        ],\n        \"semantic_type\": \"\",\n        \"description\": \"\"\n      }\n    },\n    {\n      \"column\": \"Hour\",\n      \"properties\": {\n        \"dtype\": \"number\",\n        \"std\": 6,\n        \"min\": 0,\n        \"max\": 23,\n        \"num_unique_values\": 24,\n        \"samples\": [\n          8\n        ],\n        \"semantic_type\": \"\",\n        \"description\": \"\"\n      }\n    },\n    {\n      \"column\": \"Temp (\\u00b0C)\",\n      \"properties\": {\n        \"dtype\": \"number\",\n        \"std\": 4.986082535318449,\n        \"min\": -7.8,\n        \"max\": 20.1,\n        \"num_unique_values\": 209,\n        \"samples\": [\n          6.3\n        ],\n        \"semantic_type\": \"\",\n        \"description\": \"\"\n      }\n    },\n    {\n      \"column\": \"Rel Hum (%)\",\n      \"properties\": {\n        \"dtype\": \"number\",\n        \"std\": 17.929178046115105,\n        \"min\": 19.0,\n        \"max\": 100.0,\n        \"num_unique_values\": 72,\n        \"samples\": [\n          67.0\n        ],\n        \"semantic_type\": \"\",\n        \"description\": \"\"\n      }\n    },\n    {\n      \"column\": \"Wind Spd (km/h)\",\n      \"properties\": {\n        \"dtype\": \"number\",\n        \"std\": 9.221235887712497,\n        \"min\": 1.0,\n        \"max\": 57.0,\n        \"num_unique_values\": 48,\n        \"samples\": [\n          26.0\n        ],\n        \"semantic_type\": \"\",\n        \"description\": \"\"\n      }\n    },\n    {\n      \"column\": \"Visibility (km)\",\n      \"properties\": {\n        \"dtype\": \"number\",\n        \"std\": 6.057178389849183,\n        \"min\": 0.4,\n        \"max\": 24.1,\n        \"num_unique_values\": 18,\n        \"samples\": [\n          24.1\n        ],\n        \"semantic_type\": \"\",\n        \"description\": \"\"\n      }\n    },\n    {\n      \"column\": \"Rain-related\",\n      \"properties\": {\n        \"dtype\": \"number\",\n        \"std\": 0.2386922133471432,\n        \"min\": 0.0,\n        \"max\": 1.0,\n        \"num_unique_values\": 2,\n        \"samples\": [\n          1.0\n        ],\n        \"semantic_type\": \"\",\n        \"description\": \"\"\n      }\n    },\n    {\n      \"column\": \"Snow-related\",\n      \"properties\": {\n        \"dtype\": \"number\",\n        \"std\": 0.2978448496302091,\n        \"min\": 0.0,\n        \"max\": 1.0,\n        \"num_unique_values\": 2,\n        \"samples\": [\n          1.0\n        ],\n        \"semantic_type\": \"\",\n        \"description\": \"\"\n      }\n    },\n    {\n      \"column\": \"Clear/Cloudy\",\n      \"properties\": {\n        \"dtype\": \"number\",\n        \"std\": 0,\n        \"min\": 0,\n        \"max\": 1,\n        \"num_unique_values\": 2,\n        \"samples\": [\n          0\n        ],\n        \"semantic_type\": \"\",\n        \"description\": \"\"\n      }\n    },\n    {\n      \"column\": \"Obstructive\",\n      \"properties\": {\n        \"dtype\": \"number\",\n        \"std\": 0,\n        \"min\": 0,\n        \"max\": 1,\n        \"num_unique_values\": 2,\n        \"samples\": [\n          1\n        ],\n        \"semantic_type\": \"\",\n        \"description\": \"\"\n      }\n    },\n    {\n      \"column\": \"Freezing\",\n      \"properties\": {\n        \"dtype\": \"number\",\n        \"std\": 0,\n        \"min\": 0,\n        \"max\": 0,\n        \"num_unique_values\": 1,\n        \"samples\": [\n          0\n        ],\n        \"semantic_type\": \"\",\n        \"description\": \"\"\n      }\n    },\n    {\n      \"column\": \"Extreme\",\n      \"properties\": {\n        \"dtype\": \"number\",\n        \"std\": 0,\n        \"min\": 0,\n        \"max\": 0,\n        \"num_unique_values\": 1,\n        \"samples\": [\n          0\n        ],\n        \"semantic_type\": \"\",\n        \"description\": \"\"\n      }\n    },\n    {\n      \"column\": \"Smoke\",\n      \"properties\": {\n        \"dtype\": \"number\",\n        \"std\": 0,\n        \"min\": 0,\n        \"max\": 0,\n        \"num_unique_values\": 1,\n        \"samples\": [\n          0\n        ],\n        \"semantic_type\": \"\",\n        \"description\": \"\"\n      }\n    },\n    {\n      \"column\": \"Check-Outs\",\n      \"properties\": {\n        \"dtype\": \"float32\",\n        \"num_unique_values\": 11126,\n        \"samples\": [\n          2.2687695026397705\n        ],\n        \"semantic_type\": \"\",\n        \"description\": \"\"\n      }\n    },\n    {\n      \"column\": \"Check-Ins\",\n      \"properties\": {\n        \"dtype\": \"number\",\n        \"std\": 1.6544575954811391,\n        \"min\": -0.4696232626987078,\n        \"max\": 15.355413154468947,\n        \"num_unique_values\": 11130,\n        \"samples\": [\n          0.40716092577669666\n        ],\n        \"semantic_type\": \"\",\n        \"description\": \"\"\n      }\n    }\n  ]\n}"
            }
          },
          "metadata": {},
          "execution_count": 24
        }
      ]
    },
    {
      "cell_type": "code",
      "source": [
        "ridership_2024_march_full_pred.to_csv('/content/drive/MyDrive/Research - Summer 2024/ridership_2024_march_full_pred.csv', index=False)"
      ],
      "metadata": {
        "id": "lydsOZM9HVaz"
      },
      "execution_count": null,
      "outputs": []
    },
    {
      "cell_type": "code",
      "source": [
        "ridership_2024_march_full_pred = pd.read_csv('/content/drive/MyDrive/Research - Summer 2024/ridership_2024_march_full_pred.csv')"
      ],
      "metadata": {
        "id": "l1W6UCmKpvTM"
      },
      "execution_count": 5,
      "outputs": []
    },
    {
      "cell_type": "markdown",
      "source": [
        "Comparing Hourly, Daily and Monthly Check-Outs and Check-Ins against Station Capacities"
      ],
      "metadata": {
        "id": "NrAatoxNHegt"
      }
    },
    {
      "cell_type": "code",
      "source": [
        "import pandas as pd\n",
        "import requests\n",
        "\n",
        "url = 'https://tor.publicbikesystem.net/ube/gbfs/v1/en/station_information'\n",
        "response = requests.get(url)\n",
        "data = response.json()\n",
        "\n",
        "station_ids = [7006, 7033, 7121, 7100, 7076, 7022, 7030, 7007, 7044, 7089, 7389, 7078, 7038, 7253, 7102]\n",
        "\n",
        "stations = data['data']['stations']\n",
        "\n",
        "stations_df = pd.DataFrame(stations)\n",
        "\n",
        "filtered_stations = stations_df[stations_df['station_id'].isin(map(str, station_ids))]\n",
        "\n",
        "station_capacity = filtered_stations[['station_id', 'capacity']]\n",
        "\n",
        "station_capacity['station_id'] = station_capacity['station_id'].astype(int)\n",
        "\n",
        "station_capacity.reset_index(drop=True, inplace=True)\n",
        "station_capacity"
      ],
      "metadata": {
        "colab": {
          "base_uri": "https://localhost:8080/",
          "height": 623
        },
        "id": "TQZe0zkFG2b2",
        "outputId": "a087b604-1a2c-4d19-ac42-d3d9643a071a"
      },
      "execution_count": 6,
      "outputs": [
        {
          "output_type": "stream",
          "name": "stderr",
          "text": [
            "<ipython-input-6-7156df78a9c9>:18: SettingWithCopyWarning: \n",
            "A value is trying to be set on a copy of a slice from a DataFrame.\n",
            "Try using .loc[row_indexer,col_indexer] = value instead\n",
            "\n",
            "See the caveats in the documentation: https://pandas.pydata.org/pandas-docs/stable/user_guide/indexing.html#returning-a-view-versus-a-copy\n",
            "  station_capacity['station_id'] = station_capacity['station_id'].astype(int)\n"
          ]
        },
        {
          "output_type": "execute_result",
          "data": {
            "text/plain": [
              "    station_id  capacity\n",
              "0         7006        31\n",
              "1         7007        19\n",
              "2         7022        39\n",
              "3         7030        35\n",
              "4         7033        43\n",
              "5         7038        31\n",
              "6         7044        35\n",
              "7         7076        57\n",
              "8         7078        15\n",
              "9         7089        27\n",
              "10        7100        27\n",
              "11        7102        31\n",
              "12        7121        27\n",
              "13        7253        12\n",
              "14        7389        25"
            ],
            "text/html": [
              "\n",
              "  <div id=\"df-20ab3b07-17d0-4503-9292-33105d82ddd7\" class=\"colab-df-container\">\n",
              "    <div>\n",
              "<style scoped>\n",
              "    .dataframe tbody tr th:only-of-type {\n",
              "        vertical-align: middle;\n",
              "    }\n",
              "\n",
              "    .dataframe tbody tr th {\n",
              "        vertical-align: top;\n",
              "    }\n",
              "\n",
              "    .dataframe thead th {\n",
              "        text-align: right;\n",
              "    }\n",
              "</style>\n",
              "<table border=\"1\" class=\"dataframe\">\n",
              "  <thead>\n",
              "    <tr style=\"text-align: right;\">\n",
              "      <th></th>\n",
              "      <th>station_id</th>\n",
              "      <th>capacity</th>\n",
              "    </tr>\n",
              "  </thead>\n",
              "  <tbody>\n",
              "    <tr>\n",
              "      <th>0</th>\n",
              "      <td>7006</td>\n",
              "      <td>31</td>\n",
              "    </tr>\n",
              "    <tr>\n",
              "      <th>1</th>\n",
              "      <td>7007</td>\n",
              "      <td>19</td>\n",
              "    </tr>\n",
              "    <tr>\n",
              "      <th>2</th>\n",
              "      <td>7022</td>\n",
              "      <td>39</td>\n",
              "    </tr>\n",
              "    <tr>\n",
              "      <th>3</th>\n",
              "      <td>7030</td>\n",
              "      <td>35</td>\n",
              "    </tr>\n",
              "    <tr>\n",
              "      <th>4</th>\n",
              "      <td>7033</td>\n",
              "      <td>43</td>\n",
              "    </tr>\n",
              "    <tr>\n",
              "      <th>5</th>\n",
              "      <td>7038</td>\n",
              "      <td>31</td>\n",
              "    </tr>\n",
              "    <tr>\n",
              "      <th>6</th>\n",
              "      <td>7044</td>\n",
              "      <td>35</td>\n",
              "    </tr>\n",
              "    <tr>\n",
              "      <th>7</th>\n",
              "      <td>7076</td>\n",
              "      <td>57</td>\n",
              "    </tr>\n",
              "    <tr>\n",
              "      <th>8</th>\n",
              "      <td>7078</td>\n",
              "      <td>15</td>\n",
              "    </tr>\n",
              "    <tr>\n",
              "      <th>9</th>\n",
              "      <td>7089</td>\n",
              "      <td>27</td>\n",
              "    </tr>\n",
              "    <tr>\n",
              "      <th>10</th>\n",
              "      <td>7100</td>\n",
              "      <td>27</td>\n",
              "    </tr>\n",
              "    <tr>\n",
              "      <th>11</th>\n",
              "      <td>7102</td>\n",
              "      <td>31</td>\n",
              "    </tr>\n",
              "    <tr>\n",
              "      <th>12</th>\n",
              "      <td>7121</td>\n",
              "      <td>27</td>\n",
              "    </tr>\n",
              "    <tr>\n",
              "      <th>13</th>\n",
              "      <td>7253</td>\n",
              "      <td>12</td>\n",
              "    </tr>\n",
              "    <tr>\n",
              "      <th>14</th>\n",
              "      <td>7389</td>\n",
              "      <td>25</td>\n",
              "    </tr>\n",
              "  </tbody>\n",
              "</table>\n",
              "</div>\n",
              "    <div class=\"colab-df-buttons\">\n",
              "\n",
              "  <div class=\"colab-df-container\">\n",
              "    <button class=\"colab-df-convert\" onclick=\"convertToInteractive('df-20ab3b07-17d0-4503-9292-33105d82ddd7')\"\n",
              "            title=\"Convert this dataframe to an interactive table.\"\n",
              "            style=\"display:none;\">\n",
              "\n",
              "  <svg xmlns=\"http://www.w3.org/2000/svg\" height=\"24px\" viewBox=\"0 -960 960 960\">\n",
              "    <path d=\"M120-120v-720h720v720H120Zm60-500h600v-160H180v160Zm220 220h160v-160H400v160Zm0 220h160v-160H400v160ZM180-400h160v-160H180v160Zm440 0h160v-160H620v160ZM180-180h160v-160H180v160Zm440 0h160v-160H620v160Z\"/>\n",
              "  </svg>\n",
              "    </button>\n",
              "\n",
              "  <style>\n",
              "    .colab-df-container {\n",
              "      display:flex;\n",
              "      gap: 12px;\n",
              "    }\n",
              "\n",
              "    .colab-df-convert {\n",
              "      background-color: #E8F0FE;\n",
              "      border: none;\n",
              "      border-radius: 50%;\n",
              "      cursor: pointer;\n",
              "      display: none;\n",
              "      fill: #1967D2;\n",
              "      height: 32px;\n",
              "      padding: 0 0 0 0;\n",
              "      width: 32px;\n",
              "    }\n",
              "\n",
              "    .colab-df-convert:hover {\n",
              "      background-color: #E2EBFA;\n",
              "      box-shadow: 0px 1px 2px rgba(60, 64, 67, 0.3), 0px 1px 3px 1px rgba(60, 64, 67, 0.15);\n",
              "      fill: #174EA6;\n",
              "    }\n",
              "\n",
              "    .colab-df-buttons div {\n",
              "      margin-bottom: 4px;\n",
              "    }\n",
              "\n",
              "    [theme=dark] .colab-df-convert {\n",
              "      background-color: #3B4455;\n",
              "      fill: #D2E3FC;\n",
              "    }\n",
              "\n",
              "    [theme=dark] .colab-df-convert:hover {\n",
              "      background-color: #434B5C;\n",
              "      box-shadow: 0px 1px 3px 1px rgba(0, 0, 0, 0.15);\n",
              "      filter: drop-shadow(0px 1px 2px rgba(0, 0, 0, 0.3));\n",
              "      fill: #FFFFFF;\n",
              "    }\n",
              "  </style>\n",
              "\n",
              "    <script>\n",
              "      const buttonEl =\n",
              "        document.querySelector('#df-20ab3b07-17d0-4503-9292-33105d82ddd7 button.colab-df-convert');\n",
              "      buttonEl.style.display =\n",
              "        google.colab.kernel.accessAllowed ? 'block' : 'none';\n",
              "\n",
              "      async function convertToInteractive(key) {\n",
              "        const element = document.querySelector('#df-20ab3b07-17d0-4503-9292-33105d82ddd7');\n",
              "        const dataTable =\n",
              "          await google.colab.kernel.invokeFunction('convertToInteractive',\n",
              "                                                    [key], {});\n",
              "        if (!dataTable) return;\n",
              "\n",
              "        const docLinkHtml = 'Like what you see? Visit the ' +\n",
              "          '<a target=\"_blank\" href=https://colab.research.google.com/notebooks/data_table.ipynb>data table notebook</a>'\n",
              "          + ' to learn more about interactive tables.';\n",
              "        element.innerHTML = '';\n",
              "        dataTable['output_type'] = 'display_data';\n",
              "        await google.colab.output.renderOutput(dataTable, element);\n",
              "        const docLink = document.createElement('div');\n",
              "        docLink.innerHTML = docLinkHtml;\n",
              "        element.appendChild(docLink);\n",
              "      }\n",
              "    </script>\n",
              "  </div>\n",
              "\n",
              "\n",
              "<div id=\"df-981b21de-03c1-46aa-b94e-875b97987953\">\n",
              "  <button class=\"colab-df-quickchart\" onclick=\"quickchart('df-981b21de-03c1-46aa-b94e-875b97987953')\"\n",
              "            title=\"Suggest charts\"\n",
              "            style=\"display:none;\">\n",
              "\n",
              "<svg xmlns=\"http://www.w3.org/2000/svg\" height=\"24px\"viewBox=\"0 0 24 24\"\n",
              "     width=\"24px\">\n",
              "    <g>\n",
              "        <path d=\"M19 3H5c-1.1 0-2 .9-2 2v14c0 1.1.9 2 2 2h14c1.1 0 2-.9 2-2V5c0-1.1-.9-2-2-2zM9 17H7v-7h2v7zm4 0h-2V7h2v10zm4 0h-2v-4h2v4z\"/>\n",
              "    </g>\n",
              "</svg>\n",
              "  </button>\n",
              "\n",
              "<style>\n",
              "  .colab-df-quickchart {\n",
              "      --bg-color: #E8F0FE;\n",
              "      --fill-color: #1967D2;\n",
              "      --hover-bg-color: #E2EBFA;\n",
              "      --hover-fill-color: #174EA6;\n",
              "      --disabled-fill-color: #AAA;\n",
              "      --disabled-bg-color: #DDD;\n",
              "  }\n",
              "\n",
              "  [theme=dark] .colab-df-quickchart {\n",
              "      --bg-color: #3B4455;\n",
              "      --fill-color: #D2E3FC;\n",
              "      --hover-bg-color: #434B5C;\n",
              "      --hover-fill-color: #FFFFFF;\n",
              "      --disabled-bg-color: #3B4455;\n",
              "      --disabled-fill-color: #666;\n",
              "  }\n",
              "\n",
              "  .colab-df-quickchart {\n",
              "    background-color: var(--bg-color);\n",
              "    border: none;\n",
              "    border-radius: 50%;\n",
              "    cursor: pointer;\n",
              "    display: none;\n",
              "    fill: var(--fill-color);\n",
              "    height: 32px;\n",
              "    padding: 0;\n",
              "    width: 32px;\n",
              "  }\n",
              "\n",
              "  .colab-df-quickchart:hover {\n",
              "    background-color: var(--hover-bg-color);\n",
              "    box-shadow: 0 1px 2px rgba(60, 64, 67, 0.3), 0 1px 3px 1px rgba(60, 64, 67, 0.15);\n",
              "    fill: var(--button-hover-fill-color);\n",
              "  }\n",
              "\n",
              "  .colab-df-quickchart-complete:disabled,\n",
              "  .colab-df-quickchart-complete:disabled:hover {\n",
              "    background-color: var(--disabled-bg-color);\n",
              "    fill: var(--disabled-fill-color);\n",
              "    box-shadow: none;\n",
              "  }\n",
              "\n",
              "  .colab-df-spinner {\n",
              "    border: 2px solid var(--fill-color);\n",
              "    border-color: transparent;\n",
              "    border-bottom-color: var(--fill-color);\n",
              "    animation:\n",
              "      spin 1s steps(1) infinite;\n",
              "  }\n",
              "\n",
              "  @keyframes spin {\n",
              "    0% {\n",
              "      border-color: transparent;\n",
              "      border-bottom-color: var(--fill-color);\n",
              "      border-left-color: var(--fill-color);\n",
              "    }\n",
              "    20% {\n",
              "      border-color: transparent;\n",
              "      border-left-color: var(--fill-color);\n",
              "      border-top-color: var(--fill-color);\n",
              "    }\n",
              "    30% {\n",
              "      border-color: transparent;\n",
              "      border-left-color: var(--fill-color);\n",
              "      border-top-color: var(--fill-color);\n",
              "      border-right-color: var(--fill-color);\n",
              "    }\n",
              "    40% {\n",
              "      border-color: transparent;\n",
              "      border-right-color: var(--fill-color);\n",
              "      border-top-color: var(--fill-color);\n",
              "    }\n",
              "    60% {\n",
              "      border-color: transparent;\n",
              "      border-right-color: var(--fill-color);\n",
              "    }\n",
              "    80% {\n",
              "      border-color: transparent;\n",
              "      border-right-color: var(--fill-color);\n",
              "      border-bottom-color: var(--fill-color);\n",
              "    }\n",
              "    90% {\n",
              "      border-color: transparent;\n",
              "      border-bottom-color: var(--fill-color);\n",
              "    }\n",
              "  }\n",
              "</style>\n",
              "\n",
              "  <script>\n",
              "    async function quickchart(key) {\n",
              "      const quickchartButtonEl =\n",
              "        document.querySelector('#' + key + ' button');\n",
              "      quickchartButtonEl.disabled = true;  // To prevent multiple clicks.\n",
              "      quickchartButtonEl.classList.add('colab-df-spinner');\n",
              "      try {\n",
              "        const charts = await google.colab.kernel.invokeFunction(\n",
              "            'suggestCharts', [key], {});\n",
              "      } catch (error) {\n",
              "        console.error('Error during call to suggestCharts:', error);\n",
              "      }\n",
              "      quickchartButtonEl.classList.remove('colab-df-spinner');\n",
              "      quickchartButtonEl.classList.add('colab-df-quickchart-complete');\n",
              "    }\n",
              "    (() => {\n",
              "      let quickchartButtonEl =\n",
              "        document.querySelector('#df-981b21de-03c1-46aa-b94e-875b97987953 button');\n",
              "      quickchartButtonEl.style.display =\n",
              "        google.colab.kernel.accessAllowed ? 'block' : 'none';\n",
              "    })();\n",
              "  </script>\n",
              "</div>\n",
              "\n",
              "  <div id=\"id_7379ec6e-16c2-410c-8fd5-c140b4a3c18b\">\n",
              "    <style>\n",
              "      .colab-df-generate {\n",
              "        background-color: #E8F0FE;\n",
              "        border: none;\n",
              "        border-radius: 50%;\n",
              "        cursor: pointer;\n",
              "        display: none;\n",
              "        fill: #1967D2;\n",
              "        height: 32px;\n",
              "        padding: 0 0 0 0;\n",
              "        width: 32px;\n",
              "      }\n",
              "\n",
              "      .colab-df-generate:hover {\n",
              "        background-color: #E2EBFA;\n",
              "        box-shadow: 0px 1px 2px rgba(60, 64, 67, 0.3), 0px 1px 3px 1px rgba(60, 64, 67, 0.15);\n",
              "        fill: #174EA6;\n",
              "      }\n",
              "\n",
              "      [theme=dark] .colab-df-generate {\n",
              "        background-color: #3B4455;\n",
              "        fill: #D2E3FC;\n",
              "      }\n",
              "\n",
              "      [theme=dark] .colab-df-generate:hover {\n",
              "        background-color: #434B5C;\n",
              "        box-shadow: 0px 1px 3px 1px rgba(0, 0, 0, 0.15);\n",
              "        filter: drop-shadow(0px 1px 2px rgba(0, 0, 0, 0.3));\n",
              "        fill: #FFFFFF;\n",
              "      }\n",
              "    </style>\n",
              "    <button class=\"colab-df-generate\" onclick=\"generateWithVariable('station_capacity')\"\n",
              "            title=\"Generate code using this dataframe.\"\n",
              "            style=\"display:none;\">\n",
              "\n",
              "  <svg xmlns=\"http://www.w3.org/2000/svg\" height=\"24px\"viewBox=\"0 0 24 24\"\n",
              "       width=\"24px\">\n",
              "    <path d=\"M7,19H8.4L18.45,9,17,7.55,7,17.6ZM5,21V16.75L18.45,3.32a2,2,0,0,1,2.83,0l1.4,1.43a1.91,1.91,0,0,1,.58,1.4,1.91,1.91,0,0,1-.58,1.4L9.25,21ZM18.45,9,17,7.55Zm-12,3A5.31,5.31,0,0,0,4.9,8.1,5.31,5.31,0,0,0,1,6.5,5.31,5.31,0,0,0,4.9,4.9,5.31,5.31,0,0,0,6.5,1,5.31,5.31,0,0,0,8.1,4.9,5.31,5.31,0,0,0,12,6.5,5.46,5.46,0,0,0,6.5,12Z\"/>\n",
              "  </svg>\n",
              "    </button>\n",
              "    <script>\n",
              "      (() => {\n",
              "      const buttonEl =\n",
              "        document.querySelector('#id_7379ec6e-16c2-410c-8fd5-c140b4a3c18b button.colab-df-generate');\n",
              "      buttonEl.style.display =\n",
              "        google.colab.kernel.accessAllowed ? 'block' : 'none';\n",
              "\n",
              "      buttonEl.onclick = () => {\n",
              "        google.colab.notebook.generateWithVariable('station_capacity');\n",
              "      }\n",
              "      })();\n",
              "    </script>\n",
              "  </div>\n",
              "\n",
              "    </div>\n",
              "  </div>\n"
            ],
            "application/vnd.google.colaboratory.intrinsic+json": {
              "type": "dataframe",
              "variable_name": "station_capacity",
              "summary": "{\n  \"name\": \"station_capacity\",\n  \"rows\": 15,\n  \"fields\": [\n    {\n      \"column\": \"station_id\",\n      \"properties\": {\n        \"dtype\": \"number\",\n        \"std\": 102,\n        \"min\": 7006,\n        \"max\": 7389,\n        \"num_unique_values\": 15,\n        \"samples\": [\n          7089,\n          7102,\n          7006\n        ],\n        \"semantic_type\": \"\",\n        \"description\": \"\"\n      }\n    },\n    {\n      \"column\": \"capacity\",\n      \"properties\": {\n        \"dtype\": \"number\",\n        \"std\": 11,\n        \"min\": 12,\n        \"max\": 57,\n        \"num_unique_values\": 10,\n        \"samples\": [\n          12,\n          19,\n          57\n        ],\n        \"semantic_type\": \"\",\n        \"description\": \"\"\n      }\n    }\n  ]\n}"
            }
          },
          "metadata": {},
          "execution_count": 6
        }
      ]
    },
    {
      "cell_type": "code",
      "source": [
        "ridership_2024_march_full_pred.columns"
      ],
      "metadata": {
        "colab": {
          "base_uri": "https://localhost:8080/"
        },
        "id": "hMv6J6OzHb30",
        "outputId": "ecbeafaf-11ad-4c9d-f354-9b290943a4fe"
      },
      "execution_count": 7,
      "outputs": [
        {
          "output_type": "execute_result",
          "data": {
            "text/plain": [
              "Index(['Station Id', 'Year', 'Month', 'Day', 'Hour', 'Temp (°C)',\n",
              "       'Rel Hum (%)', 'Wind Spd (km/h)', 'Visibility (km)', 'Rain-related',\n",
              "       'Snow-related', 'Clear/Cloudy', 'Obstructive', 'Freezing', 'Extreme',\n",
              "       'Smoke', 'Check-Outs', 'Check-Ins'],\n",
              "      dtype='object')"
            ]
          },
          "metadata": {},
          "execution_count": 7
        }
      ]
    },
    {
      "cell_type": "code",
      "source": [
        "# For all \"Station Id\", find the max \"Check-Outs\" and \"Check-Ins\"\n",
        "\n",
        "compare_df = {\"Station Id\": [],\n",
        "              \"Capacity\": [],\n",
        "              \"Check-Outs\": [],\n",
        "              \"Check-In\": []}\n",
        "\n",
        "for stn_id in ridership_2024_march_full_pred[\"Station Id\"].unique():\n",
        "    max_checkouts = ridership_2024_march_full_pred.loc[ridership_2024_march_full_pred[\"Station Id\"] == stn_id, \"Check-Outs\"].max()\n",
        "    max_checkins = ridership_2024_march_full_pred.loc[ridership_2024_march_full_pred[\"Station Id\"] == stn_id, \"Check-Ins\"].max()\n",
        "    compare_df[\"Station Id\"].append(stn_id)\n",
        "    compare_df[\"Capacity\"].append(station_capacity.loc[station_capacity[\"station_id\"] == stn_id, \"capacity\"].values[0])\n",
        "    compare_df[\"Check-Outs\"].append(max_checkouts)\n",
        "    compare_df[\"Check-In\"].append(max_checkins)\n",
        "\n",
        "compare_df = pd.DataFrame(compare_df)\n",
        "compare_df"
      ],
      "metadata": {
        "colab": {
          "base_uri": "https://localhost:8080/",
          "height": 519
        },
        "id": "yUlc5SOypUdd",
        "outputId": "69dc65b1-4edf-42d4-a76b-32c185621ca5"
      },
      "execution_count": 13,
      "outputs": [
        {
          "output_type": "execute_result",
          "data": {
            "text/plain": [
              "    Station Id  Capacity  Check-Outs  Check-In\n",
              "0         7006        31       11.17     10.46\n",
              "1         7033        43        8.82     11.42\n",
              "2         7121        27        5.54      5.66\n",
              "3         7100        27        8.33     10.98\n",
              "4         7076        57       19.17     15.36\n",
              "5         7022        39        8.09     10.03\n",
              "6         7030        35        8.20      6.71\n",
              "7         7007        19        7.42      6.71\n",
              "8         7044        35        3.69      5.09\n",
              "9         7089        27        6.47      7.45\n",
              "10        7389        25        6.52      5.70\n",
              "11        7078        15        7.63      9.49\n",
              "12        7038        31       12.97     12.53\n",
              "13        7253        12        6.48      6.19\n",
              "14        7102        31        7.80      8.11"
            ],
            "text/html": [
              "\n",
              "  <div id=\"df-c27faa34-628f-4e78-95f0-f2c6285be297\" class=\"colab-df-container\">\n",
              "    <div>\n",
              "<style scoped>\n",
              "    .dataframe tbody tr th:only-of-type {\n",
              "        vertical-align: middle;\n",
              "    }\n",
              "\n",
              "    .dataframe tbody tr th {\n",
              "        vertical-align: top;\n",
              "    }\n",
              "\n",
              "    .dataframe thead th {\n",
              "        text-align: right;\n",
              "    }\n",
              "</style>\n",
              "<table border=\"1\" class=\"dataframe\">\n",
              "  <thead>\n",
              "    <tr style=\"text-align: right;\">\n",
              "      <th></th>\n",
              "      <th>Station Id</th>\n",
              "      <th>Capacity</th>\n",
              "      <th>Check-Outs</th>\n",
              "      <th>Check-In</th>\n",
              "    </tr>\n",
              "  </thead>\n",
              "  <tbody>\n",
              "    <tr>\n",
              "      <th>0</th>\n",
              "      <td>7006</td>\n",
              "      <td>31</td>\n",
              "      <td>11.17</td>\n",
              "      <td>10.46</td>\n",
              "    </tr>\n",
              "    <tr>\n",
              "      <th>1</th>\n",
              "      <td>7033</td>\n",
              "      <td>43</td>\n",
              "      <td>8.82</td>\n",
              "      <td>11.42</td>\n",
              "    </tr>\n",
              "    <tr>\n",
              "      <th>2</th>\n",
              "      <td>7121</td>\n",
              "      <td>27</td>\n",
              "      <td>5.54</td>\n",
              "      <td>5.66</td>\n",
              "    </tr>\n",
              "    <tr>\n",
              "      <th>3</th>\n",
              "      <td>7100</td>\n",
              "      <td>27</td>\n",
              "      <td>8.33</td>\n",
              "      <td>10.98</td>\n",
              "    </tr>\n",
              "    <tr>\n",
              "      <th>4</th>\n",
              "      <td>7076</td>\n",
              "      <td>57</td>\n",
              "      <td>19.17</td>\n",
              "      <td>15.36</td>\n",
              "    </tr>\n",
              "    <tr>\n",
              "      <th>5</th>\n",
              "      <td>7022</td>\n",
              "      <td>39</td>\n",
              "      <td>8.09</td>\n",
              "      <td>10.03</td>\n",
              "    </tr>\n",
              "    <tr>\n",
              "      <th>6</th>\n",
              "      <td>7030</td>\n",
              "      <td>35</td>\n",
              "      <td>8.20</td>\n",
              "      <td>6.71</td>\n",
              "    </tr>\n",
              "    <tr>\n",
              "      <th>7</th>\n",
              "      <td>7007</td>\n",
              "      <td>19</td>\n",
              "      <td>7.42</td>\n",
              "      <td>6.71</td>\n",
              "    </tr>\n",
              "    <tr>\n",
              "      <th>8</th>\n",
              "      <td>7044</td>\n",
              "      <td>35</td>\n",
              "      <td>3.69</td>\n",
              "      <td>5.09</td>\n",
              "    </tr>\n",
              "    <tr>\n",
              "      <th>9</th>\n",
              "      <td>7089</td>\n",
              "      <td>27</td>\n",
              "      <td>6.47</td>\n",
              "      <td>7.45</td>\n",
              "    </tr>\n",
              "    <tr>\n",
              "      <th>10</th>\n",
              "      <td>7389</td>\n",
              "      <td>25</td>\n",
              "      <td>6.52</td>\n",
              "      <td>5.70</td>\n",
              "    </tr>\n",
              "    <tr>\n",
              "      <th>11</th>\n",
              "      <td>7078</td>\n",
              "      <td>15</td>\n",
              "      <td>7.63</td>\n",
              "      <td>9.49</td>\n",
              "    </tr>\n",
              "    <tr>\n",
              "      <th>12</th>\n",
              "      <td>7038</td>\n",
              "      <td>31</td>\n",
              "      <td>12.97</td>\n",
              "      <td>12.53</td>\n",
              "    </tr>\n",
              "    <tr>\n",
              "      <th>13</th>\n",
              "      <td>7253</td>\n",
              "      <td>12</td>\n",
              "      <td>6.48</td>\n",
              "      <td>6.19</td>\n",
              "    </tr>\n",
              "    <tr>\n",
              "      <th>14</th>\n",
              "      <td>7102</td>\n",
              "      <td>31</td>\n",
              "      <td>7.80</td>\n",
              "      <td>8.11</td>\n",
              "    </tr>\n",
              "  </tbody>\n",
              "</table>\n",
              "</div>\n",
              "    <div class=\"colab-df-buttons\">\n",
              "\n",
              "  <div class=\"colab-df-container\">\n",
              "    <button class=\"colab-df-convert\" onclick=\"convertToInteractive('df-c27faa34-628f-4e78-95f0-f2c6285be297')\"\n",
              "            title=\"Convert this dataframe to an interactive table.\"\n",
              "            style=\"display:none;\">\n",
              "\n",
              "  <svg xmlns=\"http://www.w3.org/2000/svg\" height=\"24px\" viewBox=\"0 -960 960 960\">\n",
              "    <path d=\"M120-120v-720h720v720H120Zm60-500h600v-160H180v160Zm220 220h160v-160H400v160Zm0 220h160v-160H400v160ZM180-400h160v-160H180v160Zm440 0h160v-160H620v160ZM180-180h160v-160H180v160Zm440 0h160v-160H620v160Z\"/>\n",
              "  </svg>\n",
              "    </button>\n",
              "\n",
              "  <style>\n",
              "    .colab-df-container {\n",
              "      display:flex;\n",
              "      gap: 12px;\n",
              "    }\n",
              "\n",
              "    .colab-df-convert {\n",
              "      background-color: #E8F0FE;\n",
              "      border: none;\n",
              "      border-radius: 50%;\n",
              "      cursor: pointer;\n",
              "      display: none;\n",
              "      fill: #1967D2;\n",
              "      height: 32px;\n",
              "      padding: 0 0 0 0;\n",
              "      width: 32px;\n",
              "    }\n",
              "\n",
              "    .colab-df-convert:hover {\n",
              "      background-color: #E2EBFA;\n",
              "      box-shadow: 0px 1px 2px rgba(60, 64, 67, 0.3), 0px 1px 3px 1px rgba(60, 64, 67, 0.15);\n",
              "      fill: #174EA6;\n",
              "    }\n",
              "\n",
              "    .colab-df-buttons div {\n",
              "      margin-bottom: 4px;\n",
              "    }\n",
              "\n",
              "    [theme=dark] .colab-df-convert {\n",
              "      background-color: #3B4455;\n",
              "      fill: #D2E3FC;\n",
              "    }\n",
              "\n",
              "    [theme=dark] .colab-df-convert:hover {\n",
              "      background-color: #434B5C;\n",
              "      box-shadow: 0px 1px 3px 1px rgba(0, 0, 0, 0.15);\n",
              "      filter: drop-shadow(0px 1px 2px rgba(0, 0, 0, 0.3));\n",
              "      fill: #FFFFFF;\n",
              "    }\n",
              "  </style>\n",
              "\n",
              "    <script>\n",
              "      const buttonEl =\n",
              "        document.querySelector('#df-c27faa34-628f-4e78-95f0-f2c6285be297 button.colab-df-convert');\n",
              "      buttonEl.style.display =\n",
              "        google.colab.kernel.accessAllowed ? 'block' : 'none';\n",
              "\n",
              "      async function convertToInteractive(key) {\n",
              "        const element = document.querySelector('#df-c27faa34-628f-4e78-95f0-f2c6285be297');\n",
              "        const dataTable =\n",
              "          await google.colab.kernel.invokeFunction('convertToInteractive',\n",
              "                                                    [key], {});\n",
              "        if (!dataTable) return;\n",
              "\n",
              "        const docLinkHtml = 'Like what you see? Visit the ' +\n",
              "          '<a target=\"_blank\" href=https://colab.research.google.com/notebooks/data_table.ipynb>data table notebook</a>'\n",
              "          + ' to learn more about interactive tables.';\n",
              "        element.innerHTML = '';\n",
              "        dataTable['output_type'] = 'display_data';\n",
              "        await google.colab.output.renderOutput(dataTable, element);\n",
              "        const docLink = document.createElement('div');\n",
              "        docLink.innerHTML = docLinkHtml;\n",
              "        element.appendChild(docLink);\n",
              "      }\n",
              "    </script>\n",
              "  </div>\n",
              "\n",
              "\n",
              "<div id=\"df-bf2b4a37-3b24-4cf8-8b3c-ead62e748291\">\n",
              "  <button class=\"colab-df-quickchart\" onclick=\"quickchart('df-bf2b4a37-3b24-4cf8-8b3c-ead62e748291')\"\n",
              "            title=\"Suggest charts\"\n",
              "            style=\"display:none;\">\n",
              "\n",
              "<svg xmlns=\"http://www.w3.org/2000/svg\" height=\"24px\"viewBox=\"0 0 24 24\"\n",
              "     width=\"24px\">\n",
              "    <g>\n",
              "        <path d=\"M19 3H5c-1.1 0-2 .9-2 2v14c0 1.1.9 2 2 2h14c1.1 0 2-.9 2-2V5c0-1.1-.9-2-2-2zM9 17H7v-7h2v7zm4 0h-2V7h2v10zm4 0h-2v-4h2v4z\"/>\n",
              "    </g>\n",
              "</svg>\n",
              "  </button>\n",
              "\n",
              "<style>\n",
              "  .colab-df-quickchart {\n",
              "      --bg-color: #E8F0FE;\n",
              "      --fill-color: #1967D2;\n",
              "      --hover-bg-color: #E2EBFA;\n",
              "      --hover-fill-color: #174EA6;\n",
              "      --disabled-fill-color: #AAA;\n",
              "      --disabled-bg-color: #DDD;\n",
              "  }\n",
              "\n",
              "  [theme=dark] .colab-df-quickchart {\n",
              "      --bg-color: #3B4455;\n",
              "      --fill-color: #D2E3FC;\n",
              "      --hover-bg-color: #434B5C;\n",
              "      --hover-fill-color: #FFFFFF;\n",
              "      --disabled-bg-color: #3B4455;\n",
              "      --disabled-fill-color: #666;\n",
              "  }\n",
              "\n",
              "  .colab-df-quickchart {\n",
              "    background-color: var(--bg-color);\n",
              "    border: none;\n",
              "    border-radius: 50%;\n",
              "    cursor: pointer;\n",
              "    display: none;\n",
              "    fill: var(--fill-color);\n",
              "    height: 32px;\n",
              "    padding: 0;\n",
              "    width: 32px;\n",
              "  }\n",
              "\n",
              "  .colab-df-quickchart:hover {\n",
              "    background-color: var(--hover-bg-color);\n",
              "    box-shadow: 0 1px 2px rgba(60, 64, 67, 0.3), 0 1px 3px 1px rgba(60, 64, 67, 0.15);\n",
              "    fill: var(--button-hover-fill-color);\n",
              "  }\n",
              "\n",
              "  .colab-df-quickchart-complete:disabled,\n",
              "  .colab-df-quickchart-complete:disabled:hover {\n",
              "    background-color: var(--disabled-bg-color);\n",
              "    fill: var(--disabled-fill-color);\n",
              "    box-shadow: none;\n",
              "  }\n",
              "\n",
              "  .colab-df-spinner {\n",
              "    border: 2px solid var(--fill-color);\n",
              "    border-color: transparent;\n",
              "    border-bottom-color: var(--fill-color);\n",
              "    animation:\n",
              "      spin 1s steps(1) infinite;\n",
              "  }\n",
              "\n",
              "  @keyframes spin {\n",
              "    0% {\n",
              "      border-color: transparent;\n",
              "      border-bottom-color: var(--fill-color);\n",
              "      border-left-color: var(--fill-color);\n",
              "    }\n",
              "    20% {\n",
              "      border-color: transparent;\n",
              "      border-left-color: var(--fill-color);\n",
              "      border-top-color: var(--fill-color);\n",
              "    }\n",
              "    30% {\n",
              "      border-color: transparent;\n",
              "      border-left-color: var(--fill-color);\n",
              "      border-top-color: var(--fill-color);\n",
              "      border-right-color: var(--fill-color);\n",
              "    }\n",
              "    40% {\n",
              "      border-color: transparent;\n",
              "      border-right-color: var(--fill-color);\n",
              "      border-top-color: var(--fill-color);\n",
              "    }\n",
              "    60% {\n",
              "      border-color: transparent;\n",
              "      border-right-color: var(--fill-color);\n",
              "    }\n",
              "    80% {\n",
              "      border-color: transparent;\n",
              "      border-right-color: var(--fill-color);\n",
              "      border-bottom-color: var(--fill-color);\n",
              "    }\n",
              "    90% {\n",
              "      border-color: transparent;\n",
              "      border-bottom-color: var(--fill-color);\n",
              "    }\n",
              "  }\n",
              "</style>\n",
              "\n",
              "  <script>\n",
              "    async function quickchart(key) {\n",
              "      const quickchartButtonEl =\n",
              "        document.querySelector('#' + key + ' button');\n",
              "      quickchartButtonEl.disabled = true;  // To prevent multiple clicks.\n",
              "      quickchartButtonEl.classList.add('colab-df-spinner');\n",
              "      try {\n",
              "        const charts = await google.colab.kernel.invokeFunction(\n",
              "            'suggestCharts', [key], {});\n",
              "      } catch (error) {\n",
              "        console.error('Error during call to suggestCharts:', error);\n",
              "      }\n",
              "      quickchartButtonEl.classList.remove('colab-df-spinner');\n",
              "      quickchartButtonEl.classList.add('colab-df-quickchart-complete');\n",
              "    }\n",
              "    (() => {\n",
              "      let quickchartButtonEl =\n",
              "        document.querySelector('#df-bf2b4a37-3b24-4cf8-8b3c-ead62e748291 button');\n",
              "      quickchartButtonEl.style.display =\n",
              "        google.colab.kernel.accessAllowed ? 'block' : 'none';\n",
              "    })();\n",
              "  </script>\n",
              "</div>\n",
              "\n",
              "  <div id=\"id_43f06201-a040-4d1d-9424-e658f05bfd6b\">\n",
              "    <style>\n",
              "      .colab-df-generate {\n",
              "        background-color: #E8F0FE;\n",
              "        border: none;\n",
              "        border-radius: 50%;\n",
              "        cursor: pointer;\n",
              "        display: none;\n",
              "        fill: #1967D2;\n",
              "        height: 32px;\n",
              "        padding: 0 0 0 0;\n",
              "        width: 32px;\n",
              "      }\n",
              "\n",
              "      .colab-df-generate:hover {\n",
              "        background-color: #E2EBFA;\n",
              "        box-shadow: 0px 1px 2px rgba(60, 64, 67, 0.3), 0px 1px 3px 1px rgba(60, 64, 67, 0.15);\n",
              "        fill: #174EA6;\n",
              "      }\n",
              "\n",
              "      [theme=dark] .colab-df-generate {\n",
              "        background-color: #3B4455;\n",
              "        fill: #D2E3FC;\n",
              "      }\n",
              "\n",
              "      [theme=dark] .colab-df-generate:hover {\n",
              "        background-color: #434B5C;\n",
              "        box-shadow: 0px 1px 3px 1px rgba(0, 0, 0, 0.15);\n",
              "        filter: drop-shadow(0px 1px 2px rgba(0, 0, 0, 0.3));\n",
              "        fill: #FFFFFF;\n",
              "      }\n",
              "    </style>\n",
              "    <button class=\"colab-df-generate\" onclick=\"generateWithVariable('compare_df')\"\n",
              "            title=\"Generate code using this dataframe.\"\n",
              "            style=\"display:none;\">\n",
              "\n",
              "  <svg xmlns=\"http://www.w3.org/2000/svg\" height=\"24px\"viewBox=\"0 0 24 24\"\n",
              "       width=\"24px\">\n",
              "    <path d=\"M7,19H8.4L18.45,9,17,7.55,7,17.6ZM5,21V16.75L18.45,3.32a2,2,0,0,1,2.83,0l1.4,1.43a1.91,1.91,0,0,1,.58,1.4,1.91,1.91,0,0,1-.58,1.4L9.25,21ZM18.45,9,17,7.55Zm-12,3A5.31,5.31,0,0,0,4.9,8.1,5.31,5.31,0,0,0,1,6.5,5.31,5.31,0,0,0,4.9,4.9,5.31,5.31,0,0,0,6.5,1,5.31,5.31,0,0,0,8.1,4.9,5.31,5.31,0,0,0,12,6.5,5.46,5.46,0,0,0,6.5,12Z\"/>\n",
              "  </svg>\n",
              "    </button>\n",
              "    <script>\n",
              "      (() => {\n",
              "      const buttonEl =\n",
              "        document.querySelector('#id_43f06201-a040-4d1d-9424-e658f05bfd6b button.colab-df-generate');\n",
              "      buttonEl.style.display =\n",
              "        google.colab.kernel.accessAllowed ? 'block' : 'none';\n",
              "\n",
              "      buttonEl.onclick = () => {\n",
              "        google.colab.notebook.generateWithVariable('compare_df');\n",
              "      }\n",
              "      })();\n",
              "    </script>\n",
              "  </div>\n",
              "\n",
              "    </div>\n",
              "  </div>\n"
            ],
            "application/vnd.google.colaboratory.intrinsic+json": {
              "type": "dataframe",
              "variable_name": "compare_df",
              "summary": "{\n  \"name\": \"compare_df\",\n  \"rows\": 15,\n  \"fields\": [\n    {\n      \"column\": \"Station Id\",\n      \"properties\": {\n        \"dtype\": \"number\",\n        \"std\": 102,\n        \"min\": 7006,\n        \"max\": 7389,\n        \"num_unique_values\": 15,\n        \"samples\": [\n          7089,\n          7078,\n          7006\n        ],\n        \"semantic_type\": \"\",\n        \"description\": \"\"\n      }\n    },\n    {\n      \"column\": \"Capacity\",\n      \"properties\": {\n        \"dtype\": \"number\",\n        \"std\": 11,\n        \"min\": 12,\n        \"max\": 57,\n        \"num_unique_values\": 10,\n        \"samples\": [\n          15,\n          43,\n          35\n        ],\n        \"semantic_type\": \"\",\n        \"description\": \"\"\n      }\n    },\n    {\n      \"column\": \"Check-Outs\",\n      \"properties\": {\n        \"dtype\": \"number\",\n        \"std\": 3.662139781675556,\n        \"min\": 3.6916559,\n        \"max\": 19.174646,\n        \"num_unique_values\": 15,\n        \"samples\": [\n          6.468635,\n          7.6329265,\n          11.1672325\n        ],\n        \"semantic_type\": \"\",\n        \"description\": \"\"\n      }\n    },\n    {\n      \"column\": \"Check-In\",\n      \"properties\": {\n        \"dtype\": \"number\",\n        \"std\": 2.980477939924674,\n        \"min\": 5.090578653013415,\n        \"max\": 15.355413154468948,\n        \"num_unique_values\": 15,\n        \"samples\": [\n          7.453514002756343,\n          9.4862147988268,\n          10.464379738181965\n        ],\n        \"semantic_type\": \"\",\n        \"description\": \"\"\n      }\n    }\n  ]\n}"
            }
          },
          "metadata": {},
          "execution_count": 13
        }
      ]
    },
    {
      "cell_type": "code",
      "source": [],
      "metadata": {
        "id": "fYwEC1leqQSR"
      },
      "execution_count": null,
      "outputs": []
    }
  ],
  "metadata": {
    "colab": {
      "provenance": []
    },
    "kernelspec": {
      "display_name": "Python 3",
      "name": "python3"
    },
    "language_info": {
      "name": "python"
    }
  },
  "nbformat": 4,
  "nbformat_minor": 0
}